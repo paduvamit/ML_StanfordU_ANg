{
 "cells": [
  {
   "cell_type": "code",
   "execution_count": 1,
   "metadata": {},
   "outputs": [],
   "source": [
    "addpath('machine-learning-ex2/ex2')"
   ]
  },
  {
   "cell_type": "code",
   "execution_count": 2,
   "metadata": {},
   "outputs": [
    {
     "name": "stdout",
     "output_type": "stream",
     "text": [
      "\r\n",
      "Octave's search path contains the following directories:\r\n",
      "\r\n",
      ".\r\n",
      "machine-learning-ex2/ex2\r\n",
      "/opt/conda/lib/python3.7/site-packages/octave_kernel\r\n",
      "/usr/lib/x86_64-linux-gnu/octave/4.0.3/site/oct/x86_64-pc-linux-gnu\r\n",
      "/usr/lib/x86_64-linux-gnu/octave/site/oct/api-v50+/x86_64-pc-linux-gnu\r\n",
      "/usr/lib/x86_64-linux-gnu/octave/site/oct/x86_64-pc-linux-gnu\r\n",
      "/usr/share/octave/4.0.3/site/m\r\n",
      "/usr/share/octave/site/api-v50+/m\r\n",
      "/usr/share/octave/site/m\r\n",
      "/usr/share/octave/site/m/startup\r\n",
      "/usr/lib/x86_64-linux-gnu/octave/4.0.3/oct/x86_64-pc-linux-gnu\r\n",
      "/usr/share/octave/4.0.3/m\r\n",
      "/usr/share/octave/4.0.3/m/audio\r\n",
      "/usr/share/octave/4.0.3/m/debian\r\n",
      "/usr/share/octave/4.0.3/m/deprecated\r\n",
      "/usr/share/octave/4.0.3/m/elfun\r\n",
      "/usr/share/octave/4.0.3/m/general\r\n",
      "/usr/share/octave/4.0.3/m/geometry\r\n",
      "/usr/share/octave/4.0.3/m/gui\r\n",
      "/usr/share/octave/4.0.3/m/help\r\n",
      "/usr/share/octave/4.0.3/m/image\r\n",
      "/usr/share/octave/4.0.3/m/io\r\n",
      "/usr/share/octave/4.0.3/m/java\r\n",
      "/usr/share/octave/4.0.3/m/linear-algebra\r\n",
      "/usr/share/octave/4.0.3/m/miscellaneous\r\n",
      "/usr/share/octave/4.0.3/m/optimization\r\n",
      "/usr/share/octave/4.0.3/m/path\r\n",
      "/usr/share/octave/4.0.3/m/pkg\r\n",
      "/usr/share/octave/4.0.3/m/plot\r\n",
      "/usr/share/octave/4.0.3/m/plot/appearance\r\n",
      "/usr/share/octave/4.0.3/m/plot/draw\r\n",
      "/usr/share/octave/4.0.3/m/plot/util\r\n",
      "/usr/share/octave/4.0.3/m/polynomial\r\n",
      "/usr/share/octave/4.0.3/m/prefs\r\n",
      "/usr/share/octave/4.0.3/m/set\r\n",
      "/usr/share/octave/4.0.3/m/signal\r\n",
      "/usr/share/octave/4.0.3/m/sparse\r\n",
      "/usr/share/octave/4.0.3/m/specfun\r\n",
      "/usr/share/octave/4.0.3/m/special-matrix\r\n",
      "/usr/share/octave/4.0.3/m/startup\r\n",
      "/usr/share/octave/4.0.3/m/statistics\r\n",
      "/usr/share/octave/4.0.3/m/statistics/base\r\n",
      "/usr/share/octave/4.0.3/m/statistics/distributions\r\n",
      "/usr/share/octave/4.0.3/m/statistics/models\r\n",
      "/usr/share/octave/4.0.3/m/statistics/tests\r\n",
      "/usr/share/octave/4.0.3/m/strings\r\n",
      "/usr/share/octave/4.0.3/m/testfun\r\n",
      "/usr/share/octave/4.0.3/m/time\r\n",
      "/usr/share/octave/4.0.3/data\r\n",
      "\r\n"
     ]
    }
   ],
   "source": [
    "path()"
   ]
  },
  {
   "cell_type": "code",
   "execution_count": 3,
   "metadata": {},
   "outputs": [
    {
     "name": "stdout",
     "output_type": "stream",
     "text": [
      "'path' is a built-in function from the file libinterp/corefcn/load-path.cc\r\n",
      "\r\n",
      " -- Built-in Function: path (...)\r\n",
      "     Modify or display Octave's load path.\r\n",
      "\r\n",
      "     If NARGIN and NARGOUT are zero, display the elements of Octave's\r\n",
      "     load path in an easy to read format.\r\n",
      "\r\n",
      "     If NARGIN is zero and nargout is greater than zero, return the\r\n",
      "     current load path.\r\n",
      "\r\n",
      "     If NARGIN is greater than zero, concatenate the arguments,\r\n",
      "     separating them with 'pathsep'.  Set the internal search path to\r\n",
      "     the result and return it.\r\n",
      "\r\n",
      "     No checks are made for duplicate elements.\r\n",
      "\r\n",
      "     See also: addpath, rmpath, genpath, pathdef, savepath, pathsep.\r\n",
      "\r\n",
      "Additional help for built-in functions and operators is\r\n",
      "available in the online version of the manual.  Use the command\r\n",
      "'doc <topic>' to search the manual index.\r\n",
      "\r\n",
      "Help and information about Octave is also available on the WWW\r\n",
      "at http://www.octave.org and via the help@octave.org\r\n",
      "mailing list.\r\n"
     ]
    }
   ],
   "source": [
    "help path"
   ]
  },
  {
   "cell_type": "code",
   "execution_count": 4,
   "metadata": {},
   "outputs": [
    {
     "name": "stdout",
     "output_type": "stream",
     "text": [
      "'addpath' is a built-in function from the file libinterp/corefcn/load-path.cc\r\n",
      "\r\n",
      " -- Built-in Function: addpath (DIR1, ...)\r\n",
      " -- Built-in Function: addpath (DIR1, ..., OPTION)\r\n",
      "     Add named directories to the function search path.\r\n",
      "\r\n",
      "     If OPTION is \"-begin\" or 0 (the default), prepend the directory\r\n",
      "     name to the current path.  If OPTION is \"-end\" or 1, append the\r\n",
      "     directory name to the current path.  Directories added to the path\r\n",
      "     must exist.\r\n",
      "\r\n",
      "     In addition to accepting individual directory arguments, lists of\r\n",
      "     directory names separated by 'pathsep' are also accepted.  For\r\n",
      "     example:\r\n",
      "\r\n",
      "          addpath (\"dir1:/dir2:~/dir3\")\r\n",
      "\r\n",
      "     See also: path, rmpath, genpath, pathdef, savepath, pathsep.\r\n",
      "\r\n",
      "Additional help for built-in functions and operators is\r\n",
      "available in the online version of the manual.  Use the command\r\n",
      "'doc <topic>' to search the manual index.\r\n",
      "\r\n",
      "Help and information about Octave is also available on the WWW\r\n",
      "at http://www.octave.org and via the help@octave.org\r\n",
      "mailing list.\r\n"
     ]
    }
   ],
   "source": [
    "help addpath"
   ]
  },
  {
   "cell_type": "code",
   "execution_count": 5,
   "metadata": {},
   "outputs": [],
   "source": [
    "whos pwd"
   ]
  },
  {
   "cell_type": "code",
   "execution_count": 6,
   "metadata": {},
   "outputs": [
    {
     "name": "stdout",
     "output_type": "stream",
     "text": [
      "ans = /notebooks/MLCourse/Week3\r\n"
     ]
    }
   ],
   "source": [
    "pwd"
   ]
  },
  {
   "cell_type": "code",
   "execution_count": 7,
   "metadata": {},
   "outputs": [
    {
     "name": "stdout",
     "output_type": "stream",
     "text": [
      "Variables in the current scope:\r\n",
      "\r\n",
      "   Attr Name        Size                     Bytes  Class\r\n",
      "   ==== ====        ====                     =====  ===== \r\n",
      "        ans         1x25                        25  char\r\n",
      "\r\n",
      "Total is 25 elements using 25 bytes\r\n",
      "\r\n"
     ]
    }
   ],
   "source": [
    "whos ans"
   ]
  },
  {
   "cell_type": "code",
   "execution_count": 9,
   "metadata": {},
   "outputs": [
    {
     "name": "stdout",
     "output_type": "stream",
     "text": [
      "current_dir = /notebooks/MLCourse/Week3\r\n"
     ]
    }
   ],
   "source": [
    "current_dir = pwd"
   ]
  },
  {
   "cell_type": "code",
   "execution_count": 10,
   "metadata": {},
   "outputs": [],
   "source": [
    "rmpath('machine-learning-ex2/ex2')"
   ]
  },
  {
   "cell_type": "code",
   "execution_count": 11,
   "metadata": {},
   "outputs": [
    {
     "name": "stdout",
     "output_type": "stream",
     "text": [
      "\r\n",
      "Octave's search path contains the following directories:\r\n",
      "\r\n",
      ".\r\n",
      "/opt/conda/lib/python3.7/site-packages/octave_kernel\r\n",
      "/usr/lib/x86_64-linux-gnu/octave/4.0.3/site/oct/x86_64-pc-linux-gnu\r\n",
      "/usr/lib/x86_64-linux-gnu/octave/site/oct/api-v50+/x86_64-pc-linux-gnu\r\n",
      "/usr/lib/x86_64-linux-gnu/octave/site/oct/x86_64-pc-linux-gnu\r\n",
      "/usr/share/octave/4.0.3/site/m\r\n",
      "/usr/share/octave/site/api-v50+/m\r\n",
      "/usr/share/octave/site/m\r\n",
      "/usr/share/octave/site/m/startup\r\n",
      "/usr/lib/x86_64-linux-gnu/octave/4.0.3/oct/x86_64-pc-linux-gnu\r\n",
      "/usr/share/octave/4.0.3/m\r\n",
      "/usr/share/octave/4.0.3/m/audio\r\n",
      "/usr/share/octave/4.0.3/m/debian\r\n",
      "/usr/share/octave/4.0.3/m/deprecated\r\n",
      "/usr/share/octave/4.0.3/m/elfun\r\n",
      "/usr/share/octave/4.0.3/m/general\r\n",
      "/usr/share/octave/4.0.3/m/geometry\r\n",
      "/usr/share/octave/4.0.3/m/gui\r\n",
      "/usr/share/octave/4.0.3/m/help\r\n",
      "/usr/share/octave/4.0.3/m/image\r\n",
      "/usr/share/octave/4.0.3/m/io\r\n",
      "/usr/share/octave/4.0.3/m/java\r\n",
      "/usr/share/octave/4.0.3/m/linear-algebra\r\n",
      "/usr/share/octave/4.0.3/m/miscellaneous\r\n",
      "/usr/share/octave/4.0.3/m/optimization\r\n",
      "/usr/share/octave/4.0.3/m/path\r\n",
      "/usr/share/octave/4.0.3/m/pkg\r\n",
      "/usr/share/octave/4.0.3/m/plot\r\n",
      "/usr/share/octave/4.0.3/m/plot/appearance\r\n",
      "/usr/share/octave/4.0.3/m/plot/draw\r\n",
      "/usr/share/octave/4.0.3/m/plot/util\r\n",
      "/usr/share/octave/4.0.3/m/polynomial\r\n",
      "/usr/share/octave/4.0.3/m/prefs\r\n",
      "/usr/share/octave/4.0.3/m/set\r\n",
      "/usr/share/octave/4.0.3/m/signal\r\n",
      "/usr/share/octave/4.0.3/m/sparse\r\n",
      "/usr/share/octave/4.0.3/m/specfun\r\n",
      "/usr/share/octave/4.0.3/m/special-matrix\r\n",
      "/usr/share/octave/4.0.3/m/startup\r\n",
      "/usr/share/octave/4.0.3/m/statistics\r\n",
      "/usr/share/octave/4.0.3/m/statistics/base\r\n",
      "/usr/share/octave/4.0.3/m/statistics/distributions\r\n",
      "/usr/share/octave/4.0.3/m/statistics/models\r\n",
      "/usr/share/octave/4.0.3/m/statistics/tests\r\n",
      "/usr/share/octave/4.0.3/m/strings\r\n",
      "/usr/share/octave/4.0.3/m/testfun\r\n",
      "/usr/share/octave/4.0.3/m/time\r\n",
      "/usr/share/octave/4.0.3/data\r\n",
      "\r\n"
     ]
    }
   ],
   "source": [
    "path()"
   ]
  },
  {
   "cell_type": "code",
   "execution_count": 15,
   "metadata": {},
   "outputs": [],
   "source": [
    "addpath([current_dir '/machine-learning-ex2/ex2'],'-end')"
   ]
  },
  {
   "cell_type": "code",
   "execution_count": 16,
   "metadata": {},
   "outputs": [
    {
     "name": "stdout",
     "output_type": "stream",
     "text": [
      "\r\n",
      "Octave's search path contains the following directories:\r\n",
      "\r\n",
      ".\r\n",
      "/opt/conda/lib/python3.7/site-packages/octave_kernel\r\n",
      "/usr/lib/x86_64-linux-gnu/octave/4.0.3/site/oct/x86_64-pc-linux-gnu\r\n",
      "/usr/lib/x86_64-linux-gnu/octave/site/oct/api-v50+/x86_64-pc-linux-gnu\r\n",
      "/usr/lib/x86_64-linux-gnu/octave/site/oct/x86_64-pc-linux-gnu\r\n",
      "/usr/share/octave/4.0.3/site/m\r\n",
      "/usr/share/octave/site/api-v50+/m\r\n",
      "/usr/share/octave/site/m\r\n",
      "/usr/share/octave/site/m/startup\r\n",
      "/usr/lib/x86_64-linux-gnu/octave/4.0.3/oct/x86_64-pc-linux-gnu\r\n",
      "/usr/share/octave/4.0.3/m\r\n",
      "/usr/share/octave/4.0.3/m/audio\r\n",
      "/usr/share/octave/4.0.3/m/debian\r\n",
      "/usr/share/octave/4.0.3/m/deprecated\r\n",
      "/usr/share/octave/4.0.3/m/elfun\r\n",
      "/usr/share/octave/4.0.3/m/general\r\n",
      "/usr/share/octave/4.0.3/m/geometry\r\n",
      "/usr/share/octave/4.0.3/m/gui\r\n",
      "/usr/share/octave/4.0.3/m/help\r\n",
      "/usr/share/octave/4.0.3/m/image\r\n",
      "/usr/share/octave/4.0.3/m/io\r\n",
      "/usr/share/octave/4.0.3/m/java\r\n",
      "/usr/share/octave/4.0.3/m/linear-algebra\r\n",
      "/usr/share/octave/4.0.3/m/miscellaneous\r\n",
      "/usr/share/octave/4.0.3/m/optimization\r\n",
      "/usr/share/octave/4.0.3/m/path\r\n",
      "/usr/share/octave/4.0.3/m/pkg\r\n",
      "/usr/share/octave/4.0.3/m/plot\r\n",
      "/usr/share/octave/4.0.3/m/plot/appearance\r\n",
      "/usr/share/octave/4.0.3/m/plot/draw\r\n",
      "/usr/share/octave/4.0.3/m/plot/util\r\n",
      "/usr/share/octave/4.0.3/m/polynomial\r\n",
      "/usr/share/octave/4.0.3/m/prefs\r\n",
      "/usr/share/octave/4.0.3/m/set\r\n",
      "/usr/share/octave/4.0.3/m/signal\r\n",
      "/usr/share/octave/4.0.3/m/sparse\r\n",
      "/usr/share/octave/4.0.3/m/specfun\r\n",
      "/usr/share/octave/4.0.3/m/special-matrix\r\n",
      "/usr/share/octave/4.0.3/m/startup\r\n",
      "/usr/share/octave/4.0.3/m/statistics\r\n",
      "/usr/share/octave/4.0.3/m/statistics/base\r\n",
      "/usr/share/octave/4.0.3/m/statistics/distributions\r\n",
      "/usr/share/octave/4.0.3/m/statistics/models\r\n",
      "/usr/share/octave/4.0.3/m/statistics/tests\r\n",
      "/usr/share/octave/4.0.3/m/strings\r\n",
      "/usr/share/octave/4.0.3/m/testfun\r\n",
      "/usr/share/octave/4.0.3/m/time\r\n",
      "/usr/share/octave/4.0.3/data\r\n",
      "/notebooks/MLCourse/Week3/machine-learning-ex2/ex2\r\n",
      "\r\n"
     ]
    }
   ],
   "source": [
    "path()"
   ]
  },
  {
   "cell_type": "code",
   "execution_count": 17,
   "metadata": {},
   "outputs": [
    {
     "name": "stdout",
     "output_type": "stream",
     "text": [
      "'plot' is a function from the file /usr/share/octave/4.0.3/m/plot/draw/plot.m\r\n",
      "\r\n",
      " -- Function File: plot (Y)\r\n",
      " -- Function File: plot (X, Y)\r\n",
      " -- Function File: plot (X, Y, FMT)\r\n",
      " -- Function File: plot (..., PROPERTY, VALUE, ...)\r\n",
      " -- Function File: plot (X1, Y1, ..., XN, YN)\r\n",
      " -- Function File: plot (HAX, ...)\r\n",
      " -- Function File: H = plot (...)\r\n",
      "     Produce 2-D plots.\r\n",
      "\r\n",
      "     Many different combinations of arguments are possible.  The\r\n",
      "     simplest form is\r\n",
      "\r\n",
      "          plot (Y)\r\n",
      "\r\n",
      "     where the argument is taken as the set of Y coordinates and the X\r\n",
      "     coordinates are taken to be the range '1:numel (Y)'.\r\n",
      "\r\n",
      "     If more than one argument is given, they are interpreted as\r\n",
      "\r\n",
      "          plot (Y, PROPERTY, VALUE, ...)\r\n",
      "\r\n",
      "     or\r\n",
      "\r\n",
      "          plot (X, Y, PROPERTY, VALUE, ...)\r\n",
      "\r\n",
      "     or\r\n",
      "\r\n",
      "          plot (X, Y, FMT, ...)\r\n",
      "\r\n",
      "     and so on.  Any number of argument sets may appear.  The X and Y\r\n",
      "     values are interpreted as follows:\r\n",
      "\r\n",
      "        * If a single data argument is supplied, it is taken as the set\r\n",
      "          of Y coordinates and the X coordinates are taken to be the\r\n",
      "          indices of the elements, starting with 1.\r\n",
      "\r\n",
      "        * If X and Y are scalars, a single point is plotted.\r\n",
      "\r\n",
      "        * 'squeeze()' is applied to arguments with more than two\r\n",
      "          dimensions, but no more than two singleton dimensions.\r\n",
      "\r\n",
      "        * If both arguments are vectors, the elements of Y are plotted\r\n",
      "          versus the elements of X.\r\n",
      "\r\n",
      "        * If X is a vector and Y is a matrix, then the columns (or rows)\r\n",
      "          of Y are plotted versus X.  (using whichever combination\r\n",
      "          matches, with columns tried first.)\r\n",
      "\r\n",
      "        * If the X is a matrix and Y is a vector, Y is plotted versus\r\n",
      "          the columns (or rows) of X.  (using whichever combination\r\n",
      "          matches, with columns tried first.)\r\n",
      "\r\n",
      "        * If both arguments are matrices, the columns of Y are plotted\r\n",
      "          versus the columns of X.  In this case, both matrices must\r\n",
      "          have the same number of rows and columns and no attempt is\r\n",
      "          made to transpose the arguments to make the number of rows\r\n",
      "          match.\r\n",
      "\r\n",
      "     Multiple property-value pairs may be specified, but they must\r\n",
      "     appear in pairs.  These arguments are applied to the line objects\r\n",
      "     drawn by 'plot'.  Useful properties to modify are \"linestyle\",\r\n",
      "     \"linewidth\", \"color\", \"marker\", \"markersize\", \"markeredgecolor\",\r\n",
      "     \"markerfacecolor\".  *Note Line Properties::.\r\n",
      "\r\n",
      "     The FMT format argument can also be used to control the plot style.\r\n",
      "     It is a string composed of four optional parts:\r\n",
      "     \"<linestyle><marker><color><;displayname;>\".  When a marker is\r\n",
      "     specified, but no linestyle, only the markers are plotted.\r\n",
      "     Similarly, if a linestyle is specified, but no marker, then only\r\n",
      "     lines are drawn.  If both are specified then lines and markers will\r\n",
      "     be plotted.  If no FMT and no PROPERTY/VALUE pairs are given, then\r\n",
      "     the default plot style is solid lines with no markers and the color\r\n",
      "     determined by the \"colororder\" property of the current axes.\r\n",
      "\r\n",
      "     Format arguments:\r\n",
      "\r\n",
      "     linestyle\r\n",
      "\r\n",
      "          '-'  Use solid lines (default).\r\n",
      "          '--' Use dashed lines.\r\n",
      "          ':'  Use dotted lines.\r\n",
      "          '-.' Use dash-dotted lines.\r\n",
      "\r\n",
      "     marker\r\n",
      "\r\n",
      "          '+'  crosshair\r\n",
      "          'o'  circle\r\n",
      "          '*'  star\r\n",
      "          '.'  point\r\n",
      "          'x'  cross\r\n",
      "          's'  square\r\n",
      "          'd'  diamond\r\n",
      "          '^'  upward-facing triangle\r\n",
      "          'v'  downward-facing triangle\r\n",
      "          '>'  right-facing triangle\r\n",
      "          '<'  left-facing triangle\r\n",
      "          'p'  pentagram\r\n",
      "          'h'  hexagram\r\n",
      "\r\n",
      "     color\r\n",
      "\r\n",
      "          'k'  blacK\r\n",
      "          'r'  Red\r\n",
      "          'g'  Green\r\n",
      "          'b'  Blue\r\n",
      "          'm'  Magenta\r\n",
      "          'c'  Cyan\r\n",
      "          'w'  White\r\n",
      "\r\n",
      "     \";displayname;\"\r\n",
      "          Here \"displayname\" is the label to use for the plot legend.\r\n",
      "\r\n",
      "     The FMT argument may also be used to assign legend labels.  To do\r\n",
      "     so, include the desired label between semicolons after the\r\n",
      "     formatting sequence described above, e.g., \"+b;Key Title;\".  Note\r\n",
      "     that the last semicolon is required and Octave will generate an\r\n",
      "     error if it is left out.\r\n",
      "\r\n",
      "     Here are some plot examples:\r\n",
      "\r\n",
      "          plot (x, y, \"or\", x, y2, x, y3, \"m\", x, y4, \"+\")\r\n",
      "\r\n",
      "     This command will plot 'y' with red circles, 'y2' with solid lines,\r\n",
      "     'y3' with solid magenta lines, and 'y4' with points displayed as\r\n",
      "     '+'.\r\n",
      "\r\n",
      "          plot (b, \"*\", \"markersize\", 10)\r\n",
      "\r\n",
      "     This command will plot the data in the variable 'b', with points\r\n",
      "     displayed as '*' and a marker size of 10.\r\n",
      "\r\n",
      "          t = 0:0.1:6.3;\r\n",
      "          plot (t, cos(t), \"-;cos(t);\", t, sin(t), \"-b;sin(t);\");\r\n",
      "\r\n",
      "     This will plot the cosine and sine functions and label them\r\n",
      "     accordingly in the legend.\r\n",
      "\r\n",
      "     If the first argument HAX is an axes handle, then plot into this\r\n",
      "     axis, rather than the current axes returned by 'gca'.\r\n",
      "\r\n",
      "     The optional return value H is a vector of graphics handles to the\r\n",
      "     created line objects.\r\n",
      "\r\n",
      "     To save a plot, in one of several image formats such as PostScript\r\n",
      "     or PNG, use the 'print' command.\r\n",
      "\r\n",
      "     See also: axis, box, grid, hold, legend, title, xlabel, ylabel,\r\n",
      "     xlim, ylim, ezplot, errorbar, fplot, line, plot3, polar, loglog,\r\n",
      "     semilogx, semilogy, subplot.\r\n",
      "\r\n",
      "Additional help for built-in functions and operators is\r\n",
      "available in the online version of the manual.  Use the command\r\n",
      "'doc <topic>' to search the manual index.\r\n",
      "\r\n",
      "Help and information about Octave is also available on the WWW\r\n",
      "at http://www.octave.org and via the help@octave.org\r\n",
      "mailing list.\r\n"
     ]
    }
   ],
   "source": [
    "help plot"
   ]
  },
  {
   "cell_type": "code",
   "execution_count": 18,
   "metadata": {},
   "outputs": [
    {
     "name": "stdout",
     "output_type": "stream",
     "text": [
      "'load' is a built-in function from the file libinterp/corefcn/load-save.cc\r\n",
      "\r\n",
      " -- Command: load file\r\n",
      " -- Command: load options file\r\n",
      " -- Command: load options file v1 v2 ...\r\n",
      " -- Command: S = load (\"options\", \"file\", \"v1\", \"v2\", ...)\r\n",
      " -- Command: load file options\r\n",
      " -- Command: load file options v1 v2 ...\r\n",
      " -- Command: S = load (\"file\", \"options\", \"v1\", \"v2\", ...)\r\n",
      "     Load the named variables V1, V2, ..., from the file FILE.\r\n",
      "\r\n",
      "     If no variables are specified then all variables found in the file\r\n",
      "     will be loaded.  As with 'save', the list of variables to extract\r\n",
      "     can be full names or use a pattern syntax.  The format of the file\r\n",
      "     is automatically detected but may be overridden by supplying the\r\n",
      "     appropriate option.\r\n",
      "\r\n",
      "     If load is invoked using the functional form\r\n",
      "\r\n",
      "          load (\"-option1\", ..., \"file\", \"v1\", ...)\r\n",
      "\r\n",
      "     then the OPTIONS, FILE, and variable name arguments (V1, ...) must\r\n",
      "     be specified as character strings.\r\n",
      "\r\n",
      "     If a variable that is not marked as global is loaded from a file\r\n",
      "     when a global symbol with the same name already exists, it is\r\n",
      "     loaded in the global symbol table.  Also, if a variable is marked\r\n",
      "     as global in a file and a local symbol exists, the local symbol is\r\n",
      "     moved to the global symbol table and given the value from the file.\r\n",
      "\r\n",
      "     If invoked with a single output argument, Octave returns data\r\n",
      "     instead of inserting variables in the symbol table.  If the data\r\n",
      "     file contains only numbers (TAB- or space-delimited columns), a\r\n",
      "     matrix of values is returned.  Otherwise, 'load' returns a\r\n",
      "     structure with members corresponding to the names of the variables\r\n",
      "     in the file.\r\n",
      "\r\n",
      "     The 'load' command can read data stored in Octave's text and binary\r\n",
      "     formats, and MATLAB's binary format.  If compiled with zlib\r\n",
      "     support, it can also load gzip-compressed files.  It will\r\n",
      "     automatically detect the type of file and do conversion from\r\n",
      "     different floating point formats (currently only IEEE big and\r\n",
      "     little endian, though other formats may be added in the future).\r\n",
      "\r\n",
      "     Valid options for 'load' are listed in the following table.\r\n",
      "\r\n",
      "     '-force'\r\n",
      "          This option is accepted for backward compatibility but is\r\n",
      "          ignored.  Octave now overwrites variables currently in memory\r\n",
      "          with those of the same name found in the file.\r\n",
      "\r\n",
      "     '-ascii'\r\n",
      "          Force Octave to assume the file contains columns of numbers in\r\n",
      "          text format without any header or other information.  Data in\r\n",
      "          the file will be loaded as a single numeric matrix with the\r\n",
      "          name of the variable derived from the name of the file.\r\n",
      "\r\n",
      "     '-binary'\r\n",
      "          Force Octave to assume the file is in Octave's binary format.\r\n",
      "\r\n",
      "     '-hdf5'\r\n",
      "          Force Octave to assume the file is in HDF5 format.  (HDF5 is a\r\n",
      "          free, portable binary format developed by the National Center\r\n",
      "          for Supercomputing Applications at the University of\r\n",
      "          Illinois.)  Note that Octave can read HDF5 files not created\r\n",
      "          by itself, but may skip some datasets in formats that it\r\n",
      "          cannot support.  This format is only available if Octave was\r\n",
      "          built with a link to the HDF5 libraries.\r\n",
      "\r\n",
      "     '-import'\r\n",
      "          This option is accepted for backward compatibility but is\r\n",
      "          ignored.  Octave can now support multi-dimensional HDF data\r\n",
      "          and automatically modifies variable names if they are invalid\r\n",
      "          Octave identifiers.\r\n",
      "\r\n",
      "     '-mat'\r\n",
      "     '-mat-binary'\r\n",
      "     '-6'\r\n",
      "     '-v6'\r\n",
      "     '-7'\r\n",
      "     '-v7'\r\n",
      "          Force Octave to assume the file is in MATLAB's version 6 or 7\r\n",
      "          binary format.\r\n",
      "\r\n",
      "     '-mat4-binary'\r\n",
      "     '-4'\r\n",
      "     '-v4'\r\n",
      "     '-V4'\r\n",
      "          Force Octave to assume the file is in the binary format\r\n",
      "          written by MATLAB version 4.\r\n",
      "\r\n",
      "     '-text'\r\n",
      "          Force Octave to assume the file is in Octave's text format.\r\n",
      "\r\n",
      "     See also: save, dlmwrite, csvwrite, fwrite.\r\n",
      "\r\n",
      "Additional help for built-in functions and operators is\r\n",
      "available in the online version of the manual.  Use the command\r\n",
      "'doc <topic>' to search the manual index.\r\n",
      "\r\n",
      "Help and information about Octave is also available on the WWW\r\n",
      "at http://www.octave.org and via the help@octave.org\r\n",
      "mailing list.\r\n"
     ]
    }
   ],
   "source": [
    "help load"
   ]
  },
  {
   "cell_type": "code",
   "execution_count": 19,
   "metadata": {},
   "outputs": [
    {
     "name": "stdout",
     "output_type": "stream",
     "text": [
      "warning: load: '/notebooks/MLCourse/Week3/machine-learning-ex2/ex2/ex2data1.txt' found by searching load path\r\n",
      "data =\r\n",
      "\r\n",
      "   34.62366   78.02469    0.00000\r\n",
      "   30.28671   43.89500    0.00000\r\n",
      "   35.84741   72.90220    0.00000\r\n",
      "   60.18260   86.30855    1.00000\r\n",
      "   79.03274   75.34438    1.00000\r\n",
      "   45.08328   56.31637    0.00000\r\n",
      "   61.10666   96.51143    1.00000\r\n",
      "   75.02475   46.55401    1.00000\r\n",
      "   76.09879   87.42057    1.00000\r\n",
      "   84.43282   43.53339    1.00000\r\n",
      "   95.86156   38.22528    0.00000\r\n",
      "   75.01366   30.60326    0.00000\r\n",
      "   82.30705   76.48196    1.00000\r\n",
      "   69.36459   97.71869    1.00000\r\n",
      "   39.53834   76.03681    0.00000\r\n",
      "   53.97105   89.20735    1.00000\r\n",
      "   69.07014   52.74047    1.00000\r\n",
      "   67.94686   46.67857    0.00000\r\n",
      "   70.66151   92.92714    1.00000\r\n",
      "   76.97878   47.57596    1.00000\r\n",
      "   67.37203   42.83844    0.00000\r\n",
      "   89.67678   65.79937    1.00000\r\n",
      "   50.53479   48.85581    0.00000\r\n",
      "   34.21206   44.20953    0.00000\r\n",
      "   77.92409   68.97236    1.00000\r\n",
      "   62.27101   69.95446    1.00000\r\n",
      "   80.19018   44.82163    1.00000\r\n",
      "   93.11439   38.80067    0.00000\r\n",
      "   61.83021   50.25611    0.00000\r\n",
      "   38.78580   64.99568    0.00000\r\n",
      "   61.37929   72.80789    1.00000\r\n",
      "   85.40452   57.05198    1.00000\r\n",
      "   52.10798   63.12762    0.00000\r\n",
      "   52.04540   69.43286    1.00000\r\n",
      "   40.23689   71.16775    0.00000\r\n",
      "   54.63511   52.21389    0.00000\r\n",
      "   33.91550   98.86944    0.00000\r\n",
      "   64.17699   80.90806    1.00000\r\n",
      "   74.78925   41.57342    0.00000\r\n",
      "   34.18364   75.23772    0.00000\r\n",
      "   83.90239   56.30805    1.00000\r\n",
      "   51.54772   46.85629    0.00000\r\n",
      "   94.44337   65.56892    1.00000\r\n",
      "   82.36875   40.61826    0.00000\r\n",
      "   51.04775   45.82270    0.00000\r\n",
      "   62.22268   52.06099    0.00000\r\n",
      "   77.19303   70.45820    1.00000\r\n",
      "   97.77160   86.72782    1.00000\r\n",
      "   62.07306   96.76882    1.00000\r\n",
      "   91.56497   88.69629    1.00000\r\n",
      "   79.94482   74.16312    1.00000\r\n",
      "   99.27253   60.99903    1.00000\r\n",
      "   90.54671   43.39060    1.00000\r\n",
      "   34.52451   60.39634    0.00000\r\n",
      "   50.28650   49.80454    0.00000\r\n",
      "   49.58668   59.80895    0.00000\r\n",
      "   97.64563   68.86157    1.00000\r\n",
      "   32.57720   95.59855    0.00000\r\n",
      "   74.24869   69.82457    1.00000\r\n",
      "   71.79646   78.45356    1.00000\r\n",
      "   75.39561   85.75994    1.00000\r\n",
      "   35.28611   47.02051    0.00000\r\n",
      "   56.25382   39.26147    0.00000\r\n",
      "   30.05882   49.59297    0.00000\r\n",
      "   44.66826   66.45009    0.00000\r\n",
      "   66.56089   41.09210    0.00000\r\n",
      "   40.45755   97.53519    1.00000\r\n",
      "   49.07256   51.88321    0.00000\r\n",
      "   80.27957   92.11606    1.00000\r\n",
      "   66.74672   60.99139    1.00000\r\n",
      "   32.72283   43.30717    0.00000\r\n",
      "   64.03932   78.03169    1.00000\r\n",
      "   72.34649   96.22759    1.00000\r\n",
      "   60.45789   73.09500    1.00000\r\n",
      "   58.84096   75.85845    1.00000\r\n",
      "   99.82786   72.36925    1.00000\r\n",
      "   47.26427   88.47586    1.00000\r\n",
      "   50.45816   75.80986    1.00000\r\n",
      "   60.45556   42.50841    0.00000\r\n",
      "   82.22666   42.71988    0.00000\r\n",
      "   88.91390   69.80379    1.00000\r\n",
      "   94.83451   45.69431    1.00000\r\n",
      "   67.31926   66.58935    1.00000\r\n",
      "   57.23871   59.51428    1.00000\r\n",
      "   80.36676   90.96015    1.00000\r\n",
      "   68.46852   85.59431    1.00000\r\n",
      "   42.07545   78.84479    0.00000\r\n",
      "   75.47770   90.42454    1.00000\r\n",
      "   78.63542   96.64743    1.00000\r\n",
      "   52.34800   60.76951    0.00000\r\n",
      "   94.09433   77.15911    1.00000\r\n",
      "   90.44855   87.50879    1.00000\r\n",
      "   55.48216   35.57070    0.00000\r\n",
      "   74.49269   84.84514    1.00000\r\n",
      "   89.84581   45.35828    1.00000\r\n",
      "   83.48916   48.38029    1.00000\r\n",
      "   42.26170   87.10385    1.00000\r\n",
      "   99.31501   68.77541    1.00000\r\n",
      "   55.34002   64.93194    1.00000\r\n",
      "   74.77589   89.52981    1.00000\r\n",
      "\r\n"
     ]
    }
   ],
   "source": [
    "data = load('ex2data1.txt')"
   ]
  },
  {
   "cell_type": "code",
   "execution_count": 20,
   "metadata": {},
   "outputs": [
    {
     "name": "stdout",
     "output_type": "stream",
     "text": [
      "ans =\r\n",
      "\r\n",
      "   1\r\n",
      "   1\r\n",
      "   1\r\n",
      "   0\r\n",
      "   0\r\n",
      "   1\r\n",
      "   0\r\n",
      "   0\r\n",
      "   0\r\n",
      "   0\r\n",
      "   1\r\n",
      "   1\r\n",
      "   0\r\n",
      "   0\r\n",
      "   1\r\n",
      "   0\r\n",
      "   0\r\n",
      "   1\r\n",
      "   0\r\n",
      "   0\r\n",
      "   1\r\n",
      "   0\r\n",
      "   1\r\n",
      "   1\r\n",
      "   0\r\n",
      "   0\r\n",
      "   0\r\n",
      "   1\r\n",
      "   1\r\n",
      "   1\r\n",
      "   0\r\n",
      "   0\r\n",
      "   1\r\n",
      "   0\r\n",
      "   1\r\n",
      "   1\r\n",
      "   1\r\n",
      "   0\r\n",
      "   1\r\n",
      "   1\r\n",
      "   0\r\n",
      "   1\r\n",
      "   0\r\n",
      "   1\r\n",
      "   1\r\n",
      "   1\r\n",
      "   0\r\n",
      "   0\r\n",
      "   0\r\n",
      "   0\r\n",
      "   0\r\n",
      "   0\r\n",
      "   0\r\n",
      "   1\r\n",
      "   1\r\n",
      "   1\r\n",
      "   0\r\n",
      "   1\r\n",
      "   0\r\n",
      "   0\r\n",
      "   0\r\n",
      "   1\r\n",
      "   1\r\n",
      "   1\r\n",
      "   1\r\n",
      "   1\r\n",
      "   0\r\n",
      "   1\r\n",
      "   0\r\n",
      "   0\r\n",
      "   1\r\n",
      "   0\r\n",
      "   0\r\n",
      "   0\r\n",
      "   0\r\n",
      "   0\r\n",
      "   0\r\n",
      "   0\r\n",
      "   1\r\n",
      "   1\r\n",
      "   0\r\n",
      "   0\r\n",
      "   0\r\n",
      "   0\r\n",
      "   0\r\n",
      "   0\r\n",
      "   1\r\n",
      "   0\r\n",
      "   0\r\n",
      "   1\r\n",
      "   0\r\n",
      "   0\r\n",
      "   1\r\n",
      "   0\r\n",
      "   0\r\n",
      "   0\r\n",
      "   0\r\n",
      "   0\r\n",
      "   0\r\n",
      "   0\r\n",
      "\r\n"
     ]
    }
   ],
   "source": [
    "data(:,3) == 0"
   ]
  },
  {
   "cell_type": "code",
   "execution_count": 21,
   "metadata": {},
   "outputs": [
    {
     "name": "stdout",
     "output_type": "stream",
     "text": [
      "error: help: 'data' not found\r\n"
     ]
    }
   ],
   "source": [
    "help data"
   ]
  },
  {
   "cell_type": "code",
   "execution_count": 22,
   "metadata": {},
   "outputs": [
    {
     "name": "stdout",
     "output_type": "stream",
     "text": [
      "data =\r\n",
      "\r\n",
      "   34.62366   78.02469    0.00000\r\n",
      "   30.28671   43.89500    0.00000\r\n",
      "   35.84741   72.90220    0.00000\r\n",
      "   60.18260   86.30855    1.00000\r\n",
      "   79.03274   75.34438    1.00000\r\n",
      "   45.08328   56.31637    0.00000\r\n",
      "   61.10666   96.51143    1.00000\r\n",
      "   75.02475   46.55401    1.00000\r\n",
      "   76.09879   87.42057    1.00000\r\n",
      "   84.43282   43.53339    1.00000\r\n",
      "   95.86156   38.22528    0.00000\r\n",
      "   75.01366   30.60326    0.00000\r\n",
      "   82.30705   76.48196    1.00000\r\n",
      "   69.36459   97.71869    1.00000\r\n",
      "   39.53834   76.03681    0.00000\r\n",
      "   53.97105   89.20735    1.00000\r\n",
      "   69.07014   52.74047    1.00000\r\n",
      "   67.94686   46.67857    0.00000\r\n",
      "   70.66151   92.92714    1.00000\r\n",
      "   76.97878   47.57596    1.00000\r\n",
      "   67.37203   42.83844    0.00000\r\n",
      "   89.67678   65.79937    1.00000\r\n",
      "   50.53479   48.85581    0.00000\r\n",
      "   34.21206   44.20953    0.00000\r\n",
      "   77.92409   68.97236    1.00000\r\n",
      "   62.27101   69.95446    1.00000\r\n",
      "   80.19018   44.82163    1.00000\r\n",
      "   93.11439   38.80067    0.00000\r\n",
      "   61.83021   50.25611    0.00000\r\n",
      "   38.78580   64.99568    0.00000\r\n",
      "   61.37929   72.80789    1.00000\r\n",
      "   85.40452   57.05198    1.00000\r\n",
      "   52.10798   63.12762    0.00000\r\n",
      "   52.04540   69.43286    1.00000\r\n",
      "   40.23689   71.16775    0.00000\r\n",
      "   54.63511   52.21389    0.00000\r\n",
      "   33.91550   98.86944    0.00000\r\n",
      "   64.17699   80.90806    1.00000\r\n",
      "   74.78925   41.57342    0.00000\r\n",
      "   34.18364   75.23772    0.00000\r\n",
      "   83.90239   56.30805    1.00000\r\n",
      "   51.54772   46.85629    0.00000\r\n",
      "   94.44337   65.56892    1.00000\r\n",
      "   82.36875   40.61826    0.00000\r\n",
      "   51.04775   45.82270    0.00000\r\n",
      "   62.22268   52.06099    0.00000\r\n",
      "   77.19303   70.45820    1.00000\r\n",
      "   97.77160   86.72782    1.00000\r\n",
      "   62.07306   96.76882    1.00000\r\n",
      "   91.56497   88.69629    1.00000\r\n",
      "   79.94482   74.16312    1.00000\r\n",
      "   99.27253   60.99903    1.00000\r\n",
      "   90.54671   43.39060    1.00000\r\n",
      "   34.52451   60.39634    0.00000\r\n",
      "   50.28650   49.80454    0.00000\r\n",
      "   49.58668   59.80895    0.00000\r\n",
      "   97.64563   68.86157    1.00000\r\n",
      "   32.57720   95.59855    0.00000\r\n",
      "   74.24869   69.82457    1.00000\r\n",
      "   71.79646   78.45356    1.00000\r\n",
      "   75.39561   85.75994    1.00000\r\n",
      "   35.28611   47.02051    0.00000\r\n",
      "   56.25382   39.26147    0.00000\r\n",
      "   30.05882   49.59297    0.00000\r\n",
      "   44.66826   66.45009    0.00000\r\n",
      "   66.56089   41.09210    0.00000\r\n",
      "   40.45755   97.53519    1.00000\r\n",
      "   49.07256   51.88321    0.00000\r\n",
      "   80.27957   92.11606    1.00000\r\n",
      "   66.74672   60.99139    1.00000\r\n",
      "   32.72283   43.30717    0.00000\r\n",
      "   64.03932   78.03169    1.00000\r\n",
      "   72.34649   96.22759    1.00000\r\n",
      "   60.45789   73.09500    1.00000\r\n",
      "   58.84096   75.85845    1.00000\r\n",
      "   99.82786   72.36925    1.00000\r\n",
      "   47.26427   88.47586    1.00000\r\n",
      "   50.45816   75.80986    1.00000\r\n",
      "   60.45556   42.50841    0.00000\r\n",
      "   82.22666   42.71988    0.00000\r\n",
      "   88.91390   69.80379    1.00000\r\n",
      "   94.83451   45.69431    1.00000\r\n",
      "   67.31926   66.58935    1.00000\r\n",
      "   57.23871   59.51428    1.00000\r\n",
      "   80.36676   90.96015    1.00000\r\n",
      "   68.46852   85.59431    1.00000\r\n",
      "   42.07545   78.84479    0.00000\r\n",
      "   75.47770   90.42454    1.00000\r\n",
      "   78.63542   96.64743    1.00000\r\n",
      "   52.34800   60.76951    0.00000\r\n",
      "   94.09433   77.15911    1.00000\r\n",
      "   90.44855   87.50879    1.00000\r\n",
      "   55.48216   35.57070    0.00000\r\n",
      "   74.49269   84.84514    1.00000\r\n",
      "   89.84581   45.35828    1.00000\r\n",
      "   83.48916   48.38029    1.00000\r\n",
      "   42.26170   87.10385    1.00000\r\n",
      "   99.31501   68.77541    1.00000\r\n",
      "   55.34002   64.93194    1.00000\r\n",
      "   74.77589   89.52981    1.00000\r\n",
      "\r\n"
     ]
    }
   ],
   "source": [
    "data"
   ]
  },
  {
   "cell_type": "code",
   "execution_count": 24,
   "metadata": {},
   "outputs": [
    {
     "name": "stdout",
     "output_type": "stream",
     "text": [
      "ans =\r\n",
      "\r\n",
      "   60.183   86.309\r\n",
      "   79.033   75.344\r\n",
      "   61.107   96.511\r\n",
      "   75.025   46.554\r\n",
      "   76.099   87.421\r\n",
      "   84.433   43.533\r\n",
      "   82.307   76.482\r\n",
      "   69.365   97.719\r\n",
      "   53.971   89.207\r\n",
      "   69.070   52.740\r\n",
      "   70.662   92.927\r\n",
      "   76.979   47.576\r\n",
      "   89.677   65.799\r\n",
      "   77.924   68.972\r\n",
      "   62.271   69.954\r\n",
      "   80.190   44.822\r\n",
      "   61.379   72.808\r\n",
      "   85.405   57.052\r\n",
      "   52.045   69.433\r\n",
      "   64.177   80.908\r\n",
      "   83.902   56.308\r\n",
      "   94.443   65.569\r\n",
      "   77.193   70.458\r\n",
      "   97.772   86.728\r\n",
      "   62.073   96.769\r\n",
      "   91.565   88.696\r\n",
      "   79.945   74.163\r\n",
      "   99.273   60.999\r\n",
      "   90.547   43.391\r\n",
      "   97.646   68.862\r\n",
      "   74.249   69.825\r\n",
      "   71.796   78.454\r\n",
      "   75.396   85.760\r\n",
      "   40.458   97.535\r\n",
      "   80.280   92.116\r\n",
      "   66.747   60.991\r\n",
      "   64.039   78.032\r\n",
      "   72.346   96.228\r\n",
      "   60.458   73.095\r\n",
      "   58.841   75.858\r\n",
      "   99.828   72.369\r\n",
      "   47.264   88.476\r\n",
      "   50.458   75.810\r\n",
      "   88.914   69.804\r\n",
      "   94.835   45.694\r\n",
      "   67.319   66.589\r\n",
      "   57.239   59.514\r\n",
      "   80.367   90.960\r\n",
      "   68.469   85.594\r\n",
      "   75.478   90.425\r\n",
      "   78.635   96.647\r\n",
      "   94.094   77.159\r\n",
      "   90.449   87.509\r\n",
      "   74.493   84.845\r\n",
      "   89.846   45.358\r\n",
      "   83.489   48.380\r\n",
      "   42.262   87.104\r\n",
      "   99.315   68.775\r\n",
      "   55.340   64.932\r\n",
      "   74.776   89.530\r\n",
      "\r\n"
     ]
    }
   ],
   "source": [
    "data(find(data(:,3) == 1), 1:2)"
   ]
  },
  {
   "cell_type": "code",
   "execution_count": 34,
   "metadata": {},
   "outputs": [
    {
     "data": {
      "image/png": "[encoded data removed]",
      "text/plain": [
       "<IPython.core.display.Image object>"
      ]
     },
     "metadata": {},
     "output_type": "display_data"
    }
   ],
   "source": [
    "X = data(:, [1, 2]); y = data(:, 3);\n",
    "\n",
    "\n",
    "plotData(X, y);\n",
    "\n",
    "% Put some labels \n",
    "hold on;\n",
    "% Labels and Legend\n",
    "xlabel('Exam 1 score')\n",
    "ylabel('Exam 2 score')\n",
    "\n",
    "% Specified in plot order\n",
    "legend('Admitted', 'Not admitted')\n",
    "hold off;"
   ]
  },
  {
   "cell_type": "code",
   "execution_count": 26,
   "metadata": {},
   "outputs": [
    {
     "name": "stdout",
     "output_type": "stream",
     "text": [
      "'plot' is a function from the file /usr/share/octave/4.0.3/m/plot/draw/plot.m\r\n",
      "\r\n",
      " -- Function File: plot (Y)\r\n",
      " -- Function File: plot (X, Y)\r\n",
      " -- Function File: plot (X, Y, FMT)\r\n",
      " -- Function File: plot (..., PROPERTY, VALUE, ...)\r\n",
      " -- Function File: plot (X1, Y1, ..., XN, YN)\r\n",
      " -- Function File: plot (HAX, ...)\r\n",
      " -- Function File: H = plot (...)\r\n",
      "     Produce 2-D plots.\r\n",
      "\r\n",
      "     Many different combinations of arguments are possible.  The\r\n",
      "     simplest form is\r\n",
      "\r\n",
      "          plot (Y)\r\n",
      "\r\n",
      "     where the argument is taken as the set of Y coordinates and the X\r\n",
      "     coordinates are taken to be the range '1:numel (Y)'.\r\n",
      "\r\n",
      "     If more than one argument is given, they are interpreted as\r\n",
      "\r\n",
      "          plot (Y, PROPERTY, VALUE, ...)\r\n",
      "\r\n",
      "     or\r\n",
      "\r\n",
      "          plot (X, Y, PROPERTY, VALUE, ...)\r\n",
      "\r\n",
      "     or\r\n",
      "\r\n",
      "          plot (X, Y, FMT, ...)\r\n",
      "\r\n",
      "     and so on.  Any number of argument sets may appear.  The X and Y\r\n",
      "     values are interpreted as follows:\r\n",
      "\r\n",
      "        * If a single data argument is supplied, it is taken as the set\r\n",
      "          of Y coordinates and the X coordinates are taken to be the\r\n",
      "          indices of the elements, starting with 1.\r\n",
      "\r\n",
      "        * If X and Y are scalars, a single point is plotted.\r\n",
      "\r\n",
      "        * 'squeeze()' is applied to arguments with more than two\r\n",
      "          dimensions, but no more than two singleton dimensions.\r\n",
      "\r\n",
      "        * If both arguments are vectors, the elements of Y are plotted\r\n",
      "          versus the elements of X.\r\n",
      "\r\n",
      "        * If X is a vector and Y is a matrix, then the columns (or rows)\r\n",
      "          of Y are plotted versus X.  (using whichever combination\r\n",
      "          matches, with columns tried first.)\r\n",
      "\r\n",
      "        * If the X is a matrix and Y is a vector, Y is plotted versus\r\n",
      "          the columns (or rows) of X.  (using whichever combination\r\n",
      "          matches, with columns tried first.)\r\n",
      "\r\n",
      "        * If both arguments are matrices, the columns of Y are plotted\r\n",
      "          versus the columns of X.  In this case, both matrices must\r\n",
      "          have the same number of rows and columns and no attempt is\r\n",
      "          made to transpose the arguments to make the number of rows\r\n",
      "          match.\r\n",
      "\r\n",
      "     Multiple property-value pairs may be specified, but they must\r\n",
      "     appear in pairs.  These arguments are applied to the line objects\r\n",
      "     drawn by 'plot'.  Useful properties to modify are \"linestyle\",\r\n",
      "     \"linewidth\", \"color\", \"marker\", \"markersize\", \"markeredgecolor\",\r\n",
      "     \"markerfacecolor\".  *Note Line Properties::.\r\n",
      "\r\n",
      "     The FMT format argument can also be used to control the plot style.\r\n",
      "     It is a string composed of four optional parts:\r\n",
      "     \"<linestyle><marker><color><;displayname;>\".  When a marker is\r\n",
      "     specified, but no linestyle, only the markers are plotted.\r\n",
      "     Similarly, if a linestyle is specified, but no marker, then only\r\n",
      "     lines are drawn.  If both are specified then lines and markers will\r\n",
      "     be plotted.  If no FMT and no PROPERTY/VALUE pairs are given, then\r\n",
      "     the default plot style is solid lines with no markers and the color\r\n",
      "     determined by the \"colororder\" property of the current axes.\r\n",
      "\r\n",
      "     Format arguments:\r\n",
      "\r\n",
      "     linestyle\r\n",
      "\r\n",
      "          '-'  Use solid lines (default).\r\n",
      "          '--' Use dashed lines.\r\n",
      "          ':'  Use dotted lines.\r\n",
      "          '-.' Use dash-dotted lines.\r\n",
      "\r\n",
      "     marker\r\n",
      "\r\n",
      "          '+'  crosshair\r\n",
      "          'o'  circle\r\n",
      "          '*'  star\r\n",
      "          '.'  point\r\n",
      "          'x'  cross\r\n",
      "          's'  square\r\n",
      "          'd'  diamond\r\n",
      "          '^'  upward-facing triangle\r\n",
      "          'v'  downward-facing triangle\r\n",
      "          '>'  right-facing triangle\r\n",
      "          '<'  left-facing triangle\r\n",
      "          'p'  pentagram\r\n",
      "          'h'  hexagram\r\n",
      "\r\n",
      "     color\r\n",
      "\r\n",
      "          'k'  blacK\r\n",
      "          'r'  Red\r\n",
      "          'g'  Green\r\n",
      "          'b'  Blue\r\n",
      "          'm'  Magenta\r\n",
      "          'c'  Cyan\r\n",
      "          'w'  White\r\n",
      "\r\n",
      "     \";displayname;\"\r\n",
      "          Here \"displayname\" is the label to use for the plot legend.\r\n",
      "\r\n",
      "     The FMT argument may also be used to assign legend labels.  To do\r\n",
      "     so, include the desired label between semicolons after the\r\n",
      "     formatting sequence described above, e.g., \"+b;Key Title;\".  Note\r\n",
      "     that the last semicolon is required and Octave will generate an\r\n",
      "     error if it is left out.\r\n",
      "\r\n",
      "     Here are some plot examples:\r\n",
      "\r\n",
      "          plot (x, y, \"or\", x, y2, x, y3, \"m\", x, y4, \"+\")\r\n",
      "\r\n",
      "     This command will plot 'y' with red circles, 'y2' with solid lines,\r\n",
      "     'y3' with solid magenta lines, and 'y4' with points displayed as\r\n",
      "     '+'.\r\n",
      "\r\n",
      "          plot (b, \"*\", \"markersize\", 10)\r\n",
      "\r\n",
      "     This command will plot the data in the variable 'b', with points\r\n",
      "     displayed as '*' and a marker size of 10.\r\n",
      "\r\n",
      "          t = 0:0.1:6.3;\r\n",
      "          plot (t, cos(t), \"-;cos(t);\", t, sin(t), \"-b;sin(t);\");\r\n",
      "\r\n",
      "     This will plot the cosine and sine functions and label them\r\n",
      "     accordingly in the legend.\r\n",
      "\r\n",
      "     If the first argument HAX is an axes handle, then plot into this\r\n",
      "     axis, rather than the current axes returned by 'gca'.\r\n",
      "\r\n",
      "     The optional return value H is a vector of graphics handles to the\r\n",
      "     created line objects.\r\n",
      "\r\n",
      "     To save a plot, in one of several image formats such as PostScript\r\n",
      "     or PNG, use the 'print' command.\r\n",
      "\r\n",
      "     See also: axis, box, grid, hold, legend, title, xlabel, ylabel,\r\n",
      "     xlim, ylim, ezplot, errorbar, fplot, line, plot3, polar, loglog,\r\n",
      "     semilogx, semilogy, subplot.\r\n",
      "\r\n",
      "Additional help for built-in functions and operators is\r\n",
      "available in the online version of the manual.  Use the command\r\n",
      "'doc <topic>' to search the manual index.\r\n",
      "\r\n",
      "Help and information about Octave is also available on the WWW\r\n",
      "at http://www.octave.org and via the help@octave.org\r\n",
      "mailing list.\r\n"
     ]
    }
   ],
   "source": [
    "help plot"
   ]
  },
  {
   "cell_type": "code",
   "execution_count": 32,
   "metadata": {},
   "outputs": [
    {
     "name": "stdout",
     "output_type": "stream",
     "text": [
      "X =\r\n",
      "\r\n",
      "   34.624   78.025\r\n",
      "   30.287   43.895\r\n",
      "   35.847   72.902\r\n",
      "   60.183   86.309\r\n",
      "   79.033   75.344\r\n",
      "   45.083   56.316\r\n",
      "   61.107   96.511\r\n",
      "   75.025   46.554\r\n",
      "   76.099   87.421\r\n",
      "   84.433   43.533\r\n",
      "   95.862   38.225\r\n",
      "   75.014   30.603\r\n",
      "   82.307   76.482\r\n",
      "   69.365   97.719\r\n",
      "   39.538   76.037\r\n",
      "   53.971   89.207\r\n",
      "   69.070   52.740\r\n",
      "   67.947   46.679\r\n",
      "   70.662   92.927\r\n",
      "   76.979   47.576\r\n",
      "   67.372   42.838\r\n",
      "   89.677   65.799\r\n",
      "   50.535   48.856\r\n",
      "   34.212   44.210\r\n",
      "   77.924   68.972\r\n",
      "   62.271   69.954\r\n",
      "   80.190   44.822\r\n",
      "   93.114   38.801\r\n",
      "   61.830   50.256\r\n",
      "   38.786   64.996\r\n",
      "   61.379   72.808\r\n",
      "   85.405   57.052\r\n",
      "   52.108   63.128\r\n",
      "   52.045   69.433\r\n",
      "   40.237   71.168\r\n",
      "   54.635   52.214\r\n",
      "   33.916   98.869\r\n",
      "   64.177   80.908\r\n",
      "   74.789   41.573\r\n",
      "   34.184   75.238\r\n",
      "   83.902   56.308\r\n",
      "   51.548   46.856\r\n",
      "   94.443   65.569\r\n",
      "   82.369   40.618\r\n",
      "   51.048   45.823\r\n",
      "   62.223   52.061\r\n",
      "   77.193   70.458\r\n",
      "   97.772   86.728\r\n",
      "   62.073   96.769\r\n",
      "   91.565   88.696\r\n",
      "   79.945   74.163\r\n",
      "   99.273   60.999\r\n",
      "   90.547   43.391\r\n",
      "   34.525   60.396\r\n",
      "   50.286   49.805\r\n",
      "   49.587   59.809\r\n",
      "   97.646   68.862\r\n",
      "   32.577   95.599\r\n",
      "   74.249   69.825\r\n",
      "   71.796   78.454\r\n",
      "   75.396   85.760\r\n",
      "   35.286   47.021\r\n",
      "   56.254   39.261\r\n",
      "   30.059   49.593\r\n",
      "   44.668   66.450\r\n",
      "   66.561   41.092\r\n",
      "   40.458   97.535\r\n",
      "   49.073   51.883\r\n",
      "   80.280   92.116\r\n",
      "   66.747   60.991\r\n",
      "   32.723   43.307\r\n",
      "   64.039   78.032\r\n",
      "   72.346   96.228\r\n",
      "   60.458   73.095\r\n",
      "   58.841   75.858\r\n",
      "   99.828   72.369\r\n",
      "   47.264   88.476\r\n",
      "   50.458   75.810\r\n",
      "   60.456   42.508\r\n",
      "   82.227   42.720\r\n",
      "   88.914   69.804\r\n",
      "   94.835   45.694\r\n",
      "   67.319   66.589\r\n",
      "   57.239   59.514\r\n",
      "   80.367   90.960\r\n",
      "   68.469   85.594\r\n",
      "   42.075   78.845\r\n",
      "   75.478   90.425\r\n",
      "   78.635   96.647\r\n",
      "   52.348   60.770\r\n",
      "   94.094   77.159\r\n",
      "   90.449   87.509\r\n",
      "   55.482   35.571\r\n",
      "   74.493   84.845\r\n",
      "   89.846   45.358\r\n",
      "   83.489   48.380\r\n",
      "   42.262   87.104\r\n",
      "   99.315   68.775\r\n",
      "   55.340   64.932\r\n",
      "   74.776   89.530\r\n",
      "\r\n"
     ]
    }
   ],
   "source": [
    "X"
   ]
  },
  {
   "cell_type": "code",
   "execution_count": 33,
   "metadata": {},
   "outputs": [
    {
     "name": "stdout",
     "output_type": "stream",
     "text": [
      "ans =  34.624\r\n"
     ]
    }
   ],
   "source": [
    "X(1)"
   ]
  },
  {
   "cell_type": "code",
   "execution_count": 35,
   "metadata": {},
   "outputs": [
    {
     "name": "stdout",
     "output_type": "stream",
     "text": [
      "g =  0.50000\r\n",
      "ans =  0.50000\r\n"
     ]
    }
   ],
   "source": [
    "sigmoid(0)"
   ]
  },
  {
   "cell_type": "code",
   "execution_count": 36,
   "metadata": {},
   "outputs": [
    {
     "name": "stdout",
     "output_type": "stream",
     "text": [
      "g =  0.73106\r\n",
      "ans =  0.73106\r\n"
     ]
    }
   ],
   "source": [
    "sigmoid(1)"
   ]
  },
  {
   "cell_type": "code",
   "execution_count": 37,
   "metadata": {},
   "outputs": [
    {
     "name": "stdout",
     "output_type": "stream",
     "text": [
      "g =  0.26894\r\n",
      "ans =  0.26894\r\n"
     ]
    }
   ],
   "source": [
    "sigmoid(-1)"
   ]
  },
  {
   "cell_type": "code",
   "execution_count": 38,
   "metadata": {},
   "outputs": [
    {
     "name": "stdout",
     "output_type": "stream",
     "text": [
      "g = 0\r\n",
      "ans = 0\r\n"
     ]
    }
   ],
   "source": [
    "sigmoid(-100000)"
   ]
  },
  {
   "cell_type": "code",
   "execution_count": 39,
   "metadata": {},
   "outputs": [
    {
     "name": "stdout",
     "output_type": "stream",
     "text": [
      "g =    3.7201e-44\r\n",
      "ans =    3.7201e-44\r\n"
     ]
    }
   ],
   "source": [
    "sigmoid(-100)"
   ]
  },
  {
   "cell_type": "code",
   "execution_count": 40,
   "metadata": {},
   "outputs": [
    {
     "name": "stdout",
     "output_type": "stream",
     "text": [
      "g =  1\r\n",
      "ans =  1\r\n"
     ]
    }
   ],
   "source": [
    "sigmoid(100)"
   ]
  },
  {
   "cell_type": "code",
   "execution_count": 41,
   "metadata": {},
   "outputs": [
    {
     "name": "stdout",
     "output_type": "stream",
     "text": [
      "g =  0.99995\r\n",
      "ans =  0.99995\r\n"
     ]
    }
   ],
   "source": [
    "sigmoid(10)"
   ]
  },
  {
   "cell_type": "code",
   "execution_count": 42,
   "metadata": {},
   "outputs": [
    {
     "name": "stdout",
     "output_type": "stream",
     "text": [
      "g =\r\n",
      "\r\n",
      "   0.101540   0.188777   0.069447\r\n",
      "\r\n",
      "ans =\r\n",
      "\r\n",
      "   0.101540   0.188777   0.069447\r\n",
      "\r\n"
     ]
    }
   ],
   "source": [
    "sigmoid([0;-1;1])"
   ]
  },
  {
   "cell_type": "code",
   "execution_count": 43,
   "metadata": {},
   "outputs": [
    {
     "name": "stdout",
     "output_type": "stream",
     "text": [
      "g =  0.50000\r\n",
      "ans =  0.50000\r\n"
     ]
    }
   ],
   "source": [
    "sigmoid(0)"
   ]
  },
  {
   "cell_type": "code",
   "execution_count": 44,
   "metadata": {},
   "outputs": [
    {
     "name": "stdout",
     "output_type": "stream",
     "text": [
      "z =\r\n",
      "\r\n",
      "  -3\r\n",
      "  -2\r\n",
      "  -1\r\n",
      "   0\r\n",
      "   1\r\n",
      "   2\r\n",
      "   3\r\n",
      "\r\n"
     ]
    }
   ],
   "source": [
    "z = [-3;-2;-1;0;1;2;3]"
   ]
  },
  {
   "cell_type": "code",
   "execution_count": 45,
   "metadata": {},
   "outputs": [
    {
     "name": "stdout",
     "output_type": "stream",
     "text": [
      "g =\r\n",
      "\r\n",
      " Columns 1 through 6:\r\n",
      "\r\n",
      "   0.0392608   0.0156202   0.0069234   0.0037240   0.0025470   0.0021140\r\n",
      "\r\n",
      " Column 7:\r\n",
      "\r\n",
      "   0.0019547\r\n",
      "\r\n",
      "ans =\r\n",
      "\r\n",
      " Columns 1 through 6:\r\n",
      "\r\n",
      "   0.0392608   0.0156202   0.0069234   0.0037240   0.0025470   0.0021140\r\n",
      "\r\n",
      " Column 7:\r\n",
      "\r\n",
      "   0.0019547\r\n",
      "\r\n"
     ]
    }
   ],
   "source": [
    "sigmoid(z)"
   ]
  },
  {
   "cell_type": "code",
   "execution_count": 46,
   "metadata": {},
   "outputs": [
    {
     "name": "stdout",
     "output_type": "stream",
     "text": [
      "ans =\r\n",
      "\r\n",
      "  -0.05714  -0.02857   0.00000   0.02857   0.05714   0.08571   0.11429\r\n",
      "\r\n"
     ]
    }
   ],
   "source": [
    "1/(1+z)"
   ]
  },
  {
   "cell_type": "code",
   "execution_count": 47,
   "metadata": {},
   "outputs": [
    {
     "name": "stdout",
     "output_type": "stream",
     "text": [
      "ans =\r\n",
      "\r\n",
      "  -2\r\n",
      "  -1\r\n",
      "   0\r\n",
      "   1\r\n",
      "   2\r\n",
      "   3\r\n",
      "   4\r\n",
      "\r\n"
     ]
    }
   ],
   "source": [
    "1+z"
   ]
  },
  {
   "cell_type": "code",
   "execution_count": 48,
   "metadata": {},
   "outputs": [
    {
     "name": "stdout",
     "output_type": "stream",
     "text": [
      "ans =\r\n",
      "\r\n",
      "    0.049787\r\n",
      "    0.135335\r\n",
      "    0.367879\r\n",
      "    1.000000\r\n",
      "    2.718282\r\n",
      "    7.389056\r\n",
      "   20.085537\r\n",
      "\r\n"
     ]
    }
   ],
   "source": [
    "exp(z)"
   ]
  },
  {
   "cell_type": "code",
   "execution_count": 49,
   "metadata": {},
   "outputs": [
    {
     "name": "stdout",
     "output_type": "stream",
     "text": [
      "ans =\r\n",
      "\r\n",
      "   20.085537\r\n",
      "    7.389056\r\n",
      "    2.718282\r\n",
      "    1.000000\r\n",
      "    0.367879\r\n",
      "    0.135335\r\n",
      "    0.049787\r\n",
      "\r\n"
     ]
    }
   ],
   "source": [
    "exp(-z)"
   ]
  },
  {
   "cell_type": "code",
   "execution_count": 68,
   "metadata": {},
   "outputs": [
    {
     "name": "stdout",
     "output_type": "stream",
     "text": [
      "error: for A^b, A must be a square matrix. Use .^ for elementwise power.\r\n"
     ]
    }
   ],
   "source": [
    "(1+exp(-z))^-1"
   ]
  },
  {
   "cell_type": "code",
   "execution_count": 69,
   "metadata": {},
   "outputs": [
    {
     "name": "stdout",
     "output_type": "stream",
     "text": [
      "z =\r\n",
      "\r\n",
      "  -3\r\n",
      "  -2\r\n",
      "  -1\r\n",
      "   0\r\n",
      "   1\r\n",
      "   2\r\n",
      "   3\r\n",
      "\r\n"
     ]
    }
   ],
   "source": [
    "z"
   ]
  },
  {
   "cell_type": "code",
   "execution_count": 70,
   "metadata": {},
   "outputs": [
    {
     "name": "stdout",
     "output_type": "stream",
     "text": [
      "ans =\r\n",
      "\r\n",
      "   4\r\n",
      "   3\r\n",
      "   2\r\n",
      "   1\r\n",
      "   0\r\n",
      "  -1\r\n",
      "  -2\r\n",
      "\r\n"
     ]
    }
   ],
   "source": [
    "1-z"
   ]
  },
  {
   "cell_type": "markdown",
   "metadata": {},
   "source": [
    "The following snippet is from part3 of ex2.m"
   ]
  },
  {
   "cell_type": "code",
   "execution_count": 6,
   "metadata": {},
   "outputs": [],
   "source": [
    "addpath([pwd '/machine-learning-ex2/ex2'],'-end')"
   ]
  },
  {
   "cell_type": "code",
   "execution_count": 7,
   "metadata": {},
   "outputs": [
    {
     "name": "stdout",
     "output_type": "stream",
     "text": [
      "\r\n",
      "Octave's search path contains the following directories:\r\n",
      "\r\n",
      ".\r\n",
      "/opt/conda/lib/python3.7/site-packages/octave_kernel\r\n",
      "/usr/lib/x86_64-linux-gnu/octave/4.0.3/site/oct/x86_64-pc-linux-gnu\r\n",
      "/usr/lib/x86_64-linux-gnu/octave/site/oct/api-v50+/x86_64-pc-linux-gnu\r\n",
      "/usr/lib/x86_64-linux-gnu/octave/site/oct/x86_64-pc-linux-gnu\r\n",
      "/usr/share/octave/4.0.3/site/m\r\n",
      "/usr/share/octave/site/api-v50+/m\r\n",
      "/usr/share/octave/site/m\r\n",
      "/usr/share/octave/site/m/startup\r\n",
      "/usr/lib/x86_64-linux-gnu/octave/4.0.3/oct/x86_64-pc-linux-gnu\r\n",
      "/usr/share/octave/4.0.3/m\r\n",
      "/usr/share/octave/4.0.3/m/audio\r\n",
      "/usr/share/octave/4.0.3/m/debian\r\n",
      "/usr/share/octave/4.0.3/m/deprecated\r\n",
      "/usr/share/octave/4.0.3/m/elfun\r\n",
      "/usr/share/octave/4.0.3/m/general\r\n",
      "/usr/share/octave/4.0.3/m/geometry\r\n",
      "/usr/share/octave/4.0.3/m/gui\r\n",
      "/usr/share/octave/4.0.3/m/help\r\n",
      "/usr/share/octave/4.0.3/m/image\r\n",
      "/usr/share/octave/4.0.3/m/io\r\n",
      "/usr/share/octave/4.0.3/m/java\r\n",
      "/usr/share/octave/4.0.3/m/linear-algebra\r\n",
      "/usr/share/octave/4.0.3/m/miscellaneous\r\n",
      "/usr/share/octave/4.0.3/m/optimization\r\n",
      "/usr/share/octave/4.0.3/m/path\r\n",
      "/usr/share/octave/4.0.3/m/pkg\r\n",
      "/usr/share/octave/4.0.3/m/plot\r\n",
      "/usr/share/octave/4.0.3/m/plot/appearance\r\n",
      "/usr/share/octave/4.0.3/m/plot/draw\r\n",
      "/usr/share/octave/4.0.3/m/plot/util\r\n",
      "/usr/share/octave/4.0.3/m/polynomial\r\n",
      "/usr/share/octave/4.0.3/m/prefs\r\n",
      "/usr/share/octave/4.0.3/m/set\r\n",
      "/usr/share/octave/4.0.3/m/signal\r\n",
      "/usr/share/octave/4.0.3/m/sparse\r\n",
      "/usr/share/octave/4.0.3/m/specfun\r\n",
      "/usr/share/octave/4.0.3/m/special-matrix\r\n",
      "/usr/share/octave/4.0.3/m/startup\r\n",
      "/usr/share/octave/4.0.3/m/statistics\r\n",
      "/usr/share/octave/4.0.3/m/statistics/base\r\n",
      "/usr/share/octave/4.0.3/m/statistics/distributions\r\n",
      "/usr/share/octave/4.0.3/m/statistics/models\r\n",
      "/usr/share/octave/4.0.3/m/statistics/tests\r\n",
      "/usr/share/octave/4.0.3/m/strings\r\n",
      "/usr/share/octave/4.0.3/m/testfun\r\n",
      "/usr/share/octave/4.0.3/m/time\r\n",
      "/usr/share/octave/4.0.3/data\r\n",
      "/notebooks/MLCourse/Week3/machine-learning-ex2/ex2\r\n",
      "\r\n"
     ]
    }
   ],
   "source": [
    "path()"
   ]
  },
  {
   "cell_type": "code",
   "execution_count": 10,
   "metadata": {},
   "outputs": [
    {
     "name": "stdout",
     "output_type": "stream",
     "text": [
      "warning: load: '/notebooks/MLCourse/Week3/machine-learning-ex2/ex2/ex2data1.txt' found by searching load path\r\n"
     ]
    },
    {
     "data": {
      "image/png": "[encoded data removed]",
      "text/plain": [
       "<IPython.core.display.Image object>"
      ]
     },
     "metadata": {},
     "output_type": "display_data"
    }
   ],
   "source": [
    "data = load('ex2data1.txt');\n",
    "X = data(:, [1, 2]); y = data(:, 3);\n",
    "[m, n] = size(X);\n",
    "X = [ones(m, 1) X];\n",
    "\n",
    "% Plot Boundary\n",
    "plotDecisionBoundary([ -25.161272; 0.206233; 0.201470 ], X, y);\n",
    "\n",
    "% Put some labels \n",
    "hold on;\n",
    "% Labels and Legend\n",
    "xlabel('Exam 1 score')\n",
    "ylabel('Exam 2 score')\n",
    "\n",
    "% Specified in plot order\n",
    "legend('Admitted', 'Not admitted')\n",
    "hold off;"
   ]
  },
  {
   "cell_type": "code",
   "execution_count": 11,
   "metadata": {},
   "outputs": [
    {
     "name": "stdout",
     "output_type": "stream",
     "text": [
      "ans =  1\r\n"
     ]
    }
   ],
   "source": [
    "round(0.5)"
   ]
  },
  {
   "cell_type": "code",
   "execution_count": 12,
   "metadata": {},
   "outputs": [
    {
     "name": "stdout",
     "output_type": "stream",
     "text": [
      "ans = 0\r\n"
     ]
    }
   ],
   "source": [
    "round(0.4999)"
   ]
  },
  {
   "cell_type": "code",
   "execution_count": 13,
   "metadata": {},
   "outputs": [
    {
     "name": "stdout",
     "output_type": "stream",
     "text": [
      "ans = 0\r\n"
     ]
    }
   ],
   "source": [
    "round(0.1)"
   ]
  },
  {
   "cell_type": "code",
   "execution_count": 15,
   "metadata": {},
   "outputs": [
    {
     "name": "stdout",
     "output_type": "stream",
     "text": [
      "ans =\r\n",
      "\r\n",
      "   0\r\n",
      "   0\r\n",
      "   0\r\n",
      "   1\r\n",
      "   1\r\n",
      "   0\r\n",
      "   1\r\n",
      "   1\r\n",
      "   1\r\n",
      "   1\r\n",
      "   0\r\n",
      "   0\r\n",
      "   1\r\n",
      "   1\r\n",
      "   0\r\n",
      "   1\r\n",
      "   1\r\n",
      "   0\r\n",
      "   1\r\n",
      "   1\r\n",
      "   0\r\n",
      "   1\r\n",
      "   0\r\n",
      "   0\r\n",
      "   1\r\n",
      "   1\r\n",
      "   1\r\n",
      "   0\r\n",
      "   0\r\n",
      "   0\r\n",
      "   1\r\n",
      "   1\r\n",
      "   0\r\n",
      "   1\r\n",
      "   0\r\n",
      "   0\r\n",
      "   0\r\n",
      "   1\r\n",
      "   0\r\n",
      "   0\r\n",
      "   1\r\n",
      "   0\r\n",
      "   1\r\n",
      "   0\r\n",
      "   0\r\n",
      "   0\r\n",
      "   1\r\n",
      "   1\r\n",
      "   1\r\n",
      "   1\r\n",
      "   1\r\n",
      "   1\r\n",
      "   1\r\n",
      "   0\r\n",
      "   0\r\n",
      "   0\r\n",
      "   1\r\n",
      "   0\r\n",
      "   1\r\n",
      "   1\r\n",
      "   1\r\n",
      "   0\r\n",
      "   0\r\n",
      "   0\r\n",
      "   0\r\n",
      "   0\r\n",
      "   1\r\n",
      "   0\r\n",
      "   1\r\n",
      "   1\r\n",
      "   0\r\n",
      "   1\r\n",
      "   1\r\n",
      "   1\r\n",
      "   1\r\n",
      "   1\r\n",
      "   1\r\n",
      "   1\r\n",
      "   0\r\n",
      "   0\r\n",
      "   1\r\n",
      "   1\r\n",
      "   1\r\n",
      "   1\r\n",
      "   1\r\n",
      "   1\r\n",
      "   0\r\n",
      "   1\r\n",
      "   1\r\n",
      "   0\r\n",
      "   1\r\n",
      "   1\r\n",
      "   0\r\n",
      "   1\r\n",
      "   1\r\n",
      "   1\r\n",
      "   1\r\n",
      "   1\r\n",
      "   1\r\n",
      "   1\r\n",
      "\r\n"
     ]
    }
   ],
   "source": [
    "round(y)"
   ]
  },
  {
   "cell_type": "markdown",
   "metadata": {},
   "source": [
    "The following snippet is from ex2_reg.m"
   ]
  },
  {
   "cell_type": "code",
   "execution_count": 42,
   "metadata": {},
   "outputs": [
    {
     "name": "stdout",
     "output_type": "stream",
     "text": [
      "\n",
      "warning: load: '/notebooks/MLCourse/Week3/machine-learning-ex2/ex2/ex2data2.txt' found by searching load path\n"
     ]
    },
    {
     "data": {
      "image/png": "[encoded data removed]",
      "text/plain": [
       "<IPython.core.display.Image object>"
      ]
     },
     "metadata": {},
     "output_type": "display_data"
    }
   ],
   "source": [
    "%% Initialization\n",
    "clear ; close all; clc\n",
    "\n",
    "%% Load Data\n",
    "%  The first two columns contains the X values and the third column\n",
    "%  contains the label (y).\n",
    "\n",
    "data = load('ex2data2.txt');\n",
    "X = data(:, [1, 2]); y = data(:, 3);\n",
    "\n",
    "plotData(X, y);\n",
    "\n",
    "% Put some labels\n",
    "hold on;\n",
    "\n",
    "% Labels and Legend\n",
    "xlabel('Microchip Test 1')\n",
    "ylabel('Microchip Test 2')\n",
    "\n",
    "% Specified in plot order\n",
    "legend('y = 1', 'y = 0')\n",
    "hold off;"
   ]
  },
  {
   "cell_type": "code",
   "execution_count": 17,
   "metadata": {},
   "outputs": [
    {
     "name": "stdout",
     "output_type": "stream",
     "text": [
      "ans =  118\r\n"
     ]
    }
   ],
   "source": [
    "length(y)"
   ]
  },
  {
   "cell_type": "code",
   "execution_count": 18,
   "metadata": {},
   "outputs": [
    {
     "name": "stdout",
     "output_type": "stream",
     "text": [
      "ans =  118\r\n"
     ]
    }
   ],
   "source": [
    "length(X)"
   ]
  },
  {
   "cell_type": "code",
   "execution_count": 19,
   "metadata": {},
   "outputs": [
    {
     "name": "stdout",
     "output_type": "stream",
     "text": [
      "ans =\r\n",
      "\r\n",
      "   118     1\r\n",
      "\r\n"
     ]
    }
   ],
   "source": [
    "size(y)"
   ]
  },
  {
   "cell_type": "code",
   "execution_count": 20,
   "metadata": {},
   "outputs": [
    {
     "name": "stdout",
     "output_type": "stream",
     "text": [
      "ans =\r\n",
      "\r\n",
      "   118     2\r\n",
      "\r\n"
     ]
    }
   ],
   "source": [
    "size(X)"
   ]
  },
  {
   "cell_type": "code",
   "execution_count": 22,
   "metadata": {},
   "outputs": [
    {
     "name": "stdout",
     "output_type": "stream",
     "text": [
      "ans =  117\r\n"
     ]
    }
   ],
   "source": [
    "length(y(2:length(y)))"
   ]
  },
  {
   "cell_type": "code",
   "execution_count": 23,
   "metadata": {},
   "outputs": [],
   "source": [
    "whos a"
   ]
  },
  {
   "cell_type": "code",
   "execution_count": 24,
   "metadata": {},
   "outputs": [
    {
     "name": "stdout",
     "output_type": "stream",
     "text": [
      "a =  5\r\n"
     ]
    }
   ],
   "source": [
    "a = 5"
   ]
  },
  {
   "cell_type": "code",
   "execution_count": 25,
   "metadata": {},
   "outputs": [
    {
     "name": "stdout",
     "output_type": "stream",
     "text": [
      "a =  12\r\n"
     ]
    }
   ],
   "source": [
    "a += 7"
   ]
  },
  {
   "cell_type": "code",
   "execution_count": 26,
   "metadata": {},
   "outputs": [
    {
     "name": "stdout",
     "output_type": "stream",
     "text": [
      "Variables in the current scope:\r\n",
      "\r\n",
      "   Attr Name        Size                     Bytes  Class\r\n",
      "   ==== ====        ====                     =====  ===== \r\n",
      "        X         118x2                       1888  double\r\n",
      "        a           1x1                          8  double\r\n",
      "        ans         1x1                          8  double\r\n",
      "        data      118x3                       2832  double\r\n",
      "        y         118x1                        944  double\r\n",
      "\r\n",
      "Total is 710 elements using 5680 bytes\r\n",
      "\r\n"
     ]
    }
   ],
   "source": [
    "whos"
   ]
  },
  {
   "cell_type": "code",
   "execution_count": 32,
   "metadata": {},
   "outputs": [
    {
     "name": "stdout",
     "output_type": "stream",
     "text": [
      "z =\r\n",
      "\r\n",
      "   1\r\n",
      "   2\r\n",
      "   3\r\n",
      "   4\r\n",
      "   5\r\n",
      "   6\r\n",
      "\r\n"
     ]
    }
   ],
   "source": [
    "z = [1;2;3;4;5;6]"
   ]
  },
  {
   "cell_type": "code",
   "execution_count": 33,
   "metadata": {},
   "outputs": [
    {
     "name": "stdout",
     "output_type": "stream",
     "text": [
      "l =\r\n",
      "\r\n",
      "  -3\r\n",
      "  -2\r\n",
      "  -1\r\n",
      "   1\r\n",
      "   2\r\n",
      "   3\r\n",
      "\r\n"
     ]
    }
   ],
   "source": [
    "l = [-3;-2;-1;1;2;3]"
   ]
  },
  {
   "cell_type": "code",
   "execution_count": 37,
   "metadata": {},
   "outputs": [
    {
     "name": "stdout",
     "output_type": "stream",
     "text": [
      "ans =\r\n",
      "\r\n",
      "   0\r\n",
      "   2\r\n",
      "   5\r\n",
      "   7\r\n",
      "   9\r\n",
      "\r\n"
     ]
    }
   ],
   "source": [
    "z(2:length(z)) .+ l(2:length(l))"
   ]
  },
  {
   "cell_type": "code",
   "execution_count": 61,
   "metadata": {},
   "outputs": [
    {
     "name": "stdout",
     "output_type": "stream",
     "text": [
      "\n",
      "warning: load: '/notebooks/MLCourse/Week3/machine-learning-ex2/ex2/ex2data2.txt' found by searching load path\n"
     ]
    },
    {
     "data": {
      "image/png": "[encoded data removed]",
      "text/plain": [
       "<IPython.core.display.Image object>"
      ]
     },
     "metadata": {},
     "output_type": "display_data"
    }
   ],
   "source": [
    "%% Initialization\n",
    "clear ; close all; clc\n",
    "\n",
    "%% Load Data\n",
    "%  The first two columns contains the X values and the third column\n",
    "%  contains the label (y).\n",
    "\n",
    "data = load('ex2data2.txt');\n",
    "X = data(:, [1, 2]); y = data(:, 3);\n",
    "\n",
    "plotData(X, y);\n",
    "\n",
    "% Put some labels\n",
    "hold on;\n",
    "\n",
    "% Labels and Legend\n",
    "xlabel('Microchip Test 1')\n",
    "ylabel('Microchip Test 2')\n",
    "\n",
    "% Specified in plot order\n",
    "legend('y = 1', 'y = 0')\n",
    "hold off;"
   ]
  },
  {
   "cell_type": "markdown",
   "metadata": {},
   "source": [
    "For lambda = 1"
   ]
  },
  {
   "cell_type": "code",
   "execution_count": 46,
   "metadata": {},
   "outputs": [
    {
     "data": {
      "image/png": "[encoded data removed]",
      "text/plain": [
       "<IPython.core.display.Image object>"
      ]
     },
     "metadata": {},
     "output_type": "display_data"
    }
   ],
   "source": [
    "\n",
    "\n",
    "% Set regularization parameter lambda to 1 (you should vary this)\n",
    "lambda = 1;\n",
    "\n",
    "% Set Options\n",
    "options = optimset('GradObj', 'on', 'MaxIter', 400);\n",
    "\n",
    "% Optimize\n",
    "[theta, J, exit_flag] = ...\n",
    "\tfminunc(@(t)(costFunctionReg(t, X, y, lambda)), initial_theta, options);\n",
    "\n",
    "plotDecisionBoundary(theta, X, y);\n",
    "hold on;\n",
    "title(sprintf('lambda = %g', lambda))\n",
    "\n",
    "% Labels and Legend\n",
    "xlabel('Microchip Test 1')\n",
    "ylabel('Microchip Test 2')\n",
    "\n",
    "legend('y = 1', 'y = 0', 'Decision boundary')\n",
    "hold off;\n"
   ]
  },
  {
   "cell_type": "markdown",
   "metadata": {},
   "source": [
    "For lambda = 0"
   ]
  },
  {
   "cell_type": "code",
   "execution_count": 50,
   "metadata": {},
   "outputs": [
    {
     "data": {
      "image/png": "[encoded data removed]",
      "text/plain": [
       "<IPython.core.display.Image object>"
      ]
     },
     "metadata": {},
     "output_type": "display_data"
    }
   ],
   "source": [
    "X = mapFeature(X(:,1), X(:,2));\n",
    "\n",
    "initial_theta = zeros(size(X, 2), 1);\n",
    "\n",
    "lambda = 0;\n",
    "\n",
    "% Set Options\n",
    "options = optimset('GradObj', 'on', 'MaxIter', 400);\n",
    "\n",
    "% Optimize\n",
    "[theta, J, exit_flag] = ...\n",
    "\tfminunc(@(t)(costFunctionReg(t, X, y, lambda)), initial_theta, options);\n",
    "\n",
    "plotDecisionBoundary(theta, X, y);\n",
    "hold on;\n",
    "title(sprintf('lambda = %g', lambda))\n",
    "\n",
    "% Labels and Legend\n",
    "xlabel('Microchip Test 1')\n",
    "ylabel('Microchip Test 2')\n",
    "\n",
    "legend('y = 1', 'y = 0', 'Decision boundary')\n",
    "hold off;"
   ]
  },
  {
   "cell_type": "markdown",
   "metadata": {},
   "source": [
    "For lambda = 100"
   ]
  },
  {
   "cell_type": "code",
   "execution_count": 52,
   "metadata": {},
   "outputs": [
    {
     "data": {
      "image/png": "[encoded data removed]",
      "text/plain": [
       "<IPython.core.display.Image object>"
      ]
     },
     "metadata": {},
     "output_type": "display_data"
    }
   ],
   "source": [
    "X = mapFeature(X(:,1), X(:,2));\n",
    "\n",
    "initial_theta = zeros(size(X, 2), 1);\n",
    "\n",
    "lambda = 100;\n",
    "\n",
    "% Set Options\n",
    "options = optimset('GradObj', 'on', 'MaxIter', 400);\n",
    "\n",
    "% Optimize\n",
    "[theta, J, exit_flag] = ...\n",
    "\tfminunc(@(t)(costFunctionReg(t, X, y, lambda)), initial_theta, options);\n",
    "\n",
    "plotDecisionBoundary(theta, X, y);\n",
    "hold on;\n",
    "title(sprintf('lambda = %g', lambda))\n",
    "\n",
    "% Labels and Legend\n",
    "xlabel('Microchip Test 1')\n",
    "ylabel('Microchip Test 2')\n",
    "\n",
    "legend('y = 1', 'y = 0', 'Decision boundary')\n",
    "hold off;"
   ]
  },
  {
   "cell_type": "markdown",
   "metadata": {},
   "source": [
    "For lambda = 150"
   ]
  },
  {
   "cell_type": "code",
   "execution_count": 62,
   "metadata": {},
   "outputs": [
    {
     "data": {
      "image/png": "[encoded data removed]",
      "text/plain": [
       "<IPython.core.display.Image object>"
      ]
     },
     "metadata": {},
     "output_type": "display_data"
    }
   ],
   "source": [
    "X = mapFeature(X(:,1), X(:,2));\n",
    "\n",
    "initial_theta = zeros(size(X, 2), 1);\n",
    "\n",
    "lambda = 150;\n",
    "\n",
    "% Set Options\n",
    "options = optimset('GradObj', 'on', 'MaxIter', 400);\n",
    "\n",
    "% Optimize\n",
    "[theta, J, exit_flag] = ...\n",
    "\tfminunc(@(t)(costFunctionReg(t, X, y, lambda)), initial_theta, options);\n",
    "\n",
    "plotDecisionBoundary(theta, X, y);\n",
    "hold on;\n",
    "title(sprintf('lambda = %g', lambda))\n",
    "\n",
    "% Labels and Legend\n",
    "xlabel('Microchip Test 1')\n",
    "ylabel('Microchip Test 2')\n",
    "\n",
    "legend('y = 1', 'y = 0', 'Decision boundary')\n",
    "hold off;"
   ]
  }
 ],
 "metadata": {
  "kernelspec": {
   "display_name": "Octave",
   "language": "octave",
   "name": "octave"
  },
  "language_info": {
   "file_extension": ".m",
   "help_links": [
    {
     "text": "GNU Octave",
     "url": "https://www.gnu.org/software/octave/support.html"
    },
    {
     "text": "Octave Kernel",
     "url": "https://github.com/Calysto/octave_kernel"
    },
    {
     "text": "MetaKernel Magics",
     "url": "https://metakernel.readthedocs.io/en/latest/source/README.html"
    }
   ],
   "mimetype": "text/x-octave",
   "name": "octave",
   "version": "4.0.3"
  }
 },
 "nbformat": 4,
 "nbformat_minor": 2
}
