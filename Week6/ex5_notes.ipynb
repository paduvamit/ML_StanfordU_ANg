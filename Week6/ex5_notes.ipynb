{
 "cells": [
  {
   "cell_type": "code",
   "execution_count": 1,
   "metadata": {},
   "outputs": [],
   "source": [
    "addpath([pwd '/machine-learning-ex5/ex5'])"
   ]
  },
  {
   "cell_type": "code",
   "execution_count": 3,
   "metadata": {},
   "outputs": [
    {
     "name": "stdout",
     "output_type": "stream",
     "text": [
      "warning: load: '/notebooks/MLCourse/Week6/machine-learning-ex5/ex5/ex5data1.mat' found by searching load path\r\n"
     ]
    }
   ],
   "source": [
    "load('ex5data1.mat')"
   ]
  },
  {
   "cell_type": "code",
   "execution_count": 4,
   "metadata": {},
   "outputs": [
    {
     "name": "stdout",
     "output_type": "stream",
     "text": [
      "Variables in the current scope:\r\n",
      "\r\n",
      "   Attr Name        Size                     Bytes  Class\r\n",
      "   ==== ====        ====                     =====  ===== \r\n",
      "        X          12x1                         96  double\r\n",
      "        Xtest      21x1                        168  double\r\n",
      "        Xval       21x1                        168  double\r\n",
      "        ans         1x5                          5  char\r\n",
      "        y          12x1                         96  double\r\n",
      "        ytest      21x1                        168  double\r\n",
      "        yval       21x1                        168  double\r\n",
      "\r\n",
      "Total is 113 elements using 869 bytes\r\n",
      "\r\n"
     ]
    }
   ],
   "source": [
    "whos"
   ]
  },
  {
   "cell_type": "code",
   "execution_count": 6,
   "metadata": {},
   "outputs": [
    {
     "name": "stdout",
     "output_type": "stream",
     "text": [
      "a =\r\n",
      "\r\n",
      "   1\r\n",
      "   1\r\n",
      "   1\r\n",
      "   1\r\n",
      "   1\r\n",
      "\r\n"
     ]
    }
   ],
   "source": [
    "a = ones(5,1)"
   ]
  },
  {
   "cell_type": "code",
   "execution_count": 9,
   "metadata": {},
   "outputs": [
    {
     "name": "stdout",
     "output_type": "stream",
     "text": [
      "a =\r\n",
      "\r\n",
      "   1\r\n",
      "   2\r\n",
      "   2\r\n",
      "   2\r\n",
      "   2\r\n",
      "\r\n"
     ]
    }
   ],
   "source": [
    "a(2:end) = a(2:end) + ones(4,1)"
   ]
  },
  {
   "cell_type": "code",
   "execution_count": 10,
   "metadata": {},
   "outputs": [
    {
     "name": "stdout",
     "output_type": "stream",
     "text": [
      "a =\r\n",
      "\r\n",
      "   1\r\n",
      "   2\r\n",
      "   2\r\n",
      "   2\r\n",
      "   2\r\n",
      "\r\n"
     ]
    }
   ],
   "source": [
    "a"
   ]
  },
  {
   "cell_type": "code",
   "execution_count": 11,
   "metadata": {},
   "outputs": [
    {
     "name": "stdout",
     "output_type": "stream",
     "text": [
      "ans =\r\n",
      "\r\n",
      "    5\r\n",
      "   10\r\n",
      "   10\r\n",
      "   10\r\n",
      "   10\r\n",
      "\r\n"
     ]
    }
   ],
   "source": [
    "5 * a"
   ]
  },
  {
   "cell_type": "code",
   "execution_count": 20,
   "metadata": {},
   "outputs": [],
   "source": [
    "warning('off','Octave:divide-by-zero');"
   ]
  },
  {
   "cell_type": "code",
   "execution_count": 21,
   "metadata": {},
   "outputs": [
    {
     "name": "stdout",
     "output_type": "stream",
     "text": [
      "Loading and Visualizing Data ...\n",
      "warning: load: '/notebooks/MLCourse/Week6/machine-learning-ex5/ex5/ex5data1.mat' found by searching load path\n"
     ]
    },
    {
     "data": {
      "image/png": "[encoded data removed]",
      "text/plain": [
       "<IPython.core.display.Image object>"
      ]
     },
     "metadata": {},
     "output_type": "display_data"
    }
   ],
   "source": [
    "%% =========== Part 1: Loading and Visualizing Data =============\n",
    "%  We start the exercise by first loading and visualizing the dataset. \n",
    "%  The following code will load the dataset into your environment and plot\n",
    "%  the data.\n",
    "%\n",
    "\n",
    "% Load Training Data\n",
    "fprintf('Loading and Visualizing Data ...\\n')\n",
    "\n",
    "% Load from ex5data1: \n",
    "% You will have X, y, Xval, yval, Xtest, ytest in your environment\n",
    "load ('ex5data1.mat');\n",
    "\n",
    "% m = Number of examples\n",
    "m = size(X, 1);\n",
    "\n",
    "% Plot training data\n",
    "plot(X, y, 'rx', 'MarkerSize', 10, 'LineWidth', 1.5);\n",
    "xlabel('Change in water level (x)');\n",
    "ylabel('Water flowing out of the dam (y)');"
   ]
  },
  {
   "cell_type": "code",
   "execution_count": 22,
   "metadata": {},
   "outputs": [
    {
     "name": "stdout",
     "output_type": "stream",
     "text": [
      "Cost at theta = [1 ; 1]: 303.993192 \r\n",
      "(this value should be about 303.993192)\r\n"
     ]
    }
   ],
   "source": [
    "%% =========== Part 2: Regularized Linear Regression Cost =============\n",
    "%  You should now implement the cost function for regularized linear \n",
    "%  regression. \n",
    "%\n",
    "\n",
    "theta = [1 ; 1];\n",
    "J = linearRegCostFunction([ones(m, 1) X], y, theta, 1);\n",
    "\n",
    "fprintf(['Cost at theta = [1 ; 1]: %f '...\n",
    "         '\\n(this value should be about 303.993192)\\n'], J);"
   ]
  },
  {
   "cell_type": "code",
   "execution_count": 23,
   "metadata": {},
   "outputs": [
    {
     "name": "stdout",
     "output_type": "stream",
     "text": [
      "Gradient at theta = [1 ; 1]:  [-15.303016; 598.250744] \r\n",
      "(this value should be about [-15.303016; 598.250744])\r\n"
     ]
    }
   ],
   "source": [
    "%% =========== Part 3: Regularized Linear Regression Gradient =============\n",
    "%  You should now implement the gradient for regularized linear \n",
    "%  regression.\n",
    "%\n",
    "\n",
    "theta = [1 ; 1];\n",
    "[J, grad] = linearRegCostFunction([ones(m, 1) X], y, theta, 1);\n",
    "\n",
    "fprintf(['Gradient at theta = [1 ; 1]:  [%f; %f] '...\n",
    "         '\\n(this value should be about [-15.303016; 598.250744])\\n'], ...\n",
    "         grad(1), grad(2));"
   ]
  },
  {
   "cell_type": "code",
   "execution_count": 24,
   "metadata": {},
   "outputs": [
    {
     "name": "stdout",
     "output_type": "stream",
     "text": [
      "Iteration     1 | Cost: 1.052435e+02\r",
      "Iteration     2 | Cost: 2.237391e+01\r",
      "Iteration     3 | Cost: 2.237391e+01\r",
      "Iteration     5 | Cost: 2.237391e+01\r",
      "\r\n"
     ]
    },
    {
     "data": {
      "image/png": "[encoded data removed]",
      "text/plain": [
       "<IPython.core.display.Image object>"
      ]
     },
     "metadata": {},
     "output_type": "display_data"
    }
   ],
   "source": [
    "%% =========== Part 4: Train Linear Regression =============\n",
    "%  Once you have implemented the cost and gradient correctly, the\n",
    "%  trainLinearReg function will use your cost function to train \n",
    "%  regularized linear regression.\n",
    "% \n",
    "%  Write Up Note: The data is non-linear, so this will not give a great \n",
    "%                 fit.\n",
    "%\n",
    "\n",
    "%  Train linear regression with lambda = 0\n",
    "lambda = 0;\n",
    "[theta] = trainLinearReg([ones(m, 1) X], y, lambda);\n",
    "\n",
    "%  Plot fit over the data\n",
    "plot(X, y, 'rx', 'MarkerSize', 10, 'LineWidth', 1.5);\n",
    "xlabel('Change in water level (x)');\n",
    "ylabel('Water flowing out of the dam (y)');\n",
    "hold on;\n",
    "plot(X, [ones(m, 1) X]*theta, '--', 'LineWidth', 2)\n",
    "hold off;"
   ]
  },
  {
   "cell_type": "code",
   "execution_count": 25,
   "metadata": {},
   "outputs": [
    {
     "name": "stdout",
     "output_type": "stream",
     "text": [
      "Iteration     2 | Cost: 0.000000e+00\n",
      "Iteration    21 | Cost: 4.437343e-31\n",
      "Iteration    31 | Cost: 3.286595e+00\n",
      "Iteration    10 | Cost: 2.842678e+00\n",
      "Iteration     5 | Cost: 1.315405e+01\n",
      "Iteration    19 | Cost: 1.944396e+01\n",
      "Iteration    12 | Cost: 2.009852e+01\n",
      "Iteration     4 | Cost: 1.817286e+01\n",
      "Iteration    15 | Cost: 2.260941e+01\n",
      "Iteration     9 | Cost: 2.326146e+01\n",
      "Iteration     8 | Cost: 2.431725e+01\n",
      "Iteration    43 | Cost: 2.237391e+01\n",
      "# Training Examples\tTrain Error\tCross Validation Error\n",
      "  \t1\t\t0.000000\t204.827168\n",
      "  \t2\t\t0.000000\t110.300366\n",
      "  \t3\t\t3.286595\t45.010231\n",
      "  \t4\t\t2.842678\t48.368911\n",
      "  \t5\t\t13.154049\t35.865165\n",
      "  \t6\t\t19.443963\t33.829962\n",
      "  \t7\t\t20.098522\t31.970986\n",
      "  \t8\t\t18.172859\t30.862446\n",
      "  \t9\t\t22.609405\t31.135998\n",
      "  \t10\t\t23.261462\t28.936207\n",
      "  \t11\t\t24.317250\t29.551432\n",
      "  \t12\t\t22.373906\t29.433818\n"
     ]
    },
    {
     "data": {
      "image/png": "[encoded data removed]",
      "text/plain": [
       "<IPython.core.display.Image object>"
      ]
     },
     "metadata": {},
     "output_type": "display_data"
    }
   ],
   "source": [
    "%% =========== Part 5: Learning Curve for Linear Regression =============\n",
    "%  Next, you should implement the learningCurve function. \n",
    "%\n",
    "%  Write Up Note: Since the model is underfitting the data, we expect to\n",
    "%                 see a graph with \"high bias\" -- Figure 3 in ex5.pdf \n",
    "%\n",
    "\n",
    "lambda = 0;\n",
    "[error_train, error_val] = ...\n",
    "    learningCurve([ones(m, 1) X], y, ...\n",
    "                  [ones(size(Xval, 1), 1) Xval], yval, ...\n",
    "                  lambda);\n",
    "\n",
    "plot(1:m, error_train, 1:m, error_val);\n",
    "title('Learning curve for linear regression')\n",
    "legend('Train', 'Cross Validation')\n",
    "xlabel('Number of training examples')\n",
    "ylabel('Error')\n",
    "axis([0 13 0 150])\n",
    "\n",
    "fprintf('# Training Examples\\tTrain Error\\tCross Validation Error\\n');\n",
    "for i = 1:m\n",
    "    fprintf('  \\t%d\\t\\t%f\\t%f\\n', i, error_train(i), error_val(i));\n",
    "end"
   ]
  },
  {
   "cell_type": "code",
   "execution_count": 27,
   "metadata": {
    "scrolled": true
   },
   "outputs": [
    {
     "name": "stdout",
     "output_type": "stream",
     "text": [
      "Normalized Training Example 1:\n",
      "  1.000000  \n",
      "  -0.362141  \n",
      "  -0.755087  \n",
      "  0.182226  \n",
      "  -0.706190  \n",
      "  0.306618  \n",
      "  -0.590878  \n",
      "  0.344516  \n",
      "  -0.508481  \n"
     ]
    }
   ],
   "source": [
    "%% =========== Part 6: Feature Mapping for Polynomial Regression =============\n",
    "%  One solution to this is to use polynomial regression. You should now\n",
    "%  complete polyFeatures to map each example into its powers\n",
    "%\n",
    "\n",
    "p = 8;\n",
    "\n",
    "% Map X onto Polynomial Features and Normalize\n",
    "X_poly = polyFeatures(X, p);\n",
    "[X_poly, mu, sigma] = featureNormalize(X_poly);  % Normalize\n",
    "X_poly = [ones(m, 1), X_poly];                   % Add Ones\n",
    "\n",
    "% Map X_poly_test and normalize (using mu and sigma)\n",
    "X_poly_test = polyFeatures(Xtest, p);\n",
    "X_poly_test = bsxfun(@minus, X_poly_test, mu);\n",
    "X_poly_test = bsxfun(@rdivide, X_poly_test, sigma);\n",
    "X_poly_test = [ones(size(X_poly_test, 1), 1), X_poly_test];         % Add Ones\n",
    "\n",
    "% Map X_poly_val and normalize (using mu and sigma)\n",
    "X_poly_val = polyFeatures(Xval, p);\n",
    "X_poly_val = bsxfun(@minus, X_poly_val, mu);\n",
    "X_poly_val = bsxfun(@rdivide, X_poly_val, sigma);\n",
    "X_poly_val = [ones(size(X_poly_val, 1), 1), X_poly_val];           % Add Ones\n",
    "\n",
    "fprintf('Normalized Training Example 1:\\n');\n",
    "fprintf('  %f  \\n', X_poly(1, :));"
   ]
  },
  {
   "cell_type": "code",
   "execution_count": 36,
   "metadata": {},
   "outputs": [
    {
     "name": "stdout",
     "output_type": "stream",
     "text": [
      "Iteration    58 | Cost: 7.268148e+00\n",
      "Iteration    42 | Cost: 0.000000e+006\n",
      "Iteration    46 | Cost: 7.269436e-02\n",
      "Iteration    41 | Cost: 1.849879e+01\n",
      "Iteration    61 | Cost: 1.457586e+01\n",
      "Iteration    68 | Cost: 1.166072e+01\n",
      "Iteration    76 | Cost: 1.011882e+01\n",
      "Iteration    72 | Cost: 9.416317e+00\n",
      "Iteration    87 | Cost: 8.256224e+00\n",
      "Iteration    88 | Cost: 7.802076e+00\n",
      "Iteration    25 | Cost: 7.064398e+00\n",
      "Iteration    28 | Cost: 6.423784e+00\n",
      "Iteration    51 | Cost: 7.268148e+00\n",
      "Polynomial Regression (lambda = 1.000000)\n",
      "\n",
      "# Training Examples\tTrain Error\tCross Validation Error\n",
      "  \t1\t\t0.000000\t138.846777\n",
      "  \t2\t\t0.045772\t143.522890\n",
      "  \t3\t\t2.911375\t5.534713\n",
      "  \t4\t\t1.499413\t6.609883\n",
      "  \t5\t\t1.199183\t6.634076\n",
      "  \t6\t\t0.924511\t8.291979\n",
      "  \t7\t\t1.540897\t5.737166\n",
      "  \t8\t\t1.422968\t5.516444\n",
      "  \t9\t\t1.553733\t6.239740\n",
      "  \t10\t\t1.441565\t5.983045\n",
      "  \t11\t\t1.308147\t6.043752\n",
      "  \t12\t\t2.076188\t4.260625\n"
     ]
    },
    {
     "data": {
      "image/png": "[encoded data removed]",
      "text/plain": [
       "<IPython.core.display.Image object>"
      ]
     },
     "metadata": {},
     "output_type": "display_data"
    },
    {
     "data": {
      "image/png": "[encoded data removed]",
      "text/plain": [
       "<IPython.core.display.Image object>"
      ]
     },
     "metadata": {},
     "output_type": "display_data"
    }
   ],
   "source": [
    "%% =========== Part 7: Learning Curve for Polynomial Regression =============\n",
    "%  Now, you will get to experiment with polynomial regression with multiple\n",
    "%  values of lambda. The code below runs polynomial regression with \n",
    "%  lambda = 0. You should try running the code with different values of\n",
    "%  lambda to see how the fit and learning curve change.\n",
    "%\n",
    "\n",
    "lambda = 1;\n",
    "[theta] = trainLinearReg(X_poly, y, lambda);\n",
    "\n",
    "% Plot training data and fit\n",
    "figure(1);\n",
    "plot(X, y, 'rx', 'MarkerSize', 10, 'LineWidth', 1.5);\n",
    "plotFit(min(X), max(X), mu, sigma, theta, p);\n",
    "xlabel('Change in water level (x)');\n",
    "ylabel('Water flowing out of the dam (y)');\n",
    "title (sprintf('Polynomial Regression Fit (lambda = %f)', lambda));\n",
    "\n",
    "figure(2);\n",
    "[error_train, error_val] = ...\n",
    "    learningCurve(X_poly, y, X_poly_val, yval, lambda);\n",
    "plot(1:m, error_train, 1:m, error_val);\n",
    "\n",
    "title(sprintf('Polynomial Regression Learning Curve (lambda = %f)', lambda));\n",
    "xlabel('Number of training examples')\n",
    "ylabel('Error')\n",
    "axis([0 13 0 100])\n",
    "legend('Train', 'Cross Validation')\n",
    "\n",
    "fprintf('Polynomial Regression (lambda = %f)\\n\\n', lambda);\n",
    "fprintf('# Training Examples\\tTrain Error\\tCross Validation Error\\n');\n",
    "for i = 1:m\n",
    "    fprintf('  \\t%d\\t\\t%f\\t%f\\n', i, error_train(i), error_val(i));\n",
    "end"
   ]
  },
  {
   "cell_type": "code",
   "execution_count": 45,
   "metadata": {},
   "outputs": [
    {
     "name": "stdout",
     "output_type": "stream",
     "text": [
      "Iteration   200 | Cost: 1.213882e-01\n",
      "Iteration   200 | Cost: 1.862327e-01\n",
      "Iteration   200 | Cost: 2.505767e-01\n",
      "Iteration   200 | Cost: 3.850630e-01\n",
      "Iteration   200 | Cost: 6.692749e-01\n",
      "Iteration   167 | Cost: 1.443470e+00\n",
      "Iteration   100 | Cost: 3.101591e+00\n",
      "Iteration    58 | Cost: 7.268148e+00\n",
      "Iteration    32 | Cost: 1.586769e+01\n",
      "Iteration    25 | Cost: 3.337220e+01\n",
      "lambda\t\tTrain Error\tValidation Error\n",
      " 0.000000\t0.121388\t13.080541\n",
      " 0.001000\t0.151640\t16.432979\n",
      " 0.003000\t0.175861\t18.426290\n",
      " 0.010000\t0.221481\t16.961165\n",
      " 0.030000\t0.281855\t12.829307\n",
      " 0.100000\t0.459318\t7.587015\n",
      " 0.300000\t0.921760\t4.636833\n",
      " 1.000000\t2.076188\t4.260626\n",
      " 3.000000\t4.901351\t3.822907\n",
      " 10.000000\t16.092213\t9.945509\n"
     ]
    },
    {
     "data": {
      "image/png": "[encoded data removed]",
      "text/plain": [
       "<IPython.core.display.Image object>"
      ]
     },
     "metadata": {},
     "output_type": "display_data"
    }
   ],
   "source": [
    "%% =========== Part 8: Validation for Selecting Lambda =============\n",
    "%  You will now implement validationCurve to test various values of \n",
    "%  lambda on a validation set. You will then use this to select the\n",
    "%  \"best\" lambda value.\n",
    "%\n",
    "\n",
    "[lambda_vec, error_train, error_val] = ...\n",
    "    validationCurve(X_poly, y, X_poly_val, yval);\n",
    "\n",
    "close all;\n",
    "plot(lambda_vec, error_train, lambda_vec, error_val);\n",
    "legend('Train', 'Cross Validation');\n",
    "xlabel('lambda');\n",
    "ylabel('Error');\n",
    "\n",
    "fprintf('lambda\\t\\tTrain Error\\tValidation Error\\n');\n",
    "for i = 1:length(lambda_vec)\n",
    "\tfprintf(' %f\\t%f\\t%f\\n', ...\n",
    "            lambda_vec(i), error_train(i), error_val(i));\n",
    "end"
   ]
  },
  {
   "cell_type": "code",
   "execution_count": 46,
   "metadata": {},
   "outputs": [
    {
     "name": "stdout",
     "output_type": "stream",
     "text": [
      "Variables in the current scope:\r\n",
      "\r\n",
      "   Attr Name             Size                     Bytes  Class\r\n",
      "   ==== ====             ====                     =====  ===== \r\n",
      "        J                1x1                          8  double\r\n",
      "        X               12x1                         96  double\r\n",
      "        X_poly          12x9                        864  double\r\n",
      "        X_poly_test     21x9                       1512  double\r\n",
      "        X_poly_val      21x9                       1512  double\r\n",
      "        Xtest           21x1                        168  double\r\n",
      "        Xval            21x1                        168  double\r\n",
      "        a                5x1                         40  double\r\n",
      "        ans              1x1                          8  double\r\n",
      "        error_train     10x1                         80  double\r\n",
      "        error_val       10x1                         80  double\r\n",
      "        grad             2x1                         16  double\r\n",
      "        i                1x1                          8  double\r\n",
      "        lambda           1x1                          8  double\r\n",
      "        lambda_vec      10x1                         80  double\r\n",
      "        m                1x1                          8  double\r\n",
      "        mu               1x8                         64  double\r\n",
      "        p                1x1                          8  double\r\n",
      "        sigma            1x8                         64  double\r\n",
      "        theta            9x1                         72  double\r\n",
      "        y               12x1                         96  double\r\n",
      "        ytest           21x1                        168  double\r\n",
      "        yval            21x1                        168  double\r\n",
      "\r\n",
      "Total is 662 elements using 5296 bytes\r\n",
      "\r\n"
     ]
    }
   ],
   "source": [
    "whos"
   ]
  },
  {
   "cell_type": "code",
   "execution_count": 72,
   "metadata": {},
   "outputs": [
    {
     "name": "stdout",
     "output_type": "stream",
     "text": [
      "Iteration    41 | Cost: 1.193299e+01\n",
      "crossValError =  3.9884\n",
      "testError =  2.9111\n"
     ]
    }
   ],
   "source": [
    "lambda = 2;\n",
    "[theta] = trainLinearReg(X_poly, y, lambda);\n",
    "crossValError = linearRegCostFunction(X_poly_val, yval , theta, 0)\n",
    "testError = linearRegCostFunction(X_poly_test, ytest , theta, 0)"
   ]
  },
  {
   "cell_type": "code",
   "execution_count": 73,
   "metadata": {},
   "outputs": [
    {
     "name": "stdout",
     "output_type": "stream",
     "text": [
      "Variables in the current scope:\r\n",
      "\r\n",
      "   Attr Name               Size                     Bytes  Class\r\n",
      "   ==== ====               ====                     =====  ===== \r\n",
      "        J                  1x1                          8  double\r\n",
      "        X                 12x1                         96  double\r\n",
      "        X_poly            12x9                        864  double\r\n",
      "        X_poly_test       21x9                       1512  double\r\n",
      "        X_poly_val        21x9                       1512  double\r\n",
      "        Xtest             21x1                        168  double\r\n",
      "        Xval              21x1                        168  double\r\n",
      "        a                  5x1                         40  double\r\n",
      "        ans                1x1                          8  double\r\n",
      "        crossValError      1x1                          8  double\r\n",
      "        error_train       10x1                         80  double\r\n",
      "        error_val         10x1                         80  double\r\n",
      "        grad               2x1                         16  double\r\n",
      "        i                  1x1                          8  double\r\n",
      "        lambda             1x1                          8  double\r\n",
      "        lambda_vec        10x1                         80  double\r\n",
      "        m                  1x1                          8  double\r\n",
      "        mu                 1x8                         64  double\r\n",
      "        p                  1x1                          8  double\r\n",
      "        sigma              1x8                         64  double\r\n",
      "        testError          1x1                          8  double\r\n",
      "        theta              9x1                         72  double\r\n",
      "        y                 12x1                         96  double\r\n",
      "        ytest             21x1                        168  double\r\n",
      "        yval              21x1                        168  double\r\n",
      "\r\n",
      "Total is 664 elements using 5312 bytes\r\n",
      "\r\n"
     ]
    }
   ],
   "source": [
    "whos"
   ]
  },
  {
   "cell_type": "code",
   "execution_count": 80,
   "metadata": {},
   "outputs": [
    {
     "name": "stdout",
     "output_type": "stream",
     "text": [
      "a =\r\n",
      "\r\n",
      "   1\r\n",
      "   2\r\n",
      "   3\r\n",
      "   4\r\n",
      "   5\r\n",
      "\r\n"
     ]
    }
   ],
   "source": [
    "a = [1;2;3;4;5]"
   ]
  },
  {
   "cell_type": "code",
   "execution_count": 87,
   "metadata": {},
   "outputs": [
    {
     "name": "stdout",
     "output_type": "stream",
     "text": [
      "ans =\r\n",
      "\r\n",
      "   3\r\n",
      "   5\r\n",
      "\r\n"
     ]
    }
   ],
   "source": [
    "a(randperm(length(a),2))"
   ]
  },
  {
   "cell_type": "code",
   "execution_count": 94,
   "metadata": {},
   "outputs": [
    {
     "name": "stdout",
     "output_type": "stream",
     "text": [
      "Polynomial Regression (lambda = 0.010000)\n",
      "\n",
      "# Training Examples\tTrain Error\tCross Validation Error\n",
      "  \t1\t\t0.000000\t166.772463\n",
      "  \t2\t\t0.010680\t68.447110\n",
      "  \t3\t\t0.027425\t41.343194\n",
      "  \t4\t\t0.028410\t38.061501\n",
      "  \t5\t\t0.042204\t17.434208\n",
      "  \t6\t\t0.061979\t20.170248\n",
      "  \t7\t\t0.102388\t19.323800\n",
      "  \t8\t\t0.127955\t14.009085\n",
      "  \t9\t\t0.157204\t15.071869\n",
      "  \t10\t\t0.183188\t18.439004\n",
      "  \t11\t\t0.207791\t16.405757\n",
      "  \t12\t\t0.221861\t15.644194\n"
     ]
    },
    {
     "data": {
      "image/png": "[encoded data removed]",
      "text/plain": [
       "<IPython.core.display.Image object>"
      ]
     },
     "metadata": {},
     "output_type": "display_data"
    },
    {
     "data": {
      "image/png": "[encoded data removed]",
      "text/plain": [
       "<IPython.core.display.Image object>"
      ]
     },
     "metadata": {},
     "output_type": "display_data"
    }
   ],
   "source": [
    "%% =========== Part 7: Learning Curve for Polynomial Regression (with sample randomization) =============\n",
    "\n",
    "lambda = 0.01;\n",
    "[theta] = trainLinearReg(X_poly, y, lambda);\n",
    "\n",
    "% Plot training data and fit\n",
    "figure(1);\n",
    "plot(X, y, 'rx', 'MarkerSize', 10, 'LineWidth', 1.5);\n",
    "plotFit(min(X), max(X), mu, sigma, theta, p);\n",
    "xlabel('Change in water level (x)');\n",
    "ylabel('Water flowing out of the dam (y)');\n",
    "title (sprintf('Polynomial Regression Fit (lambda = %f)', lambda));\n",
    "\n",
    "figure(2);\n",
    "[error_train, error_val] = ...\n",
    "    learningCurveRandom(X_poly, y, X_poly_val, yval, lambda);\n",
    "plot(1:m, error_train, 1:m, error_val);\n",
    "\n",
    "title(sprintf('Polynomial Regression Learning Curve (lambda = %f)', lambda));\n",
    "xlabel('Number of training examples')\n",
    "ylabel('Error')\n",
    "axis([0 13 0 100])\n",
    "legend('Train', 'Cross Validation')\n",
    "\n",
    "fprintf('Polynomial Regression (lambda = %f)\\n\\n', lambda);\n",
    "fprintf('# Training Examples\\tTrain Error\\tCross Validation Error\\n');\n",
    "for i = 1:m\n",
    "    fprintf('  \\t%d\\t\\t%f\\t%f\\n', i, error_train(i), error_val(i));\n",
    "end"
   ]
  },
  {
   "cell_type": "code",
   "execution_count": null,
   "metadata": {},
   "outputs": [],
   "source": []
  }
 ],
 "metadata": {
  "kernelspec": {
   "display_name": "Octave",
   "language": "octave",
   "name": "octave"
  },
  "language_info": {
   "file_extension": ".m",
   "help_links": [
    {
     "text": "GNU Octave",
     "url": "https://www.gnu.org/software/octave/support.html"
    },
    {
     "text": "Octave Kernel",
     "url": "https://github.com/Calysto/octave_kernel"
    },
    {
     "text": "MetaKernel Magics",
     "url": "https://metakernel.readthedocs.io/en/latest/source/README.html"
    }
   ],
   "mimetype": "text/x-octave",
   "name": "octave",
   "version": "4.0.3"
  }
 },
 "nbformat": 4,
 "nbformat_minor": 2
}
