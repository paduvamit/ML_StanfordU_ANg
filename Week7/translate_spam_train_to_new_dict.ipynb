{
 "cells": [
  {
   "cell_type": "code",
   "execution_count": 2,
   "metadata": {},
   "outputs": [],
   "source": [
    "addpath([pwd '/libsvm-3.23/matlab'])\n",
    "addpath([pwd '/machine-learning-ex6/ex6'])"
   ]
  },
  {
   "cell_type": "code",
   "execution_count": 3,
   "metadata": {
    "scrolled": true
   },
   "outputs": [
    {
     "name": "stdout",
     "output_type": "stream",
     "text": [
      "warning: load: '/notebooks/MLCourse/Week7/machine-learning-ex6/ex6/spamTrain.mat' found by searching load path\r\n"
     ]
    }
   ],
   "source": [
    "load('spamTrain')"
   ]
  },
  {
   "cell_type": "code",
   "execution_count": 6,
   "metadata": {},
   "outputs": [
    {
     "name": "stdout",
     "output_type": "stream",
     "text": [
      "warning: fopen: '/notebooks/MLCourse/Week7/machine-learning-ex6/ex6/vocab.txt' found by searching load path\r\n",
      "warning: called from\r\n",
      "    getVocabList at line 9 column 5\r\n"
     ]
    }
   ],
   "source": [
    "homework_vocab = getVocabList();"
   ]
  },
  {
   "cell_type": "code",
   "execution_count": 7,
   "metadata": {},
   "outputs": [],
   "source": [
    "new_vocab = getVocabListExtra();"
   ]
  },
  {
   "cell_type": "code",
   "execution_count": null,
   "metadata": {},
   "outputs": [],
   "source": [
    "X_translated = [];\n",
    "for i = 1:length(y)\n",
    "    current_example = X(i,:);\n",
    "    homework_vocab_words = homework_vocab(find(current_example==1));\n",
    "    word_indices_in_new_vocab = [];\n",
    "    for w_i = 1:length(homework_vocab_words)\n",
    "        word_indices_in_new_vocab = [word_indices_in_new_vocab; find(strcmp(new_vocab,homework_vocab_words{w_i}))];\n",
    "    end\n",
    "    X_translated = [X_translated; emailFeaturesExtra(word_indices_in_new_vocab)'];\n",
    "end"
   ]
  },
  {
   "cell_type": "code",
   "execution_count": 10,
   "metadata": {},
   "outputs": [
    {
     "name": "stdout",
     "output_type": "stream",
     "text": [
      "ans =\r\n",
      "\r\n",
      "   7768000         1\r\n",
      "\r\n"
     ]
    }
   ],
   "source": [
    "size(X_translated)"
   ]
  },
  {
   "cell_type": "code",
   "execution_count": null,
   "metadata": {},
   "outputs": [],
   "source": []
  }
 ],
 "metadata": {
  "kernelspec": {
   "display_name": "Octave",
   "language": "octave",
   "name": "octave"
  },
  "language_info": {
   "file_extension": ".m",
   "help_links": [
    {
     "text": "GNU Octave",
     "url": "https://www.gnu.org/software/octave/support.html"
    },
    {
     "text": "Octave Kernel",
     "url": "https://github.com/Calysto/octave_kernel"
    },
    {
     "text": "MetaKernel Magics",
     "url": "https://metakernel.readthedocs.io/en/latest/source/README.html"
    }
   ],
   "mimetype": "text/x-octave",
   "name": "octave",
   "version": "4.0.3"
  }
 },
 "nbformat": 4,
 "nbformat_minor": 2
}
