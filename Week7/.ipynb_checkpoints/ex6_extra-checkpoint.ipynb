{
 "cells": [
  {
   "cell_type": "code",
   "execution_count": 9,
   "metadata": {},
   "outputs": [],
   "source": [
    "addpath([pwd '/machine-learning-ex6/ex6'])"
   ]
  },
  {
   "cell_type": "markdown",
   "metadata": {},
   "source": [
    "easy_ham = glob('easy_ham/0*');\n",
    "easy_ham_2 = glob('easy_ham_2/0*');\n",
    "hard_ham = glob('hard_ham/0*');\n",
    "spam_2 = glob('spam_2/0*');\n",
    "spam = glob('spam/0*');"
   ]
  },
  {
   "cell_type": "markdown",
   "metadata": {},
   "source": [
    "size(easy_ham)\n",
    "size(easy_ham_2)\n",
    "size(hard_ham)\n",
    "size(spam)\n",
    "size(spam_2)"
   ]
  },
  {
   "cell_type": "markdown",
   "metadata": {},
   "source": [
    "file_globs = [easy_ham; easy_ham_2; hard_ham; spam_2; spam];"
   ]
  },
  {
   "cell_type": "markdown",
   "metadata": {},
   "source": [
    "size(file_globs)"
   ]
  },
  {
   "cell_type": "markdown",
   "metadata": {},
   "source": [
    "length(file_globs)"
   ]
  },
  {
   "cell_type": "markdown",
   "metadata": {},
   "source": [
    "em = readFile(file_globs{3000});\n",
    "pr = processEmailExtra(em);"
   ]
  },
  {
   "cell_type": "markdown",
   "metadata": {},
   "source": [
    "for i = 1:length(file_globs)\n",
    "    file_addr = file_globs{i};\n",
    "    email = readFile(file_addr);\n",
    "    processed = processEmailExtra(email);\n",
    "    dlmwrite('examples',processed,'delimiter','','-append');\n",
    "end"
   ]
  },
  {
   "cell_type": "code",
   "execution_count": 135,
   "metadata": {},
   "outputs": [],
   "source": [
    "vocabList = getVocabListExtra();"
   ]
  },
  {
   "cell_type": "code",
   "execution_count": 136,
   "metadata": {},
   "outputs": [
    {
     "name": "stdout",
     "output_type": "stream",
     "text": [
      "ans =  1942\r\n"
     ]
    }
   ],
   "source": [
    "length(vocabList)"
   ]
  },
  {
   "cell_type": "code",
   "execution_count": 137,
   "metadata": {},
   "outputs": [
    {
     "name": "stdout",
     "output_type": "stream",
     "text": [
      "ans = 0\r\n"
     ]
    }
   ],
   "source": [
    "fclose('all')"
   ]
  },
  {
   "cell_type": "code",
   "execution_count": 138,
   "metadata": {},
   "outputs": [],
   "source": [
    "examples_fid = fopen('examples');\n",
    "X = [];\n",
    "for email_index = 1:6046\n",
    "    email = strsplit(fgetl(examples_fid));\n",
    "    word_indices = [];\n",
    "    for word_index = 1:length(email)\n",
    "        word_indices = [word_indices; find(strcmp(vocabList,email{word_index}))];\n",
    "    end\n",
    "    features = emailFeaturesExtra(word_indices);\n",
    "    X = [X ; features'];\n",
    "end\n",
    "fclose(examples_fid);"
   ]
  },
  {
   "cell_type": "code",
   "execution_count": 139,
   "metadata": {},
   "outputs": [
    {
     "name": "stdout",
     "output_type": "stream",
     "text": [
      "Variables in the current scope:\r\n",
      "\r\n",
      "   Attr Name              Size                     Bytes  Class\r\n",
      "   ==== ====              ====                     =====  ===== \r\n",
      "        X              6046x1942                93930656  double\r\n",
      "        a                 1x1                          8  double\r\n",
      "        ans               1x1                          8  double\r\n",
      "        easy_ham       2500x1                     117500  cell\r\n",
      "        easy_ham_2     1400x1                      68600  cell\r\n",
      "        em                1x6475                    6475  char\r\n",
      "        email             1x212                     1048  cell\r\n",
      "        email_index       1x1                          8  double\r\n",
      "        examples_fid      1x1                          8  double\r\n",
      "        features       1942x1                      15536  double\r\n",
      "        file_addr         1x43                        43  char\r\n",
      "        file_globs     6046x1                     282170  cell\r\n",
      "        hard_ham        250x1                      11750  cell\r\n",
      "        i                 1x1                          8  double\r\n",
      "        pr                1x2609                    2609  char\r\n",
      "        processed         1x1259                    1259  char\r\n",
      "        spam            500x1                      21500  cell\r\n",
      "        spam_2         1396x1                      62820  cell\r\n",
      "        subset_fid        1x1                          8  double\r\n",
      "        vocabList      1942x1                      10240  cell\r\n",
      "        word_index        1x1                          8  double\r\n",
      "        word_indices    159x1                       1272  double\r\n",
      "\r\n",
      "Total is 11768072 elements using 94533534 bytes\r\n",
      "\r\n"
     ]
    }
   ],
   "source": [
    "whos"
   ]
  },
  {
   "cell_type": "code",
   "execution_count": 140,
   "metadata": {},
   "outputs": [],
   "source": [
    "y = [zeros(4150,1);ones(1896,1)];"
   ]
  },
  {
   "cell_type": "code",
   "execution_count": 141,
   "metadata": {},
   "outputs": [
    {
     "name": "stdout",
     "output_type": "stream",
     "text": [
      "ans =  6046\r\n"
     ]
    }
   ],
   "source": [
    "length(y)"
   ]
  },
  {
   "cell_type": "code",
   "execution_count": 142,
   "metadata": {},
   "outputs": [
    {
     "name": "stdout",
     "output_type": "stream",
     "text": [
      "Variables in the current scope:\r\n",
      "\r\n",
      "   Attr Name              Size                     Bytes  Class\r\n",
      "   ==== ====              ====                     =====  ===== \r\n",
      "        X              6046x1942                93930656  double\r\n",
      "        a                 1x1                          8  double\r\n",
      "        ans               1x1                          8  double\r\n",
      "        easy_ham       2500x1                     117500  cell\r\n",
      "        easy_ham_2     1400x1                      68600  cell\r\n",
      "        em                1x6475                    6475  char\r\n",
      "        email             1x212                     1048  cell\r\n",
      "        email_index       1x1                          8  double\r\n",
      "        examples_fid      1x1                          8  double\r\n",
      "        features       1942x1                      15536  double\r\n",
      "        file_addr         1x43                        43  char\r\n",
      "        file_globs     6046x1                     282170  cell\r\n",
      "        hard_ham        250x1                      11750  cell\r\n",
      "        i                 1x1                          8  double\r\n",
      "        pr                1x2609                    2609  char\r\n",
      "        processed         1x1259                    1259  char\r\n",
      "        spam            500x1                      21500  cell\r\n",
      "        spam_2         1396x1                      62820  cell\r\n",
      "        subset_fid        1x1                          8  double\r\n",
      "        vocabList      1942x1                      10240  cell\r\n",
      "        word_index        1x1                          8  double\r\n",
      "        word_indices    159x1                       1272  double\r\n",
      "        y              6046x1                      48368  double\r\n",
      "\r\n",
      "Total is 11774118 elements using 94581902 bytes\r\n",
      "\r\n"
     ]
    }
   ],
   "source": [
    "whos"
   ]
  },
  {
   "cell_type": "code",
   "execution_count": 143,
   "metadata": {},
   "outputs": [
    {
     "name": "stdout",
     "output_type": "stream",
     "text": [
      "'randperm' is a built-in function from the file libinterp/corefcn/rand.cc\r\n",
      "\r\n",
      " -- Built-in Function: randperm (N)\r\n",
      " -- Built-in Function: randperm (N, M)\r\n",
      "     Return a row vector containing a random permutation of '1:N'.\r\n",
      "\r\n",
      "     If M is supplied, return M unique entries, sampled without\r\n",
      "     replacement from '1:N'.\r\n",
      "\r\n",
      "     The complexity is O(N) in memory and O(M) in time, unless M < N/5,\r\n",
      "     in which case O(M) memory is used as well.  The randomization is\r\n",
      "     performed using rand().  All permutations are equally likely.\r\n",
      "\r\n",
      "     See also: perms.\r\n",
      "\r\n",
      "Additional help for built-in functions and operators is\r\n",
      "available in the online version of the manual.  Use the command\r\n",
      "'doc <topic>' to search the manual index.\r\n",
      "\r\n",
      "Help and information about Octave is also available on the WWW\r\n",
      "at http://www.octave.org and via the help@octave.org\r\n",
      "mailing list.\r\n"
     ]
    }
   ],
   "source": [
    "help randperm"
   ]
  },
  {
   "cell_type": "code",
   "execution_count": 147,
   "metadata": {},
   "outputs": [],
   "source": [
    "shuffled_indices = randperm (6046);"
   ]
  },
  {
   "cell_type": "code",
   "execution_count": 148,
   "metadata": {},
   "outputs": [
    {
     "name": "stdout",
     "output_type": "stream",
     "text": [
      "ans =  6046\r\n"
     ]
    }
   ],
   "source": [
    "length(unique(shuffled_indices))"
   ]
  },
  {
   "cell_type": "code",
   "execution_count": 160,
   "metadata": {},
   "outputs": [],
   "source": [
    "shuffled_X = X(shuffled_indices,:);\n",
    "shuffled_y = y(shuffled_indices,:);"
   ]
  },
  {
   "cell_type": "code",
   "execution_count": 167,
   "metadata": {},
   "outputs": [],
   "source": [
    "X = shuffled_X;\n",
    "y = shuffled_y;"
   ]
  },
  {
   "cell_type": "code",
   "execution_count": 175,
   "metadata": {},
   "outputs": [],
   "source": [
    "save SA_dat.mat X y"
   ]
  },
  {
   "cell_type": "code",
   "execution_count": 177,
   "metadata": {},
   "outputs": [
    {
     "name": "stdout",
     "output_type": "stream",
     "text": [
      "train_size =  3627\r\n"
     ]
    }
   ],
   "source": [
    "train_size = floor(0.6*length(y))"
   ]
  },
  {
   "cell_type": "code",
   "execution_count": 178,
   "metadata": {},
   "outputs": [
    {
     "name": "stdout",
     "output_type": "stream",
     "text": [
      "cv_size =  1209\r\n"
     ]
    }
   ],
   "source": [
    "cv_size = floor(0.5 * (length(y)-train_size))"
   ]
  },
  {
   "cell_type": "code",
   "execution_count": 179,
   "metadata": {},
   "outputs": [
    {
     "name": "stdout",
     "output_type": "stream",
     "text": [
      "test_size =  1210\r\n"
     ]
    }
   ],
   "source": [
    "test_size = length(y) - (train_size + cv_size)"
   ]
  },
  {
   "cell_type": "code",
   "execution_count": 180,
   "metadata": {},
   "outputs": [
    {
     "name": "stdout",
     "output_type": "stream",
     "text": [
      "ans =  6046\r\n"
     ]
    }
   ],
   "source": [
    "train_size + cv_size + test_size"
   ]
  },
  {
   "cell_type": "code",
   "execution_count": 182,
   "metadata": {},
   "outputs": [],
   "source": [
    "X_train = X(1:train_size,:);\n",
    "y_train = y(1:train_size,:);"
   ]
  },
  {
   "cell_type": "code",
   "execution_count": 183,
   "metadata": {},
   "outputs": [
    {
     "name": "stdout",
     "output_type": "stream",
     "text": [
      "ans =\n",
      "\n",
      "   3627   1942\n",
      "\n",
      "ans =\n",
      "\n",
      "   3627      1\n",
      "\n"
     ]
    }
   ],
   "source": [
    "size(X_train)\n",
    "size(y_train)"
   ]
  },
  {
   "cell_type": "code",
   "execution_count": 186,
   "metadata": {},
   "outputs": [
    {
     "name": "stdout",
     "output_type": "stream",
     "text": [
      "cv_start =  3628\n",
      "cv_end =  4836\n",
      "ans =  1\n"
     ]
    }
   ],
   "source": [
    "cv_start = train_size + 1\n",
    "cv_end = cv_start + cv_size - 1\n",
    "cv_end - cv_start + 1 ==  cv_size"
   ]
  },
  {
   "cell_type": "code",
   "execution_count": 187,
   "metadata": {},
   "outputs": [],
   "source": [
    "X_cv = X(cv_start:cv_end,:);\n",
    "y_cv = y(cv_start:cv_end,:);"
   ]
  },
  {
   "cell_type": "code",
   "execution_count": 188,
   "metadata": {},
   "outputs": [
    {
     "name": "stdout",
     "output_type": "stream",
     "text": [
      "ans =\n",
      "\n",
      "   1209   1942\n",
      "\n",
      "ans =\n",
      "\n",
      "   1209      1\n",
      "\n"
     ]
    }
   ],
   "source": [
    "size(X_cv)\n",
    "size(y_cv)"
   ]
  },
  {
   "cell_type": "code",
   "execution_count": 190,
   "metadata": {},
   "outputs": [
    {
     "name": "stdout",
     "output_type": "stream",
     "text": [
      "test_start =  4837\n",
      "test_end =  6046\n",
      "ans =  1\n"
     ]
    }
   ],
   "source": [
    "test_start = cv_end + 1\n",
    "test_end = length(y)\n",
    "test_end - test_start + 1 ==  test_size"
   ]
  },
  {
   "cell_type": "code",
   "execution_count": 191,
   "metadata": {},
   "outputs": [],
   "source": [
    "X_test = X(test_start:test_end,:);\n",
    "y_test = y(test_start:test_end,:);"
   ]
  },
  {
   "cell_type": "code",
   "execution_count": 192,
   "metadata": {},
   "outputs": [
    {
     "name": "stdout",
     "output_type": "stream",
     "text": [
      "ans =\n",
      "\n",
      "   1210   1942\n",
      "\n",
      "ans =\n",
      "\n",
      "   1210      1\n",
      "\n"
     ]
    }
   ],
   "source": [
    "size(X_test)\n",
    "size(y_test)"
   ]
  },
  {
   "cell_type": "code",
   "execution_count": 193,
   "metadata": {},
   "outputs": [
    {
     "name": "stdout",
     "output_type": "stream",
     "text": [
      "Variables in the current scope:\r\n",
      "\r\n",
      "   Attr Name                  Size                     Bytes  Class\r\n",
      "   ==== ====                  ====                     =====  ===== \r\n",
      "        X                  6046x1942                93930656  double\r\n",
      "        X_cv               1209x1942                18783024  double\r\n",
      "        X_test             1210x1942                18798560  double\r\n",
      "        X_train            3627x1942                56349072  double\r\n",
      "        a                     1x1                          8  double\r\n",
      "        ans                   1x2                         16  double\r\n",
      "        cv_end                1x1                          8  double\r\n",
      "        cv_size               1x1                          8  double\r\n",
      "        cv_start              1x1                          8  double\r\n",
      "        easy_ham           2500x1                     117500  cell\r\n",
      "        easy_ham_2         1400x1                      68600  cell\r\n",
      "        em                    1x6475                    6475  char\r\n",
      "        email                 1x212                     1048  cell\r\n",
      "        email_index           1x1                          8  double\r\n",
      "        examples_fid          1x1                          8  double\r\n",
      "        features           1942x1                      15536  double\r\n",
      "        file_addr             1x43                        43  char\r\n",
      "        file_globs         6046x1                     282170  cell\r\n",
      "        hard_ham            250x1                      11750  cell\r\n",
      "        i                     1x1                          8  double\r\n",
      "        pr                    1x2609                    2609  char\r\n",
      "        processed             1x1259                    1259  char\r\n",
      "        shuffled_X         6046x1942                93930656  double\r\n",
      "        shuffled_indices      1x6046                   48368  double\r\n",
      "        shuffled_y         6046x1                      48368  double\r\n",
      "        spam                500x1                      21500  cell\r\n",
      "        spam_2             1396x1                      62820  cell\r\n",
      "        subset_fid            1x1                          8  double\r\n",
      "        test_end              1x1                          8  double\r\n",
      "        test_shuffle          1x100                      800  double\r\n",
      "        test_size             1x1                          8  double\r\n",
      "        test_start            1x1                          8  double\r\n",
      "        train_size            1x1                          8  double\r\n",
      "        vocabList          1942x1                      10240  cell\r\n",
      "        word_index            1x1                          8  double\r\n",
      "        word_indices        159x1                       1272  double\r\n",
      "        y                  6046x1                      48368  double\r\n",
      "        y_cv               1209x1                       9672  double\r\n",
      "        y_test             1210x1                       9680  double\r\n",
      "        y_train            3627x1                      29016  double\r\n",
      "\r\n",
      "Total is 35275028 elements using 282589182 bytes\r\n",
      "\r\n"
     ]
    }
   ],
   "source": [
    "whos"
   ]
  },
  {
   "cell_type": "code",
   "execution_count": 194,
   "metadata": {},
   "outputs": [],
   "source": [
    "save SA_dat_train_cv_test.mat X_* y_*"
   ]
  },
  {
   "cell_type": "code",
   "execution_count": null,
   "metadata": {},
   "outputs": [],
   "source": []
  }
 ],
 "metadata": {
  "kernelspec": {
   "display_name": "Octave",
   "language": "octave",
   "name": "octave"
  },
  "language_info": {
   "file_extension": ".m",
   "help_links": [
    {
     "text": "GNU Octave",
     "url": "https://www.gnu.org/software/octave/support.html"
    },
    {
     "text": "Octave Kernel",
     "url": "https://github.com/Calysto/octave_kernel"
    },
    {
     "text": "MetaKernel Magics",
     "url": "https://metakernel.readthedocs.io/en/latest/source/README.html"
    }
   ],
   "mimetype": "text/x-octave",
   "name": "octave",
   "version": "4.0.3"
  }
 },
 "nbformat": 4,
 "nbformat_minor": 2
}
