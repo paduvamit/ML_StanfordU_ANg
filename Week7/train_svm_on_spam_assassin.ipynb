{
 "cells": [
  {
   "cell_type": "code",
   "execution_count": 151,
   "metadata": {},
   "outputs": [],
   "source": [
    "addpath([pwd '/libsvm-3.23/matlab'])\n",
    "addpath([pwd '/machine-learning-ex6/ex6'])"
   ]
  },
  {
   "cell_type": "code",
   "execution_count": 2,
   "metadata": {},
   "outputs": [],
   "source": [
    "load('SA_dat_train_cv_test.mat')"
   ]
  },
  {
   "cell_type": "code",
   "execution_count": 11,
   "metadata": {},
   "outputs": [
    {
     "name": "stdout",
     "output_type": "stream",
     "text": [
      "gaussian_kernel = 2\r\n"
     ]
    }
   ],
   "source": [
    "gaussian_kernel = '2'"
   ]
  },
  {
   "cell_type": "code",
   "execution_count": 234,
   "metadata": {},
   "outputs": [
    {
     "name": "stdout",
     "output_type": "stream",
     "text": [
      "sigma = 0.003\r\n"
     ]
    }
   ],
   "source": [
    "sigma = '0.003' % derived with getBestParams"
   ]
  },
  {
   "cell_type": "code",
   "execution_count": 235,
   "metadata": {
    "scrolled": false
   },
   "outputs": [
    {
     "name": "stdout",
     "output_type": "stream",
     "text": [
      "C = 10\r\n"
     ]
    }
   ],
   "source": [
    "C = '10' % derived with getBestParams"
   ]
  },
  {
   "cell_type": "code",
   "execution_count": 236,
   "metadata": {
    "scrolled": true
   },
   "outputs": [],
   "source": [
    "%[C sigma error_matrix] = getBestParams(X_train,y_train,X_cv,y_cv);"
   ]
  },
  {
   "cell_type": "code",
   "execution_count": 306,
   "metadata": {},
   "outputs": [
    {
     "name": "stdout",
     "output_type": "stream",
     "text": [
      "        options =  -t 2 -g 0.003 -c 10\r\n"
     ]
    }
   ],
   "source": [
    "options = [' -t ' gaussian_kernel ' -g ' sigma ' -c ' C]"
   ]
  },
  {
   "cell_type": "code",
   "execution_count": 307,
   "metadata": {},
   "outputs": [
    {
     "name": "stdout",
     "output_type": "stream",
     "text": [
      ".*\r\n",
      "optimization finished, #iter = 1714\r\n",
      "nu = 0.055708\r\n",
      "obj = -1160.753743, rho = -0.660871\r\n",
      "nSV = 605, nBSV = 75\r\n",
      "Total nSV = 605\r\n"
     ]
    }
   ],
   "source": [
    "model = svmtrain(y_train, X_train, options);"
   ]
  },
  {
   "cell_type": "code",
   "execution_count": 308,
   "metadata": {},
   "outputs": [
    {
     "name": "stdout",
     "output_type": "stream",
     "text": [
      "Accuracy = 98.0976% (1186/1209) (classification)\r\n"
     ]
    }
   ],
   "source": [
    "[cv_predicted_labels] = svmpredict(y_cv, X_cv, model);"
   ]
  },
  {
   "cell_type": "code",
   "execution_count": 309,
   "metadata": {},
   "outputs": [
    {
     "name": "stdout",
     "output_type": "stream",
     "text": [
      "        cv_accuracy =  98.098\r\n"
     ]
    }
   ],
   "source": [
    "cv_accuracy = mean(double(cv_predicted_labels == y_cv)) * 100"
   ]
  },
  {
   "cell_type": "code",
   "execution_count": 310,
   "metadata": {},
   "outputs": [
    {
     "name": "stdout",
     "output_type": "stream",
     "text": [
      "Accuracy = 97.8512% (1184/1210) (classification)\r\n"
     ]
    }
   ],
   "source": [
    "[test_predicted_labels] = svmpredict(y_test, X_test, model);"
   ]
  },
  {
   "cell_type": "code",
   "execution_count": 311,
   "metadata": {},
   "outputs": [
    {
     "name": "stdout",
     "output_type": "stream",
     "text": [
      "        test_accuracy =  97.851\r\n"
     ]
    }
   ],
   "source": [
    "test_accuracy = mean(double(test_predicted_labels == y_test)) * 100"
   ]
  },
  {
   "cell_type": "code",
   "execution_count": 256,
   "metadata": {},
   "outputs": [],
   "source": [
    "save bestFitModel.mat model"
   ]
  },
  {
   "cell_type": "code",
   "execution_count": 257,
   "metadata": {},
   "outputs": [],
   "source": [
    "vocabList = getVocabListExtra();"
   ]
  },
  {
   "cell_type": "code",
   "execution_count": 284,
   "metadata": {},
   "outputs": [],
   "source": [
    "weights = model.SVs' * model.sv_coef;"
   ]
  },
  {
   "cell_type": "code",
   "execution_count": 312,
   "metadata": {},
   "outputs": [],
   "source": [
    "% Sort the coefs\n",
    "[sorted_weights, sorted_weight_indices] = sort(weights);"
   ]
  },
  {
   "cell_type": "code",
   "execution_count": 316,
   "metadata": {},
   "outputs": [
    {
     "name": "stdout",
     "output_type": "stream",
     "text": [
      "\n",
      "Top predictors of spam: \n",
      " remov           (-81.305420) \n",
      " pleas           (-65.595928) \n",
      " sight           (-63.433186) \n",
      " click           (-58.329705) \n",
      " our             (-58.070417) \n",
      " guarante        (-56.687122) \n",
      " your            (-55.804435) \n",
      " you             (-53.762453) \n",
      " market          (-47.754683) \n",
      " basenumb        (-47.532982) \n",
      " offer           (-45.528769) \n",
      " y               (-44.360990) \n",
      " deathtospamdeathtospamdeathtospam (-43.851798) \n",
      " dollar          (-43.384593) \n",
      " we              (-42.868519) \n",
      " will            (-41.874532) \n",
      " below           (-41.454687) \n",
      " visit           (-39.576546) \n",
      " most            (-38.532494) \n",
      " sincer          (-38.514749) \n"
     ]
    }
   ],
   "source": [
    "fprintf('\\nTop predictors of spam: \\n');\n",
    "for i = 1:20\n",
    "    fprintf(' %-15s (%f) \\n', vocabList{sorted_weight_indices(i)}, sorted_weights(i));\n",
    "end"
   ]
  },
  {
   "cell_type": "code",
   "execution_count": 305,
   "metadata": {},
   "outputs": [],
   "source": [
    "load('spamTrainTranslated')"
   ]
  },
  {
   "cell_type": "code",
   "execution_count": 315,
   "metadata": {},
   "outputs": [
    {
     "name": "stdout",
     "output_type": "stream",
     "text": [
      "Accuracy = 99% (3960/4000) (classification)\n"
     ]
    }
   ],
   "source": [
    "[homework_predicted_labels] = svmpredict(y, X_translated, model);"
   ]
  }
 ],
 "metadata": {
  "kernelspec": {
   "display_name": "Octave",
   "language": "octave",
   "name": "octave"
  },
  "language_info": {
   "file_extension": ".m",
   "help_links": [
    {
     "text": "GNU Octave",
     "url": "https://www.gnu.org/software/octave/support.html"
    },
    {
     "text": "Octave Kernel",
     "url": "https://github.com/Calysto/octave_kernel"
    },
    {
     "text": "MetaKernel Magics",
     "url": "https://metakernel.readthedocs.io/en/latest/source/README.html"
    }
   ],
   "mimetype": "text/x-octave",
   "name": "octave",
   "version": "4.0.3"
  }
 },
 "nbformat": 4,
 "nbformat_minor": 2
}
