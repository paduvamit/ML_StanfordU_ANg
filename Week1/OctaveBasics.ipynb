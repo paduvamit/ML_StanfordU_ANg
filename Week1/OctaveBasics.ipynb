{
 "cells": [
  {
   "cell_type": "code",
   "execution_count": 1,
   "metadata": {},
   "outputs": [
    {
     "name": "stdout",
     "output_type": "stream",
     "text": [
      "A =\r\n",
      "\r\n",
      "    1    2    3\r\n",
      "    4    5    6\r\n",
      "    7    8    9\r\n",
      "   10   11   12\r\n",
      "\r\n"
     ]
    }
   ],
   "source": [
    "A = [1,2,3;4,5,6;7,8,9;10,11,12]"
   ]
  },
  {
   "cell_type": "code",
   "execution_count": 2,
   "metadata": {},
   "outputs": [
    {
     "name": "stdout",
     "output_type": "stream",
     "text": [
      "v =\r\n",
      "\r\n",
      "   1\r\n",
      "   2\r\n",
      "   3\r\n",
      "\r\n"
     ]
    }
   ],
   "source": [
    "v = [1;2;3]"
   ]
  },
  {
   "cell_type": "code",
   "execution_count": 3,
   "metadata": {},
   "outputs": [
    {
     "name": "stdout",
     "output_type": "stream",
     "text": [
      "m =  4\r\n",
      "n =  3\r\n"
     ]
    }
   ],
   "source": [
    "[m,n] = size(A)"
   ]
  },
  {
   "cell_type": "code",
   "execution_count": 4,
   "metadata": {},
   "outputs": [
    {
     "name": "stdout",
     "output_type": "stream",
     "text": [
      "dim_A =\r\n",
      "\r\n",
      "   4   3\r\n",
      "\r\n"
     ]
    }
   ],
   "source": [
    "dim_A = size(A)"
   ]
  },
  {
   "cell_type": "code",
   "execution_count": 5,
   "metadata": {},
   "outputs": [
    {
     "name": "stdout",
     "output_type": "stream",
     "text": [
      "dim_v =\r\n",
      "\r\n",
      "   3   1\r\n",
      "\r\n"
     ]
    }
   ],
   "source": [
    "dim_v = size(v)"
   ]
  },
  {
   "cell_type": "code",
   "execution_count": 6,
   "metadata": {},
   "outputs": [
    {
     "name": "stdout",
     "output_type": "stream",
     "text": [
      "A_23 =  6\r\n"
     ]
    }
   ],
   "source": [
    "A_23 = A(2,3)"
   ]
  },
  {
   "cell_type": "code",
   "execution_count": 7,
   "metadata": {},
   "outputs": [
    {
     "name": "stdout",
     "output_type": "stream",
     "text": [
      "A =\n",
      "\n",
      "   1   2   3\n",
      "   5   3   2\n",
      "\n",
      "B =\n",
      "\n",
      "   1   3   4\n",
      "   1   1   1\n",
      "\n"
     ]
    }
   ],
   "source": [
    "A = [1,2,3;5,3,2]\n",
    "B = [1,3,4;1,1,1]"
   ]
  },
  {
   "cell_type": "code",
   "execution_count": 8,
   "metadata": {},
   "outputs": [
    {
     "name": "stdout",
     "output_type": "stream",
     "text": [
      "s =  2\r\n"
     ]
    }
   ],
   "source": [
    "s = 2"
   ]
  },
  {
   "cell_type": "code",
   "execution_count": 9,
   "metadata": {},
   "outputs": [
    {
     "name": "stdout",
     "output_type": "stream",
     "text": [
      "add_AB =\r\n",
      "\r\n",
      "   2   5   7\r\n",
      "   6   4   3\r\n",
      "\r\n"
     ]
    }
   ],
   "source": [
    "add_AB = A+B"
   ]
  },
  {
   "cell_type": "code",
   "execution_count": 10,
   "metadata": {},
   "outputs": [
    {
     "name": "stdout",
     "output_type": "stream",
     "text": [
      "sub_AB =\r\n",
      "\r\n",
      "   0  -1  -1\r\n",
      "   4   2   1\r\n",
      "\r\n"
     ]
    }
   ],
   "source": [
    "sub_AB = A - B"
   ]
  },
  {
   "cell_type": "code",
   "execution_count": 11,
   "metadata": {},
   "outputs": [
    {
     "name": "stdout",
     "output_type": "stream",
     "text": [
      "mult_As =\r\n",
      "\r\n",
      "    2    4    6\r\n",
      "   10    6    4\r\n",
      "\r\n"
     ]
    }
   ],
   "source": [
    "mult_As = A*s"
   ]
  },
  {
   "cell_type": "code",
   "execution_count": 12,
   "metadata": {},
   "outputs": [
    {
     "name": "stdout",
     "output_type": "stream",
     "text": [
      "div_As =\r\n",
      "\r\n",
      "   0.50000   1.00000   1.50000\r\n",
      "   2.50000   1.50000   1.00000\r\n",
      "\r\n"
     ]
    }
   ],
   "source": [
    "div_As = A/s"
   ]
  },
  {
   "cell_type": "code",
   "execution_count": 13,
   "metadata": {},
   "outputs": [
    {
     "name": "stdout",
     "output_type": "stream",
     "text": [
      "add_As =\r\n",
      "\r\n",
      "   3   4   5\r\n",
      "   7   5   4\r\n",
      "\r\n"
     ]
    }
   ],
   "source": [
    "add_As = A + s"
   ]
  },
  {
   "cell_type": "code",
   "execution_count": 14,
   "metadata": {},
   "outputs": [
    {
     "name": "stdout",
     "output_type": "stream",
     "text": [
      "v =\r\n",
      "\r\n",
      "   1\r\n",
      "   2\r\n",
      "   3\r\n",
      "\r\n"
     ]
    }
   ],
   "source": [
    "v"
   ]
  },
  {
   "cell_type": "code",
   "execution_count": 15,
   "metadata": {},
   "outputs": [
    {
     "name": "stdout",
     "output_type": "stream",
     "text": [
      "A =\r\n",
      "\r\n",
      "   1   2   3\r\n",
      "   5   3   2\r\n",
      "\r\n"
     ]
    }
   ],
   "source": [
    "A"
   ]
  },
  {
   "cell_type": "code",
   "execution_count": 16,
   "metadata": {},
   "outputs": [
    {
     "name": "stdout",
     "output_type": "stream",
     "text": [
      "Av =\r\n",
      "\r\n",
      "   14\r\n",
      "   17\r\n",
      "\r\n"
     ]
    }
   ],
   "source": [
    "Av = A*v"
   ]
  },
  {
   "cell_type": "code",
   "execution_count": 17,
   "metadata": {},
   "outputs": [
    {
     "name": "stdout",
     "output_type": "stream",
     "text": [
      "A =\r\n",
      "\r\n",
      "   1   2   3\r\n",
      "   5   3   2\r\n",
      "\r\n"
     ]
    }
   ],
   "source": [
    "A"
   ]
  },
  {
   "cell_type": "code",
   "execution_count": 18,
   "metadata": {},
   "outputs": [
    {
     "name": "stdout",
     "output_type": "stream",
     "text": [
      "A =\r\n",
      "\r\n",
      "   1   2\r\n",
      "   3   4\r\n",
      "   5   6\r\n",
      "\r\n"
     ]
    }
   ],
   "source": [
    "A = [1,2;3,4;5,6]"
   ]
  },
  {
   "cell_type": "code",
   "execution_count": 19,
   "metadata": {},
   "outputs": [
    {
     "name": "stdout",
     "output_type": "stream",
     "text": [
      "B =\r\n",
      "\r\n",
      "   1\r\n",
      "   2\r\n",
      "\r\n"
     ]
    }
   ],
   "source": [
    "B = [1;2]"
   ]
  },
  {
   "cell_type": "code",
   "execution_count": 20,
   "metadata": {},
   "outputs": [
    {
     "name": "stdout",
     "output_type": "stream",
     "text": [
      "mult_AB =\r\n",
      "\r\n",
      "    5\r\n",
      "   11\r\n",
      "   17\r\n",
      "\r\n"
     ]
    }
   ],
   "source": [
    "mult_AB = A*B"
   ]
  },
  {
   "cell_type": "code",
   "execution_count": 21,
   "metadata": {},
   "outputs": [
    {
     "name": "stdout",
     "output_type": "stream",
     "text": [
      "A =\n",
      "\n",
      "   1   2\n",
      "   4   5\n",
      "\n",
      "B =\n",
      "\n",
      "   1   1\n",
      "   0   2\n",
      "\n"
     ]
    }
   ],
   "source": [
    "A = [1,2;4,5]\n",
    "B = [1,1;0,2]"
   ]
  },
  {
   "cell_type": "code",
   "execution_count": 22,
   "metadata": {},
   "outputs": [
    {
     "name": "stdout",
     "output_type": "stream",
     "text": [
      "I =\r\n",
      "\r\n",
      "Diagonal Matrix\r\n",
      "\r\n",
      "   1   0\r\n",
      "   0   1\r\n",
      "\r\n"
     ]
    }
   ],
   "source": [
    "I = eye(2)"
   ]
  },
  {
   "cell_type": "code",
   "execution_count": 23,
   "metadata": {},
   "outputs": [
    {
     "name": "stdout",
     "output_type": "stream",
     "text": [
      "IA =\r\n",
      "\r\n",
      "   1   2\r\n",
      "   4   5\r\n",
      "\r\n"
     ]
    }
   ],
   "source": [
    "IA = I*A"
   ]
  },
  {
   "cell_type": "code",
   "execution_count": 24,
   "metadata": {},
   "outputs": [
    {
     "name": "stdout",
     "output_type": "stream",
     "text": [
      "AI =\r\n",
      "\r\n",
      "   1   2\r\n",
      "   4   5\r\n",
      "\r\n"
     ]
    }
   ],
   "source": [
    "AI = A*I"
   ]
  },
  {
   "cell_type": "code",
   "execution_count": 25,
   "metadata": {},
   "outputs": [
    {
     "name": "stdout",
     "output_type": "stream",
     "text": [
      "AB =\r\n",
      "\r\n",
      "    1    5\r\n",
      "    4   14\r\n",
      "\r\n"
     ]
    }
   ],
   "source": [
    "AB = A*B"
   ]
  },
  {
   "cell_type": "code",
   "execution_count": 26,
   "metadata": {},
   "outputs": [
    {
     "name": "stdout",
     "output_type": "stream",
     "text": [
      "BA =\r\n",
      "\r\n",
      "    5    7\r\n",
      "    8   10\r\n",
      "\r\n"
     ]
    }
   ],
   "source": [
    "BA = B*A"
   ]
  },
  {
   "cell_type": "code",
   "execution_count": 27,
   "metadata": {},
   "outputs": [
    {
     "name": "stdout",
     "output_type": "stream",
     "text": [
      "A =\r\n",
      "\r\n",
      "   1   2\r\n",
      "   4   5\r\n",
      "\r\n"
     ]
    }
   ],
   "source": [
    "A"
   ]
  },
  {
   "cell_type": "code",
   "execution_count": 28,
   "metadata": {},
   "outputs": [
    {
     "name": "stdout",
     "output_type": "stream",
     "text": [
      "A_trans =\r\n",
      "\r\n",
      "   1   4\r\n",
      "   2   5\r\n",
      "\r\n"
     ]
    }
   ],
   "source": [
    "A_trans = A'"
   ]
  },
  {
   "cell_type": "code",
   "execution_count": 29,
   "metadata": {},
   "outputs": [
    {
     "name": "stdout",
     "output_type": "stream",
     "text": [
      "A_inv =\r\n",
      "\r\n",
      "  -1.66667   0.66667\r\n",
      "   1.33333  -0.33333\r\n",
      "\r\n"
     ]
    }
   ],
   "source": [
    "A_inv = inv(A)"
   ]
  },
  {
   "cell_type": "code",
   "execution_count": 30,
   "metadata": {},
   "outputs": [
    {
     "name": "stdout",
     "output_type": "stream",
     "text": [
      "A_invA =\r\n",
      "\r\n",
      "   1   0\r\n",
      "   0   1\r\n",
      "\r\n"
     ]
    }
   ],
   "source": [
    "A_invA = A * A_inv"
   ]
  },
  {
   "cell_type": "code",
   "execution_count": 31,
   "metadata": {},
   "outputs": [
    {
     "name": "stdout",
     "output_type": "stream",
     "text": [
      "invA_A =\r\n",
      "\r\n",
      "   1   0\r\n",
      "   0   1\r\n",
      "\r\n"
     ]
    }
   ],
   "source": [
    "invA_A = A_inv * A"
   ]
  },
  {
   "cell_type": "code",
   "execution_count": 1,
   "metadata": {},
   "outputs": [
    {
     "name": "stdout",
     "output_type": "stream",
     "text": [
      "ans =  20\r\n"
     ]
    }
   ],
   "source": [
    "4 * 5"
   ]
  },
  {
   "cell_type": "code",
   "execution_count": 2,
   "metadata": {},
   "outputs": [
    {
     "name": "stdout",
     "output_type": "stream",
     "text": [
      "ans =  0.80000\r\n"
     ]
    }
   ],
   "source": [
    "4 /5 "
   ]
  },
  {
   "cell_type": "code",
   "execution_count": 3,
   "metadata": {},
   "outputs": [
    {
     "name": "stdout",
     "output_type": "stream",
     "text": [
      "ans = 0\r\n"
     ]
    }
   ],
   "source": [
    "4 && 0"
   ]
  },
  {
   "cell_type": "code",
   "execution_count": 4,
   "metadata": {},
   "outputs": [
    {
     "name": "stdout",
     "output_type": "stream",
     "text": [
      "ans =  1\r\n"
     ]
    }
   ],
   "source": [
    "4 && 1"
   ]
  },
  {
   "cell_type": "code",
   "execution_count": 5,
   "metadata": {},
   "outputs": [
    {
     "name": "stdout",
     "output_type": "stream",
     "text": [
      "ans =  1\r\n"
     ]
    }
   ],
   "source": [
    "4 || 0"
   ]
  },
  {
   "cell_type": "code",
   "execution_count": 6,
   "metadata": {},
   "outputs": [
    {
     "name": "stdout",
     "output_type": "stream",
     "text": [
      "ans = 0\r\n"
     ]
    }
   ],
   "source": [
    "0 || 0\n"
   ]
  },
  {
   "cell_type": "code",
   "execution_count": 7,
   "metadata": {},
   "outputs": [
    {
     "name": "stdout",
     "output_type": "stream",
     "text": [
      "ans =  1\r\n"
     ]
    }
   ],
   "source": [
    "xor(1,0)"
   ]
  },
  {
   "cell_type": "code",
   "execution_count": 8,
   "metadata": {},
   "outputs": [
    {
     "name": "stdout",
     "output_type": "stream",
     "text": [
      "ans = 0\r\n"
     ]
    }
   ],
   "source": [
    "xor(0,0)"
   ]
  },
  {
   "cell_type": "code",
   "execution_count": 9,
   "metadata": {},
   "outputs": [
    {
     "name": "stdout",
     "output_type": "stream",
     "text": [
      "ans =  4096\r\n"
     ]
    }
   ],
   "source": [
    "4^6"
   ]
  },
  {
   "cell_type": "code",
   "execution_count": 10,
   "metadata": {},
   "outputs": [
    {
     "name": "stdout",
     "output_type": "stream",
     "text": [
      "error: 'A' undefined near line 1 column 6\r\n",
      "error: evaluating argument list element number 1\r\n"
     ]
    }
   ],
   "source": [
    "disp(A)"
   ]
  },
  {
   "cell_type": "code",
   "execution_count": 11,
   "metadata": {},
   "outputs": [
    {
     "name": "stdout",
     "output_type": "stream",
     "text": [
      "A =\r\n",
      "\r\n",
      "   1   2\r\n",
      "   3   4\r\n",
      "   5   6\r\n",
      "\r\n"
     ]
    }
   ],
   "source": [
    "A = [1 2; 3 4; 5 6]"
   ]
  },
  {
   "cell_type": "code",
   "execution_count": 12,
   "metadata": {},
   "outputs": [
    {
     "name": "stdout",
     "output_type": "stream",
     "text": [
      "   1   2\r\n",
      "   3   4\r\n",
      "   5   6\r\n"
     ]
    }
   ],
   "source": [
    "disp(A)"
   ]
  },
  {
   "cell_type": "code",
   "execution_count": 13,
   "metadata": {},
   "outputs": [
    {
     "name": "stdout",
     "output_type": "stream",
     "text": [
      "v =\r\n",
      "\r\n",
      "   1   2   3\r\n",
      "\r\n"
     ]
    }
   ],
   "source": [
    "v = [1 2 3]"
   ]
  },
  {
   "cell_type": "code",
   "execution_count": 14,
   "metadata": {},
   "outputs": [
    {
     "name": "stdout",
     "output_type": "stream",
     "text": [
      "   1   2   3\r\n"
     ]
    }
   ],
   "source": [
    "disp(v)"
   ]
  },
  {
   "cell_type": "code",
   "execution_count": 15,
   "metadata": {},
   "outputs": [
    {
     "name": "stdout",
     "output_type": "stream",
     "text": [
      "v_column =\r\n",
      "\r\n",
      "   1\r\n",
      "   2\r\n",
      "   3\r\n",
      "\r\n"
     ]
    }
   ],
   "source": [
    "v_column = v'"
   ]
  },
  {
   "cell_type": "code",
   "execution_count": 16,
   "metadata": {},
   "outputs": [
    {
     "name": "stdout",
     "output_type": "stream",
     "text": [
      "v =\r\n",
      "\r\n",
      " Columns 1 through 7:\r\n",
      "\r\n",
      "    1.0000    1.5000    2.0000    2.5000    3.0000    3.5000    4.0000\r\n",
      "\r\n",
      " Columns 8 through 14:\r\n",
      "\r\n",
      "    4.5000    5.0000    5.5000    6.0000    6.5000    7.0000    7.5000\r\n",
      "\r\n",
      " Column 15:\r\n",
      "\r\n",
      "    8.0000\r\n",
      "\r\n"
     ]
    }
   ],
   "source": [
    "v = 1:0.5:8"
   ]
  },
  {
   "cell_type": "code",
   "execution_count": 17,
   "metadata": {},
   "outputs": [
    {
     "name": "stdout",
     "output_type": "stream",
     "text": [
      "v = [](1x0)\r\n"
     ]
    }
   ],
   "source": [
    "v = 1:0.1:0.5"
   ]
  },
  {
   "cell_type": "code",
   "execution_count": 18,
   "metadata": {},
   "outputs": [
    {
     "name": "stdout",
     "output_type": "stream",
     "text": [
      "v =\r\n",
      "\r\n",
      "    0.10000    0.20000    0.30000    0.40000    0.50000\r\n",
      "\r\n"
     ]
    }
   ],
   "source": [
    "v = 0.1:0.1:0.5"
   ]
  },
  {
   "cell_type": "code",
   "execution_count": 19,
   "metadata": {},
   "outputs": [
    {
     "name": "stdout",
     "output_type": "stream",
     "text": [
      "ans =\r\n",
      "\r\n",
      "   1   1   1   1\r\n",
      "   1   1   1   1\r\n",
      "   1   1   1   1\r\n",
      "\r\n"
     ]
    }
   ],
   "source": [
    "ones(3,4)"
   ]
  },
  {
   "cell_type": "code",
   "execution_count": 20,
   "metadata": {},
   "outputs": [
    {
     "name": "stdout",
     "output_type": "stream",
     "text": [
      "v =\r\n",
      "\r\n",
      "   2   2   2   2   2   2\r\n",
      "   2   2   2   2   2   2\r\n",
      "   2   2   2   2   2   2\r\n",
      "   2   2   2   2   2   2\r\n",
      "   2   2   2   2   2   2\r\n",
      "   2   2   2   2   2   2\r\n",
      "\r\n"
     ]
    }
   ],
   "source": [
    "v = 2 * ones(6,6)"
   ]
  },
  {
   "cell_type": "code",
   "execution_count": 21,
   "metadata": {},
   "outputs": [
    {
     "name": "stdout",
     "output_type": "stream",
     "text": [
      "error: 'zeroes' undefined near line 1 column 5\r\n"
     ]
    }
   ],
   "source": [
    "w = zeroes(6,6)"
   ]
  },
  {
   "cell_type": "code",
   "execution_count": 22,
   "metadata": {},
   "outputs": [
    {
     "name": "stdout",
     "output_type": "stream",
     "text": [
      "w =\r\n",
      "\r\n",
      "   0   0   0   0   0   0\r\n",
      "   0   0   0   0   0   0\r\n",
      "   0   0   0   0   0   0\r\n",
      "   0   0   0   0   0   0\r\n",
      "   0   0   0   0   0   0\r\n",
      "   0   0   0   0   0   0\r\n",
      "\r\n"
     ]
    }
   ],
   "source": [
    "w = zeros(6,6)"
   ]
  },
  {
   "cell_type": "code",
   "execution_count": 23,
   "metadata": {},
   "outputs": [
    {
     "name": "stdout",
     "output_type": "stream",
     "text": [
      "ans =\r\n",
      "\r\n",
      "   0   0   0   0   0   0\r\n",
      "   0   0   0   0   0   0\r\n",
      "   0   0   0   0   0   0\r\n",
      "   0   0   0   0   0   0\r\n",
      "   0   0   0   0   0   0\r\n",
      "   0   0   0   0   0   0\r\n",
      "\r\n"
     ]
    }
   ],
   "source": [
    "v * w"
   ]
  },
  {
   "cell_type": "code",
   "execution_count": 24,
   "metadata": {},
   "outputs": [
    {
     "name": "stdout",
     "output_type": "stream",
     "text": [
      "z =\r\n",
      "\r\n",
      "   0.572670   0.564697   0.094805\r\n",
      "   0.137987   0.585934   0.948687\r\n",
      "   0.777378   0.114326   0.526238\r\n",
      "\r\n"
     ]
    }
   ],
   "source": [
    "z = rand(3,3)"
   ]
  },
  {
   "cell_type": "code",
   "execution_count": 26,
   "metadata": {},
   "outputs": [
    {
     "name": "stdout",
     "output_type": "stream",
     "text": [
      "w =\r\n",
      "\r\n",
      "  -0.605913   0.044213  -1.378324\r\n",
      "\r\n"
     ]
    }
   ],
   "source": [
    "w = randn(1,3)"
   ]
  },
  {
   "cell_type": "markdown",
   "metadata": {},
   "source": [
    "gaussian dist with mean 0 and SD = 1"
   ]
  },
  {
   "cell_type": "code",
   "execution_count": 28,
   "metadata": {},
   "outputs": [
    {
     "name": "stdout",
     "output_type": "stream",
     "text": [
      "w =\r\n",
      "\r\n",
      " Columns 1 through 6:\r\n",
      "\r\n",
      "  -1.0686e+01  -5.9481e+00  -5.2484e+00  -1.3255e+01  -6.9463e+00  -6.6761e+00\r\n",
      "\r\n",
      " Columns 7 through 12:\r\n",
      "\r\n",
      "  -4.5135e+00  -4.0618e+00  -3.4888e+00  -4.1492e+00  -7.6461e+00  -3.2916e+00\r\n",
      "\r\n",
      " Columns 13 through 18:\r\n",
      "\r\n",
      "  -3.1382e+00  -8.9225e+00  -3.0395e+00  -5.5951e+00  -5.4428e+00  -2.7348e+00\r\n",
      "\r\n",
      " Columns 19 through 24:\r\n",
      "\r\n",
      "  -6.8814e+00  -1.0856e+01  -1.4387e+00  -4.8400e+00  -1.1968e+01  -7.5354e+00\r\n",
      "\r\n",
      " Columns 25 through 30:\r\n",
      "\r\n",
      "  -9.3251e+00  -9.0018e+00  -6.3704e+00  -6.7233e+00  -2.2964e+00  -8.0504e+00\r\n",
      "\r\n",
      " Columns 31 through 36:\r\n",
      "\r\n",
      "  -5.4481e+00  -9.6078e+00  -5.0944e+00  -2.0321e+00  -6.7846e+00  -5.0878e+00\r\n",
      "\r\n",
      " Columns 37 through 42:\r\n",
      "\r\n",
      "  -7.5051e+00  -9.0494e+00  -3.8923e+00  -3.2579e-01  -7.2792e+00  -1.1515e+01\r\n",
      "\r\n",
      " Columns 43 through 48:\r\n",
      "\r\n",
      "  -1.1243e+01  -4.3786e-01  -1.1492e+00  -8.0873e+00  -9.9578e+00  -7.7037e+00\r\n",
      "\r\n",
      " Columns 49 through 54:\r\n",
      "\r\n",
      "  -8.8249e+00  -2.0271e+00  -2.1610e+00  -1.0742e+01  -3.0399e+00  -7.3487e+00\r\n",
      "\r\n",
      " Columns 55 through 60:\r\n",
      "\r\n",
      "  -1.0098e+01  -3.4605e+00  -9.8203e+00  -2.3443e+00  -1.0920e+01  -1.1948e+01\r\n",
      "\r\n",
      " Columns 61 through 66:\r\n",
      "\r\n",
      "  -6.8238e+00  -3.8711e+00  -6.6984e+00  -1.0983e+01  -3.8947e+00  -7.7894e+00\r\n",
      "\r\n",
      " Columns 67 through 72:\r\n",
      "\r\n",
      "  -3.4257e+00  -7.3631e+00  -5.8448e+00  -6.3814e+00  -7.3557e+00  -6.4974e+00\r\n",
      "\r\n",
      " Columns 73 through 78:\r\n",
      "\r\n",
      "  -1.0446e+01  -8.3986e+00  -7.8576e+00  -8.7996e+00  -9.2466e+00  -1.5604e+00\r\n",
      "\r\n",
      " Columns 79 through 84:\r\n",
      "\r\n",
      "  -7.6351e+00  -7.3447e+00  -8.0850e+00  -7.1676e+00  -3.5619e+00  -5.8024e+00\r\n",
      "\r\n",
      " Columns 85 through 90:\r\n",
      "\r\n",
      "  -9.5843e+00  -7.6606e+00  -9.3995e-01  -5.8904e+00  -1.4776e+00  -6.4473e+00\r\n",
      "\r\n",
      " Columns 91 through 96:\r\n",
      "\r\n",
      "  -1.0371e+01  -7.5651e+00  -1.6356e+00  -5.2250e+00  -3.3859e+00   2.2045e+00\r\n",
      "\r\n",
      " Columns 97 through 102:\r\n",
      "\r\n",
      "  -6.1771e+00  -4.5626e+00  -2.6188e+00  -7.3289e+00  -7.7528e+00  -9.6312e+00\r\n",
      "\r\n",
      " Columns 103 through 108:\r\n",
      "\r\n",
      "  -3.3494e+00  -1.3261e+00  -1.2330e+00  -6.2177e+00  -1.9058e+00  -5.3134e+00\r\n",
      "\r\n",
      " Columns 109 through 114:\r\n",
      "\r\n",
      "  -6.5117e+00  -7.6667e+00  -5.2999e+00  -5.2281e+00  -7.5214e+00  -3.3230e+00\r\n",
      "\r\n",
      " Columns 115 through 120:\r\n",
      "\r\n",
      "  -8.1430e+00  -5.7095e+00  -6.6006e+00  -6.2322e+00  -8.7163e+00  -1.7446e+00\r\n",
      "\r\n",
      " Columns 121 through 126:\r\n",
      "\r\n",
      "  -5.2000e+00  -9.8209e+00  -9.6262e+00  -5.7741e+00  -5.0494e+00  -5.2942e+00\r\n",
      "\r\n",
      " Columns 127 through 132:\r\n",
      "\r\n",
      "  -9.0485e+00  -5.5693e+00  -9.4438e+00  -3.8874e+00  -8.3758e+00  -4.0399e+00\r\n",
      "\r\n",
      " Columns 133 through 138:\r\n",
      "\r\n",
      "  -3.5286e+00  -5.3661e+00  -2.1054e+00  -5.3593e+00  -9.2770e-01  -3.5708e+00\r\n",
      "\r\n",
      " Columns 139 through 144:\r\n",
      "\r\n",
      "  -7.4562e+00   3.2217e-02  -3.4754e-01  -1.5576e-01  -4.8018e+00  -7.4587e+00\r\n",
      "\r\n",
      " Columns 145 through 150:\r\n",
      "\r\n",
      "  -5.1659e+00  -3.3943e+00  -2.3680e+00  -4.7761e+00  -3.6371e+00  -8.0776e+00\r\n",
      "\r\n",
      " Columns 151 through 156:\r\n",
      "\r\n",
      "  -6.2901e+00  -3.0104e+00  -1.0056e+01  -4.2359e+00  -3.9455e+00  -7.1309e+00\r\n",
      "\r\n",
      " Columns 157 through 162:\r\n",
      "\r\n",
      "   4.6526e-01  -8.4867e+00  -6.1527e+00  -8.1154e+00  -3.0985e+00  -5.6549e+00\r\n",
      "\r\n",
      " Columns 163 through 168:\r\n",
      "\r\n",
      "  -9.0553e+00  -7.7403e+00  -5.3228e+00  -5.7126e+00  -5.9511e+00  -4.4039e+00\r\n",
      "\r\n",
      " Columns 169 through 174:\r\n",
      "\r\n",
      "  -6.1393e+00  -6.7667e+00  -4.1623e+00  -7.4727e+00  -7.0815e+00  -6.0913e+00\r\n",
      "\r\n",
      " Columns 175 through 180:\r\n",
      "\r\n",
      "  -3.0273e+00  -3.0921e+00  -5.0839e+00  -6.3559e+00  -2.2047e+00  -8.5211e-01\r\n",
      "\r\n",
      " Columns 181 through 186:\r\n",
      "\r\n",
      "  -4.7717e+00  -9.3139e+00  -6.5054e+00  -1.0773e+01  -1.0944e+01  -5.3431e+00\r\n",
      "\r\n",
      " Columns 187 through 192:\r\n",
      "\r\n",
      "  -4.4527e+00  -8.0738e+00  -7.6425e+00  -6.6273e+00  -6.8693e+00  -1.2443e+01\r\n",
      "\r\n",
      " Columns 193 through 198:\r\n",
      "\r\n",
      "  -3.9985e+00  -5.4732e+00  -1.1925e+01  -7.3175e+00  -4.6576e+00  -8.3828e+00\r\n",
      "\r\n",
      " Columns 199 through 204:\r\n",
      "\r\n",
      "  -4.6004e+00  -4.8257e+00  -8.2200e+00  -5.3175e+00  -8.3380e+00  -8.8434e+00\r\n",
      "\r\n",
      " Columns 205 through 210:\r\n",
      "\r\n",
      "  -6.3016e+00  -4.3156e+00  -1.2905e+01  -2.4963e+00  -5.1712e+00  -3.3361e-01\r\n",
      "\r\n",
      " Columns 211 through 216:\r\n",
      "\r\n",
      "  -2.5360e+00  -7.0501e+00  -4.2657e+00  -8.2303e+00  -5.0798e+00  -7.9950e+00\r\n",
      "\r\n",
      " Columns 217 through 222:\r\n",
      "\r\n",
      "  -4.0941e+00  -9.8760e+00  -3.0419e+00  -1.1329e+01  -1.2453e+01  -4.2889e+00\r\n",
      "\r\n",
      " Columns 223 through 228:\r\n",
      "\r\n",
      "  -1.0000e+01  -1.2320e+01  -7.1786e+00  -1.0485e+01   1.5242e+00  -4.8289e+00\r\n",
      "\r\n",
      " Columns 229 through 234:\r\n",
      "\r\n",
      "   1.8314e+00  -3.2808e+00  -7.2762e+00  -3.0608e+00  -9.9980e-01  -4.7902e+00\r\n",
      "\r\n",
      " Columns 235 through 240:\r\n",
      "\r\n",
      "  -4.6913e-02  -6.7964e+00  -5.1936e+00  -8.3587e+00  -5.6292e-01  -9.1048e+00\r\n",
      "\r\n",
      " Columns 241 through 246:\r\n",
      "\r\n",
      "  -9.9607e+00  -1.2199e+01  -7.7955e+00  -1.5016e+00  -8.1640e+00  -3.7995e-01\r\n",
      "\r\n",
      " Columns 247 through 252:\r\n",
      "\r\n",
      "  -3.2540e+00  -8.9948e+00  -2.9651e+00  -7.1388e+00  -1.0884e+00  -3.6040e+00\r\n",
      "\r\n",
      " Columns 253 through 258:\r\n",
      "\r\n",
      "  -9.4652e+00  -7.6366e+00  -6.4632e+00  -2.4300e+00  -1.0510e+00  -6.7369e+00\r\n",
      "\r\n",
      " Columns 259 through 264:\r\n",
      "\r\n",
      "  -1.2472e+00  -8.4528e+00  -8.2329e+00  -1.2396e+01  -2.9079e+00  -4.1384e+00\r\n",
      "\r\n",
      " Columns 265 through 270:\r\n",
      "\r\n",
      "  -1.2779e+01  -1.1970e+01  -4.1532e+00  -3.6886e+00  -6.2909e+00  -4.3660e+00\r\n",
      "\r\n",
      " Columns 271 through 276:\r\n",
      "\r\n",
      "  -6.0540e+00  -6.3089e+00  -5.4785e+00  -5.6959e+00  -7.9716e+00  -5.8217e+00\r\n",
      "\r\n",
      " Columns 277 through 282:\r\n",
      "\r\n",
      "  -4.4675e+00  -4.3624e+00  -7.0339e+00  -1.0268e+01  -2.8544e+00  -1.0877e+00\r\n",
      "\r\n",
      " Columns 283 through 288:\r\n",
      "\r\n",
      "  -1.0662e+01  -5.8413e+00  -3.8883e+00  -6.8194e+00  -1.0123e+01  -2.4594e+00\r\n",
      "\r\n",
      " Columns 289 through 294:\r\n",
      "\r\n",
      "  -5.1188e+00  -1.7990e+00  -2.7958e+00  -3.9853e-01  -9.0872e+00  -3.5570e+00\r\n",
      "\r\n",
      " Columns 295 through 300:\r\n",
      "\r\n",
      "  -6.5306e+00  -9.3920e+00  -1.1983e+01  -3.2462e+00  -2.0644e+00  -2.6951e+00\r\n",
      "\r\n",
      " Columns 301 through 306:\r\n",
      "\r\n",
      "  -8.1181e+00  -5.0331e+00  -3.9037e+00  -8.1467e+00  -5.4626e+00  -9.0990e+00\r\n",
      "\r\n",
      " Columns 307 through 312:\r\n",
      "\r\n",
      "  -4.0786e+00  -1.7369e+00  -6.4438e+00  -1.0433e+01  -5.5846e+00  -8.0493e+00\r\n",
      "\r\n",
      " Columns 313 through 318:\r\n",
      "\r\n",
      "  -6.3746e+00  -9.9496e+00  -7.7773e+00  -6.4166e+00  -1.4163e+00  -1.0089e+01\r\n",
      "\r\n",
      " Columns 319 through 324:\r\n",
      "\r\n",
      "  -3.1984e+00  -1.0027e+01  -6.2880e+00  -1.1717e+00  -5.6680e+00  -7.9415e+00\r\n",
      "\r\n",
      " Columns 325 through 330:\r\n",
      "\r\n",
      "  -5.8513e+00  -4.8208e+00  -6.9146e+00  -1.3655e+01  -9.2451e+00  -1.1067e+01\r\n",
      "\r\n",
      " Columns 331 through 336:\r\n",
      "\r\n",
      "  -4.5474e+00  -4.9949e+00  -8.5511e+00  -6.9630e+00  -2.9859e+00  -4.6945e+00\r\n",
      "\r\n",
      " Columns 337 through 342:\r\n",
      "\r\n",
      "  -4.2057e+00  -9.1029e+00  -5.2033e+00  -7.8164e+00  -4.2254e+00  -8.3721e+00\r\n",
      "\r\n",
      " Columns 343 through 348:\r\n",
      "\r\n",
      "  -7.2920e-01  -1.0651e+01  -1.3028e+00  -4.9339e+00  -2.2709e+00  -4.7401e+00\r\n",
      "\r\n",
      " Columns 349 through 354:\r\n",
      "\r\n",
      "  -5.1390e+00  -4.9162e+00  -4.7655e+00  -4.9922e+00  -5.9283e+00  -6.3344e+00\r\n",
      "\r\n",
      " Columns 355 through 360:\r\n",
      "\r\n",
      "  -4.6647e+00  -8.0019e+00  -1.0050e+01  -5.5432e+00  -2.9924e+00  -7.6911e+00\r\n",
      "\r\n",
      " Columns 361 through 366:\r\n",
      "\r\n",
      "  -4.7390e+00  -3.0115e+00  -4.5477e+00  -1.1121e+01  -9.0646e+00  -5.1738e+00\r\n",
      "\r\n",
      " Columns 367 through 372:\r\n",
      "\r\n",
      "  -5.8485e+00  -1.3055e+01  -4.1713e+00  -7.1951e+00  -2.7364e+00  -8.5088e+00\r\n",
      "\r\n",
      " Columns 373 through 378:\r\n",
      "\r\n",
      "  -4.1290e+00   2.0543e+00  -6.9903e+00  -4.9590e+00  -8.1994e+00  -8.7047e+00\r\n",
      "\r\n",
      " Columns 379 through 384:\r\n",
      "\r\n",
      "  -3.7571e+00  -1.1567e+01  -4.9267e+00   5.1821e-01  -7.1175e+00  -5.2870e+00\r\n",
      "\r\n",
      " Columns 385 through 390:\r\n",
      "\r\n",
      "  -1.0957e+01  -3.9925e+00  -1.5780e+00  -3.4740e+00  -3.3757e+00  -9.0433e+00\r\n",
      "\r\n",
      " Columns 391 through 396:\r\n",
      "\r\n",
      "  -8.9635e+00  -8.3994e-01  -7.3370e+00  -2.1676e+00  -2.7522e+00  -3.6127e+00\r\n",
      "\r\n",
      " Columns 397 through 402:\r\n",
      "\r\n",
      "  -1.1727e+01  -1.3915e+00  -5.1751e+00  -8.9717e+00  -1.2987e+01  -8.0441e+00\r\n",
      "\r\n",
      " Columns 403 through 408:\r\n",
      "\r\n",
      "  -7.7494e+00  -8.7807e+00  -5.7698e+00  -8.5378e+00  -7.4185e+00  -9.9570e+00\r\n",
      "\r\n",
      " Columns 409 through 414:\r\n",
      "\r\n",
      "  -5.2944e+00  -3.9970e+00  -6.0728e+00  -4.9333e-01  -6.7878e+00  -5.3942e+00\r\n",
      "\r\n",
      " Columns 415 through 420:\r\n",
      "\r\n",
      "  -8.8418e+00  -9.0351e+00  -4.0155e+00  -6.2695e+00  -6.4595e+00  -7.0680e+00\r\n",
      "\r\n",
      " Columns 421 through 426:\r\n",
      "\r\n",
      "  -7.2359e+00  -4.2718e+00  -8.6936e+00  -2.2587e+00  -1.0876e+01  -6.8552e+00\r\n",
      "\r\n",
      " Columns 427 through 432:\r\n",
      "\r\n",
      "   5.7983e-02  -5.1874e+00  -5.1490e+00  -4.7630e+00  -8.9860e+00  -1.0931e+01\r\n",
      "\r\n",
      " Columns 433 through 438:\r\n",
      "\r\n",
      "  -5.1975e+00  -9.0820e+00  -8.8902e+00  -7.1363e+00  -4.6205e+00  -6.6229e+00\r\n",
      "\r\n",
      " Columns 439 through 444:\r\n",
      "\r\n",
      "  -9.2602e+00  -1.0767e+01  -7.2125e+00  -7.7996e+00  -1.0285e+01  -7.8277e+00\r\n",
      "\r\n",
      " Columns 445 through 450:\r\n",
      "\r\n",
      "  -1.3160e+01  -8.0418e+00  -2.8357e+00  -1.2075e+00  -8.1942e+00  -3.9902e+00\r\n",
      "\r\n",
      " Columns 451 through 456:\r\n",
      "\r\n",
      "  -4.5382e+00  -9.5350e+00   1.9166e+00  -7.2054e+00  -2.3284e+00  -5.7700e+00\r\n",
      "\r\n",
      " Columns 457 through 462:\r\n",
      "\r\n",
      "  -1.2169e+00  -5.8188e+00  -1.9663e+00  -2.6936e+00  -1.2201e+01  -1.1144e+01\r\n",
      "\r\n",
      " Columns 463 through 468:\r\n",
      "\r\n",
      "  -1.0707e+01   4.9997e-01  -2.2117e+00  -6.1250e+00  -5.9058e+00  -4.7184e+00\r\n",
      "\r\n",
      " Columns 469 through 474:\r\n",
      "\r\n",
      "  -6.2920e+00   1.1946e+00  -2.4279e+00  -7.3633e+00  -8.3597e+00  -3.3244e+00\r\n",
      "\r\n",
      " Columns 475 through 480:\r\n",
      "\r\n",
      "  -6.6470e+00   2.7847e+00  -5.4665e+00  -8.0153e-01  -5.7811e+00  -4.6841e+00\r\n",
      "\r\n",
      " Columns 481 through 486:\r\n",
      "\r\n",
      "  -4.5362e+00  -3.8736e+00  -4.8601e+00  -1.6723e+00  -8.8309e+00  -1.3465e+00\r\n",
      "\r\n",
      " Columns 487 through 492:\r\n",
      "\r\n",
      "  -1.3582e+00  -5.8520e+00  -8.4734e-01  -9.5604e+00  -7.1958e+00  -1.0590e+01\r\n",
      "\r\n",
      " Columns 493 through 498:\r\n",
      "\r\n",
      "  -2.5902e+00  -5.3702e+00   4.6508e-01  -4.6293e+00  -2.9432e+00  -8.2673e+00\r\n",
      "\r\n",
      " Columns 499 through 504:\r\n",
      "\r\n",
      "  -2.6192e+00  -5.7758e+00  -2.1244e+00  -3.9126e+00  -4.3269e+00  -1.2964e+01\r\n",
      "\r\n",
      " Columns 505 through 510:\r\n",
      "\r\n",
      "  -8.8838e+00  -7.7578e+00  -1.8879e+00  -9.8584e+00  -5.9585e+00  -1.0492e+01\r\n",
      "\r\n",
      " Columns 511 through 516:\r\n",
      "\r\n",
      "  -3.6466e+00  -7.3511e+00  -4.6549e+00  -9.2875e+00  -4.8872e+00  -1.4270e+00\r\n",
      "\r\n",
      " Columns 517 through 522:\r\n",
      "\r\n",
      "  -6.2962e+00  -7.1146e+00  -6.8252e+00  -5.3581e+00  -3.2596e+00  -8.8375e+00\r\n",
      "\r\n",
      " Columns 523 through 528:\r\n",
      "\r\n",
      "  -9.9384e+00  -4.3217e+00  -5.1164e+00  -3.0891e+00  -5.5966e+00  -2.0709e+00\r\n",
      "\r\n",
      " Columns 529 through 534:\r\n",
      "\r\n",
      "  -8.0220e+00  -4.5575e+00  -6.0675e+00  -4.4015e+00  -5.7782e+00  -3.9804e+00\r\n",
      "\r\n",
      " Columns 535 through 540:\r\n",
      "\r\n",
      "  -2.0989e+00  -5.8045e+00  -6.6457e+00  -8.7502e+00  -2.3758e+00  -5.3958e+00\r\n",
      "\r\n",
      " Columns 541 through 546:\r\n",
      "\r\n",
      "  -6.0831e+00  -1.5428e+01  -8.2261e+00  -6.6745e+00  -6.8814e+00  -4.6447e+00\r\n",
      "\r\n",
      " Columns 547 through 552:\r\n",
      "\r\n",
      "  -6.2555e+00  -6.9398e+00  -7.2627e+00  -5.2605e+00  -3.4926e+00  -2.4799e+00\r\n",
      "\r\n",
      " Columns 553 through 558:\r\n",
      "\r\n",
      "  -3.2268e+00  -2.5467e+00  -4.0149e+00  -8.3273e+00  -7.9415e+00  -3.5371e+00\r\n",
      "\r\n",
      " Columns 559 through 564:\r\n",
      "\r\n",
      "  -4.8580e+00  -8.1500e+00  -2.8669e+00  -4.2651e+00  -8.8108e+00  -9.7127e+00\r\n",
      "\r\n",
      " Columns 565 through 570:\r\n",
      "\r\n",
      "  -5.4436e+00  -5.5231e+00  -9.9710e+00  -3.5386e+00  -4.3035e+00  -2.9983e+00\r\n",
      "\r\n",
      " Columns 571 through 576:\r\n",
      "\r\n",
      "  -1.7342e+00  -5.7922e+00  -2.1151e+00  -5.9428e+00  -8.8035e+00  -1.9330e+00\r\n",
      "\r\n",
      " Columns 577 through 582:\r\n",
      "\r\n",
      "  -2.1811e+00  -4.1623e+00  -5.0310e+00  -2.9701e+00  -5.8775e+00  -7.2927e+00\r\n",
      "\r\n",
      " Columns 583 through 588:\r\n",
      "\r\n",
      "  -3.8354e+00  -6.7575e+00  -6.3459e+00  -5.4441e-01  -6.9465e+00  -5.0149e+00\r\n",
      "\r\n",
      " Columns 589 through 594:\r\n",
      "\r\n",
      "  -1.1818e+01  -7.0576e+00  -5.0582e+00  -1.0337e+01  -2.1344e+00  -1.0385e+01\r\n",
      "\r\n",
      " Columns 595 through 600:\r\n",
      "\r\n",
      "  -7.6632e+00  -1.4245e+00  -9.5135e+00   2.3883e-01  -8.7044e+00  -6.2094e+00\r\n",
      "\r\n",
      " Columns 601 through 606:\r\n",
      "\r\n",
      "  -5.6747e+00  -8.2390e+00  -4.9557e+00  -5.9937e+00  -3.7400e+00  -1.0392e+01\r\n",
      "\r\n",
      " Columns 607 through 612:\r\n",
      "\r\n",
      "  -8.4166e+00  -7.2028e+00  -6.8490e+00  -9.8726e+00  -6.9011e+00  -1.7609e+00\r\n",
      "\r\n",
      " Columns 613 through 618:\r\n",
      "\r\n",
      "  -3.8629e+00  -6.1390e+00  -4.9782e+00  -1.7165e+00  -4.2005e+00  -4.1384e+00\r\n",
      "\r\n",
      " Columns 619 through 624:\r\n",
      "\r\n",
      "  -3.4087e+00  -4.9474e+00  -3.5166e+00  -5.7411e+00   9.6475e-01  -9.0618e+00\r\n",
      "\r\n",
      " Columns 625 through 630:\r\n",
      "\r\n",
      "  -5.6497e+00  -9.4316e+00  -9.5535e+00  -5.0445e+00  -7.9808e+00  -4.1261e-01\r\n",
      "\r\n",
      " Columns 631 through 636:\r\n",
      "\r\n",
      "  -3.8920e+00  -1.7173e+00  -9.0366e+00  -1.0415e+01   1.6243e+00  -2.7092e+00\r\n",
      "\r\n",
      " Columns 637 through 642:\r\n",
      "\r\n",
      "   4.4484e-01  -7.7279e+00  -7.9401e+00  -1.0619e+01  -6.2087e-01  -1.0679e+01\r\n",
      "\r\n",
      " Columns 643 through 648:\r\n",
      "\r\n",
      "  -3.1094e+00  -5.6240e+00  -4.8863e+00  -3.0218e+00  -6.3809e+00  -1.6784e+00\r\n",
      "\r\n",
      " Columns 649 through 654:\r\n",
      "\r\n",
      "  -6.8783e+00  -9.6011e+00  -8.6240e+00  -6.2230e+00  -1.0694e+01  -8.4353e+00\r\n",
      "\r\n",
      " Columns 655 through 660:\r\n",
      "\r\n",
      "  -7.0266e+00  -9.6667e+00  -7.4396e+00  -6.5555e+00  -5.6219e+00  -3.8671e+00\r\n",
      "\r\n",
      " Columns 661 through 666:\r\n",
      "\r\n",
      "  -5.4394e+00  -6.6136e+00  -1.0006e+01  -7.3905e+00  -4.2503e+00  -8.0425e+00\r\n",
      "\r\n",
      " Columns 667 through 672:\r\n",
      "\r\n",
      "  -5.5886e+00  -6.6291e+00  -4.7774e+00  -3.2087e+00  -5.2145e+00   2.8128e+00\r\n",
      "\r\n",
      " Columns 673 through 678:\r\n",
      "\r\n",
      "  -4.0692e+00  -1.0103e+01  -3.3121e+00  -8.6701e+00  -8.4145e+00  -2.9257e+00\r\n",
      "\r\n",
      " Columns 679 through 684:\r\n",
      "\r\n",
      "  -8.9994e+00  -2.1459e+00  -4.1510e+00  -3.0023e+00  -9.2011e+00  -3.8950e-01\r\n",
      "\r\n",
      " Columns 685 through 690:\r\n",
      "\r\n",
      "  -5.2239e+00  -8.7954e+00  -1.1124e+01  -6.0455e+00  -1.0513e+01  -6.1945e+00\r\n",
      "\r\n",
      " Columns 691 through 696:\r\n",
      "\r\n",
      "  -7.0048e+00  -5.7094e+00  -1.0231e+01  -9.8546e+00  -1.3589e+00  -2.9099e+00\r\n",
      "\r\n",
      " Columns 697 through 702:\r\n",
      "\r\n",
      "  -9.2277e+00  -4.8567e+00  -2.5117e+00  -6.1939e+00  -3.6219e+00  -5.4642e+00\r\n",
      "\r\n",
      " Columns 703 through 708:\r\n",
      "\r\n",
      "  -1.0480e+01  -5.3311e+00  -3.8799e+00  -6.1311e+00  -6.0000e+00  -6.8421e+00\r\n",
      "\r\n",
      " Columns 709 through 714:\r\n",
      "\r\n",
      "  -5.5837e+00  -8.3656e+00  -5.8110e+00  -4.9937e+00  -3.6270e+00  -5.8538e+00\r\n",
      "\r\n",
      " Columns 715 through 720:\r\n",
      "\r\n",
      "  -4.5309e+00  -9.8829e+00  -3.0353e+00   2.1393e+00  -3.1956e+00  -8.2413e+00\r\n",
      "\r\n",
      " Columns 721 through 726:\r\n",
      "\r\n",
      "  -1.4462e+00  -4.4602e+00  -2.8809e+00  -4.1519e+00   2.7973e-01  -4.8098e+00\r\n",
      "\r\n",
      " Columns 727 through 732:\r\n",
      "\r\n",
      "  -4.8771e+00  -8.8762e+00  -3.3462e+00  -9.8261e+00  -1.1602e+01  -6.9977e+00\r\n",
      "\r\n",
      " Columns 733 through 738:\r\n",
      "\r\n",
      "   3.8979e-03  -8.9411e+00  -8.4711e+00  -1.9076e+00  -1.4029e+00  -1.0094e+01\r\n",
      "\r\n",
      " Columns 739 through 744:\r\n",
      "\r\n",
      "  -9.1946e+00  -4.8201e+00  -8.3205e+00  -5.5068e+00  -6.0950e+00  -4.6335e+00\r\n",
      "\r\n",
      " Columns 745 through 750:\r\n",
      "\r\n",
      "  -6.6550e+00  -4.8540e+00  -3.4188e+00  -4.7446e+00  -7.3205e+00  -2.0163e+00\r\n",
      "\r\n",
      " Columns 751 through 756:\r\n",
      "\r\n",
      "  -8.2386e+00  -2.5524e+00  -6.2686e+00  -3.5162e+00  -7.7098e+00  -8.5294e+00\r\n",
      "\r\n",
      " Columns 757 through 762:\r\n",
      "\r\n",
      "  -4.5060e+00  -3.1519e+00  -6.9460e+00  -9.7749e+00  -4.9451e+00  -5.5575e-01\r\n",
      "\r\n",
      " Columns 763 through 768:\r\n",
      "\r\n",
      "  -9.5749e+00  -5.8556e+00  -9.3179e+00  -1.0974e+01  -4.5124e+00  -4.2241e+00\r\n",
      "\r\n",
      " Columns 769 through 774:\r\n",
      "\r\n",
      "  -9.2098e+00  -2.3427e+00  -6.6271e+00  -5.4434e+00  -8.3192e+00  -5.6682e+00\r\n",
      "\r\n",
      " Columns 775 through 780:\r\n",
      "\r\n",
      "  -2.8182e+00  -4.8346e+00  -7.1700e+00  -8.2846e+00  -5.0443e+00  -4.7290e+00\r\n",
      "\r\n",
      " Columns 781 through 786:\r\n",
      "\r\n",
      "  -1.3424e+01  -8.1052e+00  -2.9043e+00  -8.2486e+00   2.9024e-01  -3.2221e+00\r\n",
      "\r\n",
      " Columns 787 through 792:\r\n",
      "\r\n",
      "  -6.3549e+00  -8.3578e+00  -6.5514e+00  -6.2429e+00  -8.8834e+00  -8.8051e+00\r\n",
      "\r\n",
      " Columns 793 through 798:\r\n",
      "\r\n",
      "  -8.5159e+00  -3.1113e+00  -4.3009e+00  -8.4227e+00  -9.7349e+00  -5.2561e+00\r\n",
      "\r\n",
      " Columns 799 through 804:\r\n",
      "\r\n",
      "  -1.1135e+01  -3.0462e+00  -8.1821e+00  -1.0734e+01  -6.9751e+00  -7.4931e+00\r\n",
      "\r\n",
      " Columns 805 through 810:\r\n",
      "\r\n",
      "  -7.2027e+00  -1.0194e+01  -1.4402e+00  -4.4464e+00  -6.4451e+00  -4.7312e+00\r\n",
      "\r\n",
      " Columns 811 through 816:\r\n",
      "\r\n",
      "  -2.1347e-01  -5.1278e+00  -9.3025e+00  -7.7062e+00  -1.4523e+01  -7.1525e+00\r\n",
      "\r\n",
      " Columns 817 through 822:\r\n",
      "\r\n",
      "  -5.7099e+00  -3.0296e+00  -6.9569e+00  -4.9538e+00  -4.4001e+00  -3.2910e+00\r\n",
      "\r\n",
      " Columns 823 through 828:\r\n",
      "\r\n",
      "  -6.0554e+00  -6.5556e+00  -2.7441e+00  -1.0714e+01  -4.4951e+00  -5.2773e+00\r\n",
      "\r\n",
      " Columns 829 through 834:\r\n",
      "\r\n",
      "  -8.9487e+00  -3.5427e+00  -2.2447e+00  -6.4346e-01  -1.7918e+00  -6.4539e+00\r\n",
      "\r\n",
      " Columns 835 through 840:\r\n",
      "\r\n",
      "  -4.1546e+00  -1.2009e+01  -4.6271e+00   1.9298e+00  -4.9418e+00  -4.6172e+00\r\n",
      "\r\n",
      " Columns 841 through 846:\r\n",
      "\r\n",
      "  -6.0448e+00  -6.9940e+00  -6.9390e+00  -3.3938e+00  -1.2595e+01  -5.5662e+00\r\n",
      "\r\n",
      " Columns 847 through 852:\r\n",
      "\r\n",
      "   7.0354e-01  -5.8239e+00  -8.6144e+00  -7.6173e+00  -4.4073e+00  -1.5102e+00\r\n",
      "\r\n",
      " Columns 853 through 858:\r\n",
      "\r\n",
      "  -1.8627e-01  -7.1935e+00  -4.6840e+00  -7.0114e+00  -5.5258e+00  -3.5381e+00\r\n",
      "\r\n",
      " Columns 859 through 864:\r\n",
      "\r\n",
      "  -5.6569e+00  -3.8862e+00  -6.5332e+00  -4.1238e+00  -4.1874e+00   1.0134e+00\r\n",
      "\r\n",
      " Columns 865 through 870:\r\n",
      "\r\n",
      "  -7.9528e-01  -9.9901e+00  -4.1078e+00  -8.8129e+00  -1.0615e+01  -5.5332e+00\r\n",
      "\r\n",
      " Columns 871 through 876:\r\n",
      "\r\n",
      "  -6.3402e+00  -3.4856e+00  -5.0157e+00  -7.1042e+00  -5.8417e+00  -5.8547e+00\r\n",
      "\r\n",
      " Columns 877 through 882:\r\n",
      "\r\n",
      "  -7.0099e+00  -4.2916e+00  -3.6830e+00  -1.1714e+01  -9.2306e+00  -7.7006e+00\r\n",
      "\r\n",
      " Columns 883 through 888:\r\n",
      "\r\n",
      "  -6.9138e+00  -5.9562e+00  -6.9383e+00  -1.1641e+01  -1.2724e+01  -1.0920e+01\r\n",
      "\r\n",
      " Columns 889 through 894:\r\n",
      "\r\n",
      "  -1.0269e+01  -8.0478e+00  -4.5854e+00  -1.0404e+01  -4.2661e+00  -7.2080e+00\r\n",
      "\r\n",
      " Columns 895 through 900:\r\n",
      "\r\n",
      "  -8.4484e-01  -4.9811e+00  -2.2046e+00  -2.6023e+00  -5.6982e+00  -5.9280e+00\r\n",
      "\r\n",
      " Columns 901 through 906:\r\n",
      "\r\n",
      "  -8.3000e-01  -5.3156e+00  -3.8805e+00  -3.5356e+00  -6.8138e+00  -1.0143e+01\r\n",
      "\r\n",
      " Columns 907 through 912:\r\n",
      "\r\n",
      "  -3.8529e-01  -8.7121e+00  -7.8405e+00  -9.6758e+00  -2.7712e+00  -7.0069e+00\r\n",
      "\r\n",
      " Columns 913 through 918:\r\n",
      "\r\n",
      "   4.5639e-01  -4.8327e+00  -3.1874e+00  -1.3296e+01  -5.6223e+00  -5.4638e+00\r\n",
      "\r\n",
      " Columns 919 through 924:\r\n",
      "\r\n",
      "  -9.3228e+00  -5.8452e+00  -5.3310e+00  -3.4139e+00  -6.3536e+00  -6.5157e+00\r\n",
      "\r\n",
      " Columns 925 through 930:\r\n",
      "\r\n",
      "  -6.9181e+00  -1.2803e+01  -9.0321e+00  -3.4987e+00  -5.8056e+00  -4.7880e+00\r\n",
      "\r\n",
      " Columns 931 through 936:\r\n",
      "\r\n",
      "  -7.6380e+00  -4.2213e+00  -5.4121e+00  -3.4629e+00  -8.3746e+00  -6.1355e+00\r\n",
      "\r\n",
      " Columns 937 through 942:\r\n",
      "\r\n",
      "  -6.1265e+00  -5.9713e+00  -1.0102e+01  -2.2927e+00  -2.1201e+00   2.6708e+00\r\n",
      "\r\n",
      " Columns 943 through 948:\r\n",
      "\r\n",
      "  -6.5430e+00  -8.2115e+00  -8.1699e+00  -8.4364e+00  -5.6521e+00  -6.4683e+00\r\n",
      "\r\n",
      " Columns 949 through 954:\r\n",
      "\r\n",
      "  -3.5736e+00  -3.5159e+00  -5.9455e+00  -1.0530e+01  -2.1928e+00  -6.4093e+00\r\n",
      "\r\n",
      " Columns 955 through 960:\r\n",
      "\r\n",
      "  -6.1828e+00  -4.4305e+00  -5.1527e+00  -4.3252e+00  -9.4585e+00  -9.2607e+00\r\n",
      "\r\n",
      " Columns 961 through 966:\r\n",
      "\r\n",
      "  -8.5387e+00  -4.0451e+00   8.5039e-01  -8.2708e+00  -6.2808e+00  -7.8089e+00\r\n",
      "\r\n",
      " Columns 967 through 972:\r\n",
      "\r\n",
      "  -9.1629e+00  -6.6339e+00  -4.8970e+00  -7.5063e+00  -4.6410e+00  -4.2574e+00\r\n",
      "\r\n",
      " Columns 973 through 978:\r\n",
      "\r\n",
      "  -2.6197e+00  -9.4332e+00  -4.9458e+00  -5.3236e+00  -2.2449e+00  -8.3652e+00\r\n",
      "\r\n",
      " Columns 979 through 984:\r\n",
      "\r\n",
      "  -6.0557e-01  -6.4237e+00  -5.5869e+00  -1.0435e+01  -9.4911e+00  -1.9258e+00\r\n",
      "\r\n",
      " Columns 985 through 990:\r\n",
      "\r\n",
      "  -7.8227e+00  -9.7519e+00  -5.0305e+00  -9.4536e+00  -6.1393e+00  -4.6834e+00\r\n",
      "\r\n",
      " Columns 991 through 996:\r\n",
      "\r\n",
      "  -9.0762e+00  -6.0791e+00  -4.2305e+00  -4.7327e+00  -4.2277e+00  -2.7161e+00\r\n",
      "\r\n",
      " Columns 997 through 1000:\r\n",
      "\r\n",
      "  -5.9250e+00  -9.2961e+00  -7.2650e+00  -9.9733e+00\r\n",
      "\r\n"
     ]
    }
   ],
   "source": [
    "w = -6 + sqrt(10) * (randn(1,1000))"
   ]
  },
  {
   "cell_type": "code",
   "execution_count": 29,
   "metadata": {},
   "outputs": [
    {
     "data": {
      "image/png": "[encoded data removed]",
      "text/plain": [
       "<IPython.core.display.Image object>"
      ]
     },
     "metadata": {},
     "output_type": "display_data"
    }
   ],
   "source": [
    "hist(w)"
   ]
  },
  {
   "cell_type": "code",
   "execution_count": 30,
   "metadata": {},
   "outputs": [
    {
     "name": "stdout",
     "output_type": "stream",
     "text": [
      "ans =\r\n",
      "\r\n",
      "Diagonal Matrix\r\n",
      "\r\n",
      "   1   0   0   0\r\n",
      "   0   1   0   0\r\n",
      "   0   0   1   0\r\n",
      "   0   0   0   1\r\n",
      "\r\n"
     ]
    }
   ],
   "source": [
    "eye(4)"
   ]
  },
  {
   "cell_type": "code",
   "execution_count": 31,
   "metadata": {},
   "outputs": [
    {
     "name": "stdout",
     "output_type": "stream",
     "text": [
      "'eye' is a built-in function from the file libinterp/corefcn/data.cc\r\n",
      "\r\n",
      " -- Built-in Function: eye (N)\r\n",
      " -- Built-in Function: eye (M, N)\r\n",
      " -- Built-in Function: eye ([M N])\r\n",
      " -- Built-in Function: eye (..., CLASS)\r\n",
      "     Return an identity matrix.\r\n",
      "\r\n",
      "     If invoked with a single scalar argument N, return a square NxN\r\n",
      "     identity matrix.\r\n",
      "\r\n",
      "     If supplied two scalar arguments (M, N), 'eye' takes them to be the\r\n",
      "     number of rows and columns.  If given a vector with two elements,\r\n",
      "     'eye' uses the values of the elements as the number of rows and\r\n",
      "     columns, respectively.  For example:\r\n",
      "\r\n",
      "          eye (3)\r\n",
      "           =>  1  0  0\r\n",
      "               0  1  0\r\n",
      "               0  0  1\r\n",
      "\r\n",
      "     The following expressions all produce the same result:\r\n",
      "\r\n",
      "          eye (2)\r\n",
      "          ==\r\n",
      "          eye (2, 2)\r\n",
      "          ==\r\n",
      "          eye (size ([1, 2; 3, 4]))\r\n",
      "\r\n",
      "     The optional argument CLASS, allows 'eye' to return an array of the\r\n",
      "     specified type, like\r\n",
      "\r\n",
      "          val = zeros (n,m, \"uint8\")\r\n",
      "\r\n",
      "     Calling 'eye' with no arguments is equivalent to calling it with an\r\n",
      "     argument of 1.  Any negative dimensions are treated as zero.  These\r\n",
      "     odd definitions are for compatibility with MATLAB.\r\n",
      "\r\n",
      "     See also: speye, ones, zeros.\r\n",
      "\r\n",
      "Additional help for built-in functions and operators is\r\n",
      "available in the online version of the manual.  Use the command\r\n",
      "'doc <topic>' to search the manual index.\r\n",
      "\r\n",
      "Help and information about Octave is also available on the WWW\r\n",
      "at http://www.octave.org and via the help@octave.org\r\n",
      "mailing list.\r\n"
     ]
    }
   ],
   "source": [
    "help eye"
   ]
  },
  {
   "cell_type": "code",
   "execution_count": 32,
   "metadata": {},
   "outputs": [
    {
     "name": "stdout",
     "output_type": "stream",
     "text": [
      "ans = [](0x0)\r\n"
     ]
    }
   ],
   "source": [
    "eye(0)"
   ]
  },
  {
   "cell_type": "code",
   "execution_count": null,
   "metadata": {},
   "outputs": [],
   "source": []
  }
 ],
 "metadata": {
  "kernelspec": {
   "display_name": "Octave",
   "language": "octave",
   "name": "octave"
  },
  "language_info": {
   "file_extension": ".m",
   "help_links": [
    {
     "text": "GNU Octave",
     "url": "https://www.gnu.org/software/octave/support.html"
    },
    {
     "text": "Octave Kernel",
     "url": "https://github.com/Calysto/octave_kernel"
    },
    {
     "text": "MetaKernel Magics",
     "url": "https://metakernel.readthedocs.io/en/latest/source/README.html"
    }
   ],
   "mimetype": "text/x-octave",
   "name": "octave",
   "version": "4.0.3"
  }
 },
 "nbformat": 4,
 "nbformat_minor": 2
}
