{
 "cells": [
  {
   "cell_type": "code",
   "execution_count": 2,
   "metadata": {},
   "outputs": [
    {
     "name": "stdout",
     "output_type": "stream",
     "text": [
      "v =\r\n",
      "\r\n",
      "   0\r\n",
      "   0\r\n",
      "   0\r\n",
      "   0\r\n",
      "   0\r\n",
      "   0\r\n",
      "   0\r\n",
      "   0\r\n",
      "   0\r\n",
      "   0\r\n",
      "\r\n"
     ]
    }
   ],
   "source": [
    "v=zeros(10,1)"
   ]
  },
  {
   "cell_type": "code",
   "execution_count": 3,
   "metadata": {},
   "outputs": [],
   "source": [
    "for i = 1:10,\n",
    "    v(i) = 2^i;\n",
    "end;"
   ]
  },
  {
   "cell_type": "code",
   "execution_count": 4,
   "metadata": {},
   "outputs": [
    {
     "name": "stdout",
     "output_type": "stream",
     "text": [
      "v =\r\n",
      "\r\n",
      "      2\r\n",
      "      4\r\n",
      "      8\r\n",
      "     16\r\n",
      "     32\r\n",
      "     64\r\n",
      "    128\r\n",
      "    256\r\n",
      "    512\r\n",
      "   1024\r\n",
      "\r\n"
     ]
    }
   ],
   "source": [
    "v"
   ]
  },
  {
   "cell_type": "code",
   "execution_count": 5,
   "metadata": {},
   "outputs": [],
   "source": [
    "indices = 1:10;"
   ]
  },
  {
   "cell_type": "code",
   "execution_count": 6,
   "metadata": {},
   "outputs": [
    {
     "name": "stdout",
     "output_type": "stream",
     "text": [
      "indices =\r\n",
      "\r\n",
      "    1    2    3    4    5    6    7    8    9   10\r\n",
      "\r\n"
     ]
    }
   ],
   "source": [
    "indices"
   ]
  },
  {
   "cell_type": "code",
   "execution_count": 7,
   "metadata": {},
   "outputs": [
    {
     "name": "stdout",
     "output_type": "stream",
     "text": [
      " 1\r\n",
      " 2\r\n",
      " 3\r\n",
      " 4\r\n",
      " 5\r\n",
      " 6\r\n",
      " 7\r\n",
      " 8\r\n",
      " 9\r\n",
      " 10\r\n"
     ]
    }
   ],
   "source": [
    "for i=indices,\n",
    "    disp(i);\n",
    "end;"
   ]
  },
  {
   "cell_type": "code",
   "execution_count": 8,
   "metadata": {},
   "outputs": [
    {
     "name": "stdout",
     "output_type": "stream",
     "text": [
      "v =\r\n",
      "\r\n",
      "      2\r\n",
      "      4\r\n",
      "      8\r\n",
      "     16\r\n",
      "     32\r\n",
      "     64\r\n",
      "    128\r\n",
      "    256\r\n",
      "    512\r\n",
      "   1024\r\n",
      "\r\n"
     ]
    }
   ],
   "source": [
    "v"
   ]
  },
  {
   "cell_type": "code",
   "execution_count": null,
   "metadata": {},
   "outputs": [],
   "source": [
    "i = 1"
   ]
  },
  {
   "cell_type": "code",
   "execution_count": 13,
   "metadata": {},
   "outputs": [],
   "source": [
    "while i <= 5,\n",
    "    v(i) = 100;\n",
    "    i = i + 1;\n",
    "end;"
   ]
  },
  {
   "cell_type": "code",
   "execution_count": 14,
   "metadata": {},
   "outputs": [
    {
     "name": "stdout",
     "output_type": "stream",
     "text": [
      "v =\r\n",
      "\r\n",
      "    100\r\n",
      "    100\r\n",
      "    100\r\n",
      "    100\r\n",
      "    100\r\n",
      "     64\r\n",
      "    128\r\n",
      "    256\r\n",
      "    512\r\n",
      "   1024\r\n",
      "\r\n"
     ]
    }
   ],
   "source": [
    "v"
   ]
  },
  {
   "cell_type": "code",
   "execution_count": 15,
   "metadata": {},
   "outputs": [
    {
     "name": "stdout",
     "output_type": "stream",
     "text": [
      "i =  1\r\n"
     ]
    }
   ],
   "source": [
    "i = 1"
   ]
  },
  {
   "cell_type": "code",
   "execution_count": 16,
   "metadata": {},
   "outputs": [],
   "source": [
    "while true,\n",
    "    v(i) = 999;\n",
    "    i = i+1;\n",
    "    if i == 6,\n",
    "        break;\n",
    "    end;\n",
    "end;"
   ]
  },
  {
   "cell_type": "code",
   "execution_count": 17,
   "metadata": {},
   "outputs": [
    {
     "name": "stdout",
     "output_type": "stream",
     "text": [
      "v =\r\n",
      "\r\n",
      "    999\r\n",
      "    999\r\n",
      "    999\r\n",
      "    999\r\n",
      "    999\r\n",
      "     64\r\n",
      "    128\r\n",
      "    256\r\n",
      "    512\r\n",
      "   1024\r\n",
      "\r\n"
     ]
    }
   ],
   "source": [
    "v"
   ]
  },
  {
   "cell_type": "code",
   "execution_count": 18,
   "metadata": {},
   "outputs": [
    {
     "name": "stdout",
     "output_type": "stream",
     "text": [
      "ans =  999\r\n"
     ]
    }
   ],
   "source": [
    "v(1)"
   ]
  },
  {
   "cell_type": "code",
   "execution_count": 19,
   "metadata": {},
   "outputs": [
    {
     "name": "stdout",
     "output_type": "stream",
     "text": [
      "v =\r\n",
      "\r\n",
      "   2000\r\n",
      "    999\r\n",
      "    999\r\n",
      "    999\r\n",
      "    999\r\n",
      "     64\r\n",
      "    128\r\n",
      "    256\r\n",
      "    512\r\n",
      "   1024\r\n",
      "\r\n"
     ]
    }
   ],
   "source": [
    "v(1) = 2000"
   ]
  },
  {
   "cell_type": "code",
   "execution_count": 20,
   "metadata": {},
   "outputs": [
    {
     "name": "stdout",
     "output_type": "stream",
     "text": [
      "The value is 2k\r\n"
     ]
    }
   ],
   "source": [
    "if v(1)==1000,\n",
    "    disp('The value is 1k');\n",
    "elseif v(1)==2000,\n",
    "    disp('The value is 2k');\n",
    "else,\n",
    "    disp(\"The value isn't 1k or 2k\");\n",
    "end;"
   ]
  },
  {
   "cell_type": "code",
   "execution_count": 21,
   "metadata": {},
   "outputs": [
    {
     "name": "stdout",
     "output_type": "stream",
     "text": [
      "ans =  25\r\n"
     ]
    }
   ],
   "source": [
    "squareThisNumber(5)"
   ]
  },
  {
   "cell_type": "markdown",
   "metadata": {},
   "source": [
    "addpath('C:\\Users\\ang\\Desktop') %to add a directory to the Octave search path"
   ]
  },
  {
   "cell_type": "code",
   "execution_count": 22,
   "metadata": {},
   "outputs": [
    {
     "name": "stdout",
     "output_type": "stream",
     "text": [
      "ans =  25\r\n"
     ]
    }
   ],
   "source": [
    "squareAndCubeThisNumber(5)"
   ]
  },
  {
   "cell_type": "code",
   "execution_count": 23,
   "metadata": {},
   "outputs": [
    {
     "name": "stdout",
     "output_type": "stream",
     "text": [
      "a =  25\r\n",
      "b =  125\r\n"
     ]
    }
   ],
   "source": [
    "[a,b] = squareAndCubeThisNumber(5)"
   ]
  },
  {
   "cell_type": "code",
   "execution_count": 24,
   "metadata": {},
   "outputs": [
    {
     "name": "stdout",
     "output_type": "stream",
     "text": [
      "X =\r\n",
      "\r\n",
      "   1   1\r\n",
      "   1   2\r\n",
      "   1   3\r\n",
      "\r\n"
     ]
    }
   ],
   "source": [
    "X = [1 1; 1 2; 1 3]"
   ]
  },
  {
   "cell_type": "code",
   "execution_count": 25,
   "metadata": {},
   "outputs": [
    {
     "name": "stdout",
     "output_type": "stream",
     "text": [
      "y =\r\n",
      "\r\n",
      "   1\r\n",
      "   2\r\n",
      "   3\r\n",
      "\r\n"
     ]
    }
   ],
   "source": [
    "y = [1;2;3]"
   ]
  },
  {
   "cell_type": "code",
   "execution_count": 29,
   "metadata": {},
   "outputs": [],
   "source": [
    "theta = [0;1];"
   ]
  },
  {
   "cell_type": "code",
   "execution_count": 30,
   "metadata": {},
   "outputs": [
    {
     "name": "stdout",
     "output_type": "stream",
     "text": [
      "j = 0\r\n"
     ]
    }
   ],
   "source": [
    "j = costFunctionJ(X,y,theta)"
   ]
  },
  {
   "cell_type": "code",
   "execution_count": 31,
   "metadata": {},
   "outputs": [],
   "source": [
    "theta = [0;2];"
   ]
  },
  {
   "cell_type": "code",
   "execution_count": 32,
   "metadata": {},
   "outputs": [
    {
     "name": "stdout",
     "output_type": "stream",
     "text": [
      "j =  2.3333\r\n"
     ]
    }
   ],
   "source": [
    "j = costFunctionJ(X,y,theta)"
   ]
  },
  {
   "cell_type": "code",
   "execution_count": 35,
   "metadata": {},
   "outputs": [],
   "source": [
    "theta = [0;-1];"
   ]
  },
  {
   "cell_type": "code",
   "execution_count": null,
   "metadata": {},
   "outputs": [],
   "source": []
  },
  {
   "cell_type": "code",
   "execution_count": 34,
   "metadata": {},
   "outputs": [
    {
     "name": "stdout",
     "output_type": "stream",
     "text": [
      "j =  2.3333\r\n"
     ]
    }
   ],
   "source": [
    "j = costFunctionJ(X,y,theta)"
   ]
  },
  {
   "cell_type": "code",
   "execution_count": null,
   "metadata": {},
   "outputs": [],
   "source": []
  }
 ],
 "metadata": {
  "kernelspec": {
   "display_name": "Octave",
   "language": "octave",
   "name": "octave"
  },
  "language_info": {
   "file_extension": ".m",
   "help_links": [
    {
     "text": "GNU Octave",
     "url": "https://www.gnu.org/software/octave/support.html"
    },
    {
     "text": "Octave Kernel",
     "url": "https://github.com/Calysto/octave_kernel"
    },
    {
     "text": "MetaKernel Magics",
     "url": "https://metakernel.readthedocs.io/en/latest/source/README.html"
    }
   ],
   "mimetype": "text/x-octave",
   "name": "octave",
   "version": "4.0.3"
  }
 },
 "nbformat": 4,
 "nbformat_minor": 2
}
