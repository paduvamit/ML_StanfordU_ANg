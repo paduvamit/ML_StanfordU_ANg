{
 "cells": [
  {
   "cell_type": "code",
   "execution_count": 1,
   "metadata": {},
   "outputs": [
    {
     "name": "stdout",
     "output_type": "stream",
     "text": [
      "error: 'A' undefined near line 1 column 1\r\n"
     ]
    }
   ],
   "source": [
    "A"
   ]
  },
  {
   "cell_type": "code",
   "execution_count": 2,
   "metadata": {},
   "outputs": [
    {
     "name": "stdout",
     "output_type": "stream",
     "text": [
      "A =\r\n",
      "\r\n",
      "   1   2\r\n",
      "   3   4\r\n",
      "   5   6\r\n",
      "\r\n"
     ]
    }
   ],
   "source": [
    "A = [1 2;\n",
    "3 4;\n",
    "5 6]"
   ]
  },
  {
   "cell_type": "code",
   "execution_count": 3,
   "metadata": {},
   "outputs": [
    {
     "name": "stdout",
     "output_type": "stream",
     "text": [
      "ans =\r\n",
      "\r\n",
      "   3   2\r\n",
      "\r\n"
     ]
    }
   ],
   "source": [
    "size(A)"
   ]
  },
  {
   "cell_type": "code",
   "execution_count": 4,
   "metadata": {},
   "outputs": [
    {
     "name": "stdout",
     "output_type": "stream",
     "text": [
      "ans =\r\n",
      "\r\n",
      "   1   2\r\n",
      "\r\n"
     ]
    }
   ],
   "source": [
    "size(size(A))"
   ]
  },
  {
   "cell_type": "code",
   "execution_count": 5,
   "metadata": {},
   "outputs": [
    {
     "name": "stdout",
     "output_type": "stream",
     "text": [
      "ans =  3\r\n"
     ]
    }
   ],
   "source": [
    "size(A,1)"
   ]
  },
  {
   "cell_type": "code",
   "execution_count": 6,
   "metadata": {},
   "outputs": [
    {
     "name": "stdout",
     "output_type": "stream",
     "text": [
      "ans =  2\r\n"
     ]
    }
   ],
   "source": [
    "size(A,2)"
   ]
  },
  {
   "cell_type": "code",
   "execution_count": 7,
   "metadata": {},
   "outputs": [
    {
     "name": "stdout",
     "output_type": "stream",
     "text": [
      "v =\r\n",
      "\r\n",
      "   1   2   3   4\r\n",
      "\r\n"
     ]
    }
   ],
   "source": [
    "v = 1:1:4"
   ]
  },
  {
   "cell_type": "code",
   "execution_count": 8,
   "metadata": {},
   "outputs": [
    {
     "name": "stdout",
     "output_type": "stream",
     "text": [
      "error: 'lenght' undefined near line 1 column 1\r\n"
     ]
    }
   ],
   "source": [
    "lenght(v)"
   ]
  },
  {
   "cell_type": "code",
   "execution_count": 9,
   "metadata": {},
   "outputs": [
    {
     "name": "stdout",
     "output_type": "stream",
     "text": [
      "ans =  4\r\n"
     ]
    }
   ],
   "source": [
    "length(v)"
   ]
  },
  {
   "cell_type": "code",
   "execution_count": 10,
   "metadata": {},
   "outputs": [
    {
     "name": "stdout",
     "output_type": "stream",
     "text": [
      "A =\r\n",
      "\r\n",
      "   1   2\r\n",
      "   3   4\r\n",
      "   5   6\r\n",
      "\r\n"
     ]
    }
   ],
   "source": [
    "A"
   ]
  },
  {
   "cell_type": "code",
   "execution_count": 11,
   "metadata": {},
   "outputs": [
    {
     "name": "stdout",
     "output_type": "stream",
     "text": [
      "ans =  3\r\n"
     ]
    }
   ],
   "source": [
    "length(A)"
   ]
  },
  {
   "cell_type": "code",
   "execution_count": 12,
   "metadata": {},
   "outputs": [
    {
     "name": "stdout",
     "output_type": "stream",
     "text": [
      "ans = /notebooks\r\n"
     ]
    }
   ],
   "source": [
    "pwd"
   ]
  },
  {
   "cell_type": "code",
   "execution_count": 13,
   "metadata": {},
   "outputs": [],
   "source": [
    "cd .."
   ]
  },
  {
   "cell_type": "code",
   "execution_count": 14,
   "metadata": {},
   "outputs": [
    {
     "name": "stdout",
     "output_type": "stream",
     "text": [
      "ans = /\r\n"
     ]
    }
   ],
   "source": [
    "pwd"
   ]
  },
  {
   "cell_type": "code",
   "execution_count": 15,
   "metadata": {},
   "outputs": [],
   "source": [
    "cd .."
   ]
  },
  {
   "cell_type": "code",
   "execution_count": 16,
   "metadata": {},
   "outputs": [
    {
     "name": "stdout",
     "output_type": "stream",
     "text": [
      "ans = /\r\n"
     ]
    }
   ],
   "source": [
    "pwd"
   ]
  },
  {
   "cell_type": "code",
   "execution_count": 17,
   "metadata": {},
   "outputs": [
    {
     "name": "stdout",
     "output_type": "stream",
     "text": [
      "bin   dev  home  lib64\tmnt\t   opt\t root  sbin   srv  tmp\tvar\r\n",
      "boot  etc  lib\t media\tnotebooks  proc  run   setup  sys  usr\r\n"
     ]
    }
   ],
   "source": [
    "ls"
   ]
  },
  {
   "cell_type": "code",
   "execution_count": 18,
   "metadata": {},
   "outputs": [],
   "source": [
    "cd notebooks"
   ]
  },
  {
   "cell_type": "code",
   "execution_count": 19,
   "metadata": {},
   "outputs": [
    {
     "name": "stdout",
     "output_type": "stream",
     "text": [
      "Moving_Data_Around.ipynb  OctaveBasics.ipynb  basics.ipynb  xyz.txt  xyzabc.txt\r\n"
     ]
    }
   ],
   "source": [
    "ls"
   ]
  },
  {
   "cell_type": "code",
   "execution_count": 20,
   "metadata": {},
   "outputs": [
    {
     "name": "stdout",
     "output_type": "stream",
     "text": [
      "Variables in the current scope:\r\n",
      "\r\n",
      "A    ans  v\r\n",
      "\r\n"
     ]
    }
   ],
   "source": [
    "who"
   ]
  },
  {
   "cell_type": "code",
   "execution_count": 21,
   "metadata": {},
   "outputs": [
    {
     "name": "stdout",
     "output_type": "stream",
     "text": [
      "ans = /notebooks\r\n"
     ]
    }
   ],
   "source": [
    "pwd"
   ]
  },
  {
   "cell_type": "code",
   "execution_count": 22,
   "metadata": {},
   "outputs": [],
   "source": [
    "load('featuresX.dat')"
   ]
  },
  {
   "cell_type": "code",
   "execution_count": 23,
   "metadata": {},
   "outputs": [],
   "source": [
    "load('priceY.dat')"
   ]
  },
  {
   "cell_type": "code",
   "execution_count": 24,
   "metadata": {},
   "outputs": [
    {
     "name": "stdout",
     "output_type": "stream",
     "text": [
      "Variables in the current scope:\r\n",
      "\r\n",
      "A          ans        featuresX  priceY     v\r\n",
      "\r\n"
     ]
    }
   ],
   "source": [
    "who"
   ]
  },
  {
   "cell_type": "code",
   "execution_count": 25,
   "metadata": {},
   "outputs": [
    {
     "name": "stdout",
     "output_type": "stream",
     "text": [
      "Variables in the current scope:\r\n",
      "\r\n",
      "   Attr Name           Size                     Bytes  Class\r\n",
      "   ==== ====           ====                     =====  ===== \r\n",
      "        A              3x2                         48  double\r\n",
      "        ans            1x10                        10  char\r\n",
      "        featuresX      6x2                         96  double\r\n",
      "        priceY         6x1                         48  double\r\n",
      "        v              1x4                         24  double\r\n",
      "\r\n",
      "Total is 38 elements using 226 bytes\r\n",
      "\r\n"
     ]
    }
   ],
   "source": [
    "whos"
   ]
  },
  {
   "cell_type": "code",
   "execution_count": 26,
   "metadata": {},
   "outputs": [
    {
     "name": "stdout",
     "output_type": "stream",
     "text": [
      "ans = /notebooks\r\n"
     ]
    }
   ],
   "source": [
    "ans"
   ]
  },
  {
   "cell_type": "code",
   "execution_count": 27,
   "metadata": {},
   "outputs": [],
   "source": [
    "clear ans"
   ]
  },
  {
   "cell_type": "code",
   "execution_count": 28,
   "metadata": {},
   "outputs": [
    {
     "name": "stdout",
     "output_type": "stream",
     "text": [
      "Variables in the current scope:\r\n",
      "\r\n",
      "   Attr Name           Size                     Bytes  Class\r\n",
      "   ==== ====           ====                     =====  ===== \r\n",
      "        A              3x2                         48  double\r\n",
      "        featuresX      6x2                         96  double\r\n",
      "        priceY         6x1                         48  double\r\n",
      "        v              1x4                         24  double\r\n",
      "\r\n",
      "Total is 28 elements using 216 bytes\r\n",
      "\r\n"
     ]
    }
   ],
   "source": [
    "whos"
   ]
  },
  {
   "cell_type": "code",
   "execution_count": 29,
   "metadata": {},
   "outputs": [
    {
     "name": "stdout",
     "output_type": "stream",
     "text": [
      "v =\r\n",
      "\r\n",
      "   100\r\n",
      "   120\r\n",
      "   140\r\n",
      "\r\n"
     ]
    }
   ],
   "source": [
    "v = priceY(1:3)"
   ]
  },
  {
   "cell_type": "code",
   "execution_count": 30,
   "metadata": {},
   "outputs": [],
   "source": [
    "save hello.mat v"
   ]
  },
  {
   "cell_type": "code",
   "execution_count": 31,
   "metadata": {},
   "outputs": [
    {
     "name": "stdout",
     "output_type": "stream",
     "text": [
      "Moving_Data_Around.ipynb  basics.ipynb\t hello.mat   xyz.txt\r\n",
      "OctaveBasics.ipynb\t  featuresX.dat  priceY.dat  xyzabc.txt\r\n"
     ]
    }
   ],
   "source": [
    "ls"
   ]
  },
  {
   "cell_type": "code",
   "execution_count": 32,
   "metadata": {},
   "outputs": [
    {
     "name": "stdout",
     "output_type": "stream",
     "text": [
      "error: invalid conversion from string to real scalar\r\n",
      "error: octave_base_value::int_value (): wrong type argument 'sq_string'\r\n",
      "error: cat: DIM must be an integer\r\n"
     ]
    }
   ],
   "source": [
    "cat hello.mat"
   ]
  },
  {
   "cell_type": "code",
   "execution_count": 33,
   "metadata": {},
   "outputs": [],
   "source": [
    "save hello.txt v -ascii"
   ]
  },
  {
   "cell_type": "code",
   "execution_count": 34,
   "metadata": {},
   "outputs": [
    {
     "name": "stdout",
     "output_type": "stream",
     "text": [
      "Variables in the current scope:\r\n",
      "\r\n",
      "   Attr Name           Size                     Bytes  Class\r\n",
      "   ==== ====           ====                     =====  ===== \r\n",
      "        A              3x2                         48  double\r\n",
      "        featuresX      6x2                         96  double\r\n",
      "        priceY         6x1                         48  double\r\n",
      "        v              3x1                         24  double\r\n",
      "\r\n",
      "Total is 27 elements using 216 bytes\r\n",
      "\r\n"
     ]
    }
   ],
   "source": [
    "whos"
   ]
  },
  {
   "cell_type": "code",
   "execution_count": 35,
   "metadata": {},
   "outputs": [
    {
     "name": "stdout",
     "output_type": "stream",
     "text": [
      "A =\r\n",
      "\r\n",
      "   1   2\r\n",
      "   3   4\r\n",
      "   5   6\r\n",
      "\r\n"
     ]
    }
   ],
   "source": [
    "A"
   ]
  },
  {
   "cell_type": "code",
   "execution_count": 36,
   "metadata": {},
   "outputs": [
    {
     "name": "stdout",
     "output_type": "stream",
     "text": [
      "ans =  5\r\n"
     ]
    }
   ],
   "source": [
    "A(3,1)"
   ]
  },
  {
   "cell_type": "code",
   "execution_count": 37,
   "metadata": {},
   "outputs": [
    {
     "name": "stdout",
     "output_type": "stream",
     "text": [
      "ans =\r\n",
      "\r\n",
      "   3   4\r\n",
      "\r\n"
     ]
    }
   ],
   "source": [
    "A(2,:)"
   ]
  },
  {
   "cell_type": "code",
   "execution_count": 38,
   "metadata": {},
   "outputs": [
    {
     "name": "stdout",
     "output_type": "stream",
     "text": [
      "ans =\r\n",
      "\r\n",
      "   2\r\n",
      "   4\r\n",
      "   6\r\n",
      "\r\n"
     ]
    }
   ],
   "source": [
    "A(:,2)"
   ]
  },
  {
   "cell_type": "code",
   "execution_count": 39,
   "metadata": {},
   "outputs": [
    {
     "name": "stdout",
     "output_type": "stream",
     "text": [
      "ans =\r\n",
      "\r\n",
      "   1   2\r\n",
      "   5   6\r\n",
      "\r\n"
     ]
    }
   ],
   "source": [
    "A([1 3],:)"
   ]
  },
  {
   "cell_type": "code",
   "execution_count": 40,
   "metadata": {},
   "outputs": [
    {
     "name": "stdout",
     "output_type": "stream",
     "text": [
      "A =\r\n",
      "\r\n",
      "    1   10\r\n",
      "    3   11\r\n",
      "    5   12\r\n",
      "\r\n"
     ]
    }
   ],
   "source": [
    "A(:,2) = [10 11 12]"
   ]
  },
  {
   "cell_type": "code",
   "execution_count": 41,
   "metadata": {},
   "outputs": [
    {
     "name": "stdout",
     "output_type": "stream",
     "text": [
      "A =\r\n",
      "\r\n",
      "    1   10\r\n",
      "    3   11\r\n",
      "    5   12\r\n",
      "\r\n"
     ]
    }
   ],
   "source": [
    "A"
   ]
  },
  {
   "cell_type": "code",
   "execution_count": 42,
   "metadata": {},
   "outputs": [
    {
     "name": "stdout",
     "output_type": "stream",
     "text": [
      "error: A(I,J,...) = X: dimensions mismatch\r\n"
     ]
    }
   ],
   "source": [
    "A(:,2) = [10 11 12 13]"
   ]
  },
  {
   "cell_type": "code",
   "execution_count": 43,
   "metadata": {},
   "outputs": [
    {
     "name": "stdout",
     "output_type": "stream",
     "text": [
      "parse error:\r\n",
      "\r\n",
      "  syntax error\r\n",
      "\r\n",
      ">>> A[2,:] = [100 99]\r\n",
      "     ^\r\n",
      "\r\n"
     ]
    }
   ],
   "source": [
    "A[2,:] = [100 99]"
   ]
  },
  {
   "cell_type": "code",
   "execution_count": 44,
   "metadata": {},
   "outputs": [
    {
     "name": "stdout",
     "output_type": "stream",
     "text": [
      "A =\r\n",
      "\r\n",
      "     1    10\r\n",
      "   100    99\r\n",
      "     5    12\r\n",
      "\r\n"
     ]
    }
   ],
   "source": [
    "A(2,:) = [100 99]"
   ]
  },
  {
   "cell_type": "code",
   "execution_count": 45,
   "metadata": {},
   "outputs": [
    {
     "name": "stdout",
     "output_type": "stream",
     "text": [
      "error: horizontal dimensions mismatch (3x2 vs 1x3)\r\n"
     ]
    }
   ],
   "source": [
    "A = [A,[101,102,103]]"
   ]
  },
  {
   "cell_type": "code",
   "execution_count": 46,
   "metadata": {},
   "outputs": [
    {
     "name": "stdout",
     "output_type": "stream",
     "text": [
      "A =\r\n",
      "\r\n",
      "     1    10   101\r\n",
      "   100    99   102\r\n",
      "     5    12   103\r\n",
      "\r\n"
     ]
    }
   ],
   "source": [
    "A = [A,[101;102;103]]"
   ]
  },
  {
   "cell_type": "code",
   "execution_count": 48,
   "metadata": {},
   "outputs": [
    {
     "name": "stdout",
     "output_type": "stream",
     "text": [
      "A =\r\n",
      "\r\n",
      "     1    10   101\r\n",
      "   100    99   102\r\n",
      "     5    12   103\r\n",
      "   105   106   107\r\n",
      "\r\n"
     ]
    }
   ],
   "source": [
    "A = [A;[105,106,107]]"
   ]
  },
  {
   "cell_type": "code",
   "execution_count": 51,
   "metadata": {},
   "outputs": [
    {
     "name": "stdout",
     "output_type": "stream",
     "text": [
      "ans =\r\n",
      "\r\n",
      "   4   3\r\n",
      "\r\n"
     ]
    }
   ],
   "source": [
    "size(A)"
   ]
  },
  {
   "cell_type": "code",
   "execution_count": 49,
   "metadata": {},
   "outputs": [
    {
     "name": "stdout",
     "output_type": "stream",
     "text": [
      "ans =\r\n",
      "\r\n",
      "     1\r\n",
      "   100\r\n",
      "     5\r\n",
      "   105\r\n",
      "    10\r\n",
      "    99\r\n",
      "    12\r\n",
      "   106\r\n",
      "   101\r\n",
      "   102\r\n",
      "   103\r\n",
      "   107\r\n",
      "\r\n"
     ]
    }
   ],
   "source": [
    "A(:)"
   ]
  },
  {
   "cell_type": "code",
   "execution_count": 52,
   "metadata": {},
   "outputs": [
    {
     "name": "stdout",
     "output_type": "stream",
     "text": [
      "ans =\r\n",
      "\r\n",
      "   12    1\r\n",
      "\r\n"
     ]
    }
   ],
   "source": [
    "size(A(:))"
   ]
  },
  {
   "cell_type": "code",
   "execution_count": 53,
   "metadata": {},
   "outputs": [
    {
     "name": "stdout",
     "output_type": "stream",
     "text": [
      "X =\r\n",
      "\r\n",
      "   1   2\r\n",
      "   3   4\r\n",
      "\r\n"
     ]
    }
   ],
   "source": [
    "X = [1 2 ; 3 4]"
   ]
  },
  {
   "cell_type": "code",
   "execution_count": 54,
   "metadata": {},
   "outputs": [
    {
     "name": "stdout",
     "output_type": "stream",
     "text": [
      "Y =\r\n",
      "\r\n",
      "   10    9\r\n",
      "    8    7\r\n",
      "\r\n"
     ]
    }
   ],
   "source": [
    "Y = [10 9; 8 7]"
   ]
  },
  {
   "cell_type": "code",
   "execution_count": null,
   "metadata": {},
   "outputs": [],
   "source": [
    "Z = {}"
   ]
  }
 ],
 "metadata": {
  "kernelspec": {
   "display_name": "Octave",
   "language": "octave",
   "name": "octave"
  },
  "language_info": {
   "file_extension": ".m",
   "help_links": [
    {
     "text": "GNU Octave",
     "url": "https://www.gnu.org/software/octave/support.html"
    },
    {
     "text": "Octave Kernel",
     "url": "https://github.com/Calysto/octave_kernel"
    },
    {
     "text": "MetaKernel Magics",
     "url": "https://metakernel.readthedocs.io/en/latest/source/README.html"
    }
   ],
   "mimetype": "text/x-octave",
   "name": "octave",
   "version": "4.0.3"
  }
 },
 "nbformat": 4,
 "nbformat_minor": 2
}
