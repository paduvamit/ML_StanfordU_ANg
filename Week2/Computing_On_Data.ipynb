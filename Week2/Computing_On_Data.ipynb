{
 "cells": [
  {
   "cell_type": "code",
   "execution_count": 1,
   "metadata": {},
   "outputs": [
    {
     "name": "stdout",
     "output_type": "stream",
     "text": [
      "A =\r\n",
      "\r\n",
      "   1   2\r\n",
      "   3   4\r\n",
      "   5   6\r\n",
      "\r\n"
     ]
    }
   ],
   "source": [
    "A = [1 2;3 4; 5 6]"
   ]
  },
  {
   "cell_type": "code",
   "execution_count": 2,
   "metadata": {},
   "outputs": [
    {
     "name": "stdout",
     "output_type": "stream",
     "text": [
      "B =\r\n",
      "\r\n",
      "   11   12\r\n",
      "   13   14\r\n",
      "   15   16\r\n",
      "\r\n"
     ]
    }
   ],
   "source": [
    "B = [11 12;13 14; 15 16]"
   ]
  },
  {
   "cell_type": "code",
   "execution_count": 3,
   "metadata": {},
   "outputs": [
    {
     "name": "stdout",
     "output_type": "stream",
     "text": [
      "C =\r\n",
      "\r\n",
      "   1   1\r\n",
      "   2   2\r\n",
      "\r\n"
     ]
    }
   ],
   "source": [
    "C = [1 1;2 2]"
   ]
  },
  {
   "cell_type": "code",
   "execution_count": 4,
   "metadata": {},
   "outputs": [
    {
     "name": "stdout",
     "output_type": "stream",
     "text": [
      "ans =\r\n",
      "\r\n",
      "   3   2\r\n",
      "\r\n"
     ]
    }
   ],
   "source": [
    "size(A)"
   ]
  },
  {
   "cell_type": "code",
   "execution_count": 5,
   "metadata": {},
   "outputs": [
    {
     "name": "stdout",
     "output_type": "stream",
     "text": [
      "ans =\r\n",
      "\r\n",
      "   3   2\r\n",
      "\r\n"
     ]
    }
   ],
   "source": [
    "size(B)"
   ]
  },
  {
   "cell_type": "code",
   "execution_count": 6,
   "metadata": {},
   "outputs": [
    {
     "name": "stdout",
     "output_type": "stream",
     "text": [
      "ans =\r\n",
      "\r\n",
      "   2   2\r\n",
      "\r\n"
     ]
    }
   ],
   "source": [
    "size(C)"
   ]
  },
  {
   "cell_type": "code",
   "execution_count": 7,
   "metadata": {},
   "outputs": [
    {
     "name": "stdout",
     "output_type": "stream",
     "text": [
      "ans =\r\n",
      "\r\n",
      "    5    5\r\n",
      "   11   11\r\n",
      "   17   17\r\n",
      "\r\n"
     ]
    }
   ],
   "source": [
    "A * C"
   ]
  },
  {
   "cell_type": "code",
   "execution_count": 8,
   "metadata": {},
   "outputs": [
    {
     "name": "stdout",
     "output_type": "stream",
     "text": [
      "ans =\r\n",
      "\r\n",
      "   11   24\r\n",
      "   39   56\r\n",
      "   75   96\r\n",
      "\r\n"
     ]
    }
   ],
   "source": [
    "A .* B"
   ]
  },
  {
   "cell_type": "code",
   "execution_count": 9,
   "metadata": {},
   "outputs": [
    {
     "name": "stdout",
     "output_type": "stream",
     "text": [
      "error: operator *: nonconformant arguments (op1 is 3x2, op2 is 3x2)\r\n"
     ]
    }
   ],
   "source": [
    "A * B"
   ]
  },
  {
   "cell_type": "code",
   "execution_count": 10,
   "metadata": {},
   "outputs": [
    {
     "name": "stdout",
     "output_type": "stream",
     "text": [
      "ans =\r\n",
      "\r\n",
      "     1     8\r\n",
      "    27    64\r\n",
      "   125   216\r\n",
      "\r\n"
     ]
    }
   ],
   "source": [
    "A .^3"
   ]
  },
  {
   "cell_type": "code",
   "execution_count": 11,
   "metadata": {},
   "outputs": [
    {
     "name": "stdout",
     "output_type": "stream",
     "text": [
      "ans =\r\n",
      "\r\n",
      "    1    4\r\n",
      "    9   16\r\n",
      "   25   36\r\n",
      "\r\n"
     ]
    }
   ],
   "source": [
    "A .^2"
   ]
  },
  {
   "cell_type": "code",
   "execution_count": 12,
   "metadata": {},
   "outputs": [
    {
     "name": "stdout",
     "output_type": "stream",
     "text": [
      "ans =\r\n",
      "\r\n",
      "   1.00000   0.50000\r\n",
      "   0.33333   0.25000\r\n",
      "   0.20000   0.16667\r\n",
      "\r\n"
     ]
    }
   ],
   "source": [
    "1 ./A"
   ]
  },
  {
   "cell_type": "code",
   "execution_count": 13,
   "metadata": {},
   "outputs": [
    {
     "name": "stdout",
     "output_type": "stream",
     "text": [
      "A =\r\n",
      "\r\n",
      "   1   2\r\n",
      "   3   4\r\n",
      "   5   6\r\n",
      "\r\n"
     ]
    }
   ],
   "source": [
    "A"
   ]
  },
  {
   "cell_type": "code",
   "execution_count": 14,
   "metadata": {},
   "outputs": [
    {
     "name": "stdout",
     "output_type": "stream",
     "text": [
      "ans =\r\n",
      "\r\n",
      "   0.00000\r\n",
      "   1.09861\r\n",
      "   1.60944\r\n",
      "\r\n"
     ]
    }
   ],
   "source": [
    "log(A(:,1))"
   ]
  },
  {
   "cell_type": "code",
   "execution_count": 15,
   "metadata": {},
   "outputs": [
    {
     "name": "stdout",
     "output_type": "stream",
     "text": [
      "ans =\r\n",
      "\r\n",
      "     2.7183\r\n",
      "    20.0855\r\n",
      "   148.4132\r\n",
      "\r\n"
     ]
    }
   ],
   "source": [
    "exp(A(:,1))"
   ]
  },
  {
   "cell_type": "code",
   "execution_count": 16,
   "metadata": {},
   "outputs": [
    {
     "name": "stdout",
     "output_type": "stream",
     "text": [
      "neg_A =\r\n",
      "\r\n",
      "  -1  -2\r\n",
      "  -3  -4\r\n",
      "  -5  -6\r\n",
      "\r\n"
     ]
    }
   ],
   "source": [
    "neg_A = -1 * A"
   ]
  },
  {
   "cell_type": "code",
   "execution_count": 17,
   "metadata": {},
   "outputs": [
    {
     "name": "stdout",
     "output_type": "stream",
     "text": [
      "ans =\r\n",
      "\r\n",
      "   1   2\r\n",
      "   3   4\r\n",
      "   5   6\r\n",
      "\r\n"
     ]
    }
   ],
   "source": [
    "abs(neg_A)"
   ]
  },
  {
   "cell_type": "code",
   "execution_count": 18,
   "metadata": {},
   "outputs": [
    {
     "name": "stdout",
     "output_type": "stream",
     "text": [
      "ans =\r\n",
      "\r\n",
      "  -1  -2\r\n",
      "  -3  -4\r\n",
      "  -5  -6\r\n",
      "\r\n"
     ]
    }
   ],
   "source": [
    "-A"
   ]
  },
  {
   "cell_type": "code",
   "execution_count": 19,
   "metadata": {},
   "outputs": [
    {
     "name": "stdout",
     "output_type": "stream",
     "text": [
      "error: 'v' undefined near line 1 column 1\r\n"
     ]
    }
   ],
   "source": [
    "v"
   ]
  },
  {
   "cell_type": "code",
   "execution_count": 20,
   "metadata": {},
   "outputs": [
    {
     "name": "stdout",
     "output_type": "stream",
     "text": [
      "ans =  3\r\n"
     ]
    }
   ],
   "source": [
    "v = 1;2;3"
   ]
  },
  {
   "cell_type": "code",
   "execution_count": 21,
   "metadata": {},
   "outputs": [
    {
     "name": "stdout",
     "output_type": "stream",
     "text": [
      "v =  1\r\n"
     ]
    }
   ],
   "source": [
    "v"
   ]
  },
  {
   "cell_type": "code",
   "execution_count": 22,
   "metadata": {},
   "outputs": [
    {
     "name": "stdout",
     "output_type": "stream",
     "text": [
      "v =\r\n",
      "\r\n",
      "   1\r\n",
      "   2\r\n",
      "   3\r\n",
      "\r\n"
     ]
    }
   ],
   "source": [
    "v = (1:1:3)'"
   ]
  },
  {
   "cell_type": "code",
   "execution_count": 23,
   "metadata": {},
   "outputs": [
    {
     "name": "stdout",
     "output_type": "stream",
     "text": [
      "ans =\r\n",
      "\r\n",
      "   2\r\n",
      "   3\r\n",
      "   4\r\n",
      "\r\n"
     ]
    }
   ],
   "source": [
    "v + 1"
   ]
  },
  {
   "cell_type": "code",
   "execution_count": 24,
   "metadata": {},
   "outputs": [
    {
     "name": "stdout",
     "output_type": "stream",
     "text": [
      "ans =\r\n",
      "\r\n",
      "   2\r\n",
      "   3\r\n",
      "   4\r\n",
      "\r\n"
     ]
    }
   ],
   "source": [
    "v + ones(length(v),1)"
   ]
  },
  {
   "cell_type": "code",
   "execution_count": 25,
   "metadata": {},
   "outputs": [
    {
     "name": "stdout",
     "output_type": "stream",
     "text": [
      "ans =\r\n",
      "\r\n",
      "   1\r\n",
      "   1\r\n",
      "   1\r\n",
      "\r\n"
     ]
    }
   ],
   "source": [
    "(v + ones(length(v),1)) == (v+1)"
   ]
  },
  {
   "cell_type": "code",
   "execution_count": 26,
   "metadata": {},
   "outputs": [
    {
     "name": "stdout",
     "output_type": "stream",
     "text": [
      "ans =\r\n",
      "\r\n",
      "   1   2   3\r\n",
      "\r\n"
     ]
    }
   ],
   "source": [
    "v'"
   ]
  },
  {
   "cell_type": "code",
   "execution_count": 27,
   "metadata": {},
   "outputs": [
    {
     "name": "stdout",
     "output_type": "stream",
     "text": [
      "ans =  3\r\n"
     ]
    }
   ],
   "source": [
    "max(v)"
   ]
  },
  {
   "cell_type": "code",
   "execution_count": 28,
   "metadata": {},
   "outputs": [
    {
     "name": "stdout",
     "output_type": "stream",
     "text": [
      "val =  3\r\n",
      "ind =  3\r\n"
     ]
    }
   ],
   "source": [
    "[val,ind] = max(v)"
   ]
  },
  {
   "cell_type": "code",
   "execution_count": 29,
   "metadata": {},
   "outputs": [
    {
     "name": "stdout",
     "output_type": "stream",
     "text": [
      "A =\r\n",
      "\r\n",
      "   1   2\r\n",
      "   3   4\r\n",
      "   5   6\r\n",
      "\r\n"
     ]
    }
   ],
   "source": [
    "A"
   ]
  },
  {
   "cell_type": "code",
   "execution_count": 30,
   "metadata": {},
   "outputs": [
    {
     "name": "stdout",
     "output_type": "stream",
     "text": [
      "ans =\r\n",
      "\r\n",
      "   5   6\r\n",
      "\r\n"
     ]
    }
   ],
   "source": [
    "max(A)"
   ]
  },
  {
   "cell_type": "code",
   "execution_count": 31,
   "metadata": {},
   "outputs": [
    {
     "name": "stdout",
     "output_type": "stream",
     "text": [
      "ans =\r\n",
      "\r\n",
      "   0   0\r\n",
      "   1   1\r\n",
      "   1   1\r\n",
      "\r\n"
     ]
    }
   ],
   "source": [
    "A >=3"
   ]
  },
  {
   "cell_type": "code",
   "execution_count": 32,
   "metadata": {},
   "outputs": [
    {
     "name": "stdout",
     "output_type": "stream",
     "text": [
      "ans =\r\n",
      "\r\n",
      "   0   0\r\n",
      "   0   1\r\n",
      "   1   1\r\n",
      "\r\n"
     ]
    }
   ],
   "source": [
    "A > 3"
   ]
  },
  {
   "cell_type": "code",
   "execution_count": 33,
   "metadata": {},
   "outputs": [
    {
     "name": "stdout",
     "output_type": "stream",
     "text": [
      "ans =\r\n",
      "\r\n",
      "   1\r\n",
      "   4\r\n",
      "\r\n"
     ]
    }
   ],
   "source": [
    "find(A<3)"
   ]
  },
  {
   "cell_type": "code",
   "execution_count": 34,
   "metadata": {},
   "outputs": [
    {
     "name": "stdout",
     "output_type": "stream",
     "text": [
      "A =\r\n",
      "\r\n",
      "   1   2\r\n",
      "   3   4\r\n",
      "   5   6\r\n",
      "\r\n"
     ]
    }
   ],
   "source": [
    "A"
   ]
  },
  {
   "cell_type": "code",
   "execution_count": 35,
   "metadata": {},
   "outputs": [
    {
     "name": "stdout",
     "output_type": "stream",
     "text": [
      "v =\r\n",
      "\r\n",
      "   1\r\n",
      "   2\r\n",
      "   3\r\n",
      "\r\n"
     ]
    }
   ],
   "source": [
    "v"
   ]
  },
  {
   "cell_type": "code",
   "execution_count": 36,
   "metadata": {},
   "outputs": [
    {
     "name": "stdout",
     "output_type": "stream",
     "text": [
      "ans =\r\n",
      "\r\n",
      "   1\r\n",
      "   2\r\n",
      "\r\n"
     ]
    }
   ],
   "source": [
    "find(v<3)"
   ]
  },
  {
   "cell_type": "code",
   "execution_count": 37,
   "metadata": {},
   "outputs": [
    {
     "name": "stdout",
     "output_type": "stream",
     "text": [
      "A =\r\n",
      "\r\n",
      "   1   2\r\n",
      "   3   4\r\n",
      "   5   6\r\n",
      "\r\n"
     ]
    }
   ],
   "source": [
    "A"
   ]
  },
  {
   "cell_type": "code",
   "execution_count": 39,
   "metadata": {},
   "outputs": [
    {
     "name": "stdout",
     "output_type": "stream",
     "text": [
      "error: Invalid call to magic.  Correct usage is:\r\n",
      "\r\n",
      " -- Function File: magic (N)\r\n",
      "\r\n",
      "Additional help for built-in functions and operators is\r\n",
      "available in the online version of the manual.  Use the command\r\n",
      "'doc <topic>' to search the manual index.\r\n",
      "\r\n",
      "Help and information about Octave is also available on the WWW\r\n",
      "at http://www.octave.org and via the help@octave.org\r\n",
      "mailing list.\r\n"
     ]
    }
   ],
   "source": [
    "magic(2,2)"
   ]
  },
  {
   "cell_type": "code",
   "execution_count": 40,
   "metadata": {},
   "outputs": [
    {
     "name": "stdout",
     "output_type": "stream",
     "text": [
      "error: magic: N must be a positive integer not equal to 2\r\n",
      "error: called from\r\n",
      "    magic at line 37 column 5\r\n"
     ]
    }
   ],
   "source": [
    "magic(2)"
   ]
  },
  {
   "cell_type": "code",
   "execution_count": 41,
   "metadata": {},
   "outputs": [
    {
     "name": "stdout",
     "output_type": "stream",
     "text": [
      "ans =\r\n",
      "\r\n",
      "   8   1   6\r\n",
      "   3   5   7\r\n",
      "   4   9   2\r\n",
      "\r\n"
     ]
    }
   ],
   "source": [
    "magic(3)"
   ]
  },
  {
   "cell_type": "code",
   "execution_count": 42,
   "metadata": {},
   "outputs": [
    {
     "name": "stdout",
     "output_type": "stream",
     "text": [
      "A =\r\n",
      "\r\n",
      "   16    2    3   13\r\n",
      "    5   11   10    8\r\n",
      "    9    7    6   12\r\n",
      "    4   14   15    1\r\n",
      "\r\n"
     ]
    }
   ],
   "source": [
    "A = magic(4)"
   ]
  },
  {
   "cell_type": "code",
   "execution_count": 43,
   "metadata": {},
   "outputs": [
    {
     "name": "stdout",
     "output_type": "stream",
     "text": [
      "A =\r\n",
      "\r\n",
      "   16    2    3   13\r\n",
      "    5   11   10    8\r\n",
      "    9    7    6   12\r\n",
      "    4   14   15    1\r\n",
      "\r\n"
     ]
    }
   ],
   "source": [
    "A"
   ]
  },
  {
   "cell_type": "code",
   "execution_count": 44,
   "metadata": {},
   "outputs": [
    {
     "name": "stdout",
     "output_type": "stream",
     "text": [
      "r =\r\n",
      "\r\n",
      "   1\r\n",
      "   2\r\n",
      "   4\r\n",
      "   4\r\n",
      "   1\r\n",
      "   3\r\n",
      "\r\n",
      "c =\r\n",
      "\r\n",
      "   1\r\n",
      "   2\r\n",
      "   2\r\n",
      "   3\r\n",
      "   4\r\n",
      "   4\r\n",
      "\r\n"
     ]
    }
   ],
   "source": [
    "[r,c]=find(A>=11)"
   ]
  },
  {
   "cell_type": "code",
   "execution_count": 45,
   "metadata": {},
   "outputs": [
    {
     "name": "stdout",
     "output_type": "stream",
     "text": [
      "'find' is a built-in function from the file libinterp/corefcn/find.cc\r\n",
      "\r\n",
      " -- Built-in Function: IDX = find (X)\r\n",
      " -- Built-in Function: IDX = find (X, N)\r\n",
      " -- Built-in Function: IDX = find (X, N, DIRECTION)\r\n",
      " -- Built-in Function: [i, j] = find (...)\r\n",
      " -- Built-in Function: [i, j, v] = find (...)\r\n",
      "     Return a vector of indices of nonzero elements of a matrix, as a\r\n",
      "     row if X is a row vector or as a column otherwise.\r\n",
      "\r\n",
      "     To obtain a single index for each matrix element, Octave pretends\r\n",
      "     that the columns of a matrix form one long vector (like Fortran\r\n",
      "     arrays are stored).  For example:\r\n",
      "\r\n",
      "          find (eye (2))\r\n",
      "            => [ 1; 4 ]\r\n",
      "\r\n",
      "     If two inputs are given, N indicates the maximum number of elements\r\n",
      "     to find from the beginning of the matrix or vector.\r\n",
      "\r\n",
      "     If three inputs are given, DIRECTION should be one of \"first\" or\r\n",
      "     \"last\", requesting only the first or last N indices, respectively.\r\n",
      "     However, the indices are always returned in ascending order.\r\n",
      "\r\n",
      "     If two outputs are requested, 'find' returns the row and column\r\n",
      "     indices of nonzero elements of a matrix.  For example:\r\n",
      "\r\n",
      "          [i, j] = find (2 * eye (2))\r\n",
      "              => i = [ 1; 2 ]\r\n",
      "              => j = [ 1; 2 ]\r\n",
      "\r\n",
      "     If three outputs are requested, 'find' also returns a vector\r\n",
      "     containing the nonzero values.  For example:\r\n",
      "\r\n",
      "          [i, j, v] = find (3 * eye (2))\r\n",
      "                 => i = [ 1; 2 ]\r\n",
      "                 => j = [ 1; 2 ]\r\n",
      "                 => v = [ 3; 3 ]\r\n",
      "\r\n",
      "     Note that this function is particularly useful for sparse matrices,\r\n",
      "     as it extracts the nonzero elements as vectors, which can then be\r\n",
      "     used to create the original matrix.  For example:\r\n",
      "\r\n",
      "          sz = size (a);\r\n",
      "          [i, j, v] = find (a);\r\n",
      "          b = sparse (i, j, v, sz(1), sz(2));\r\n",
      "\r\n",
      "     See also: nonzeros.\r\n",
      "\r\n",
      "Additional help for built-in functions and operators is\r\n",
      "available in the online version of the manual.  Use the command\r\n",
      "'doc <topic>' to search the manual index.\r\n",
      "\r\n",
      "Help and information about Octave is also available on the WWW\r\n",
      "at http://www.octave.org and via the help@octave.org\r\n",
      "mailing list.\r\n"
     ]
    }
   ],
   "source": [
    "help find"
   ]
  },
  {
   "cell_type": "code",
   "execution_count": 46,
   "metadata": {},
   "outputs": [
    {
     "name": "stdout",
     "output_type": "stream",
     "text": [
      "ans =\r\n",
      "\r\n",
      "   34   34   34   34\r\n",
      "\r\n"
     ]
    }
   ],
   "source": [
    "sum(A)"
   ]
  },
  {
   "cell_type": "code",
   "execution_count": 47,
   "metadata": {},
   "outputs": [
    {
     "name": "stdout",
     "output_type": "stream",
     "text": [
      "Variables in the current scope:\r\n",
      "\r\n",
      "   Attr Name        Size                     Bytes  Class\r\n",
      "   ==== ====        ====                     =====  ===== \r\n",
      "        A           4x4                        128  double\r\n",
      "        B           3x2                         48  double\r\n",
      "        C           2x2                         32  double\r\n",
      "        ans         1x4                         32  double\r\n",
      "        c           6x1                         24  double\r\n",
      "        ind         1x1                          8  double\r\n",
      "        neg_A       3x2                         48  double\r\n",
      "        r           6x1                         24  double\r\n",
      "        v           3x1                         24  double\r\n",
      "        val         1x1                          8  double\r\n",
      "\r\n",
      "Total is 53 elements using 376 bytes\r\n",
      "\r\n"
     ]
    }
   ],
   "source": [
    "whos"
   ]
  },
  {
   "cell_type": "code",
   "execution_count": 48,
   "metadata": {},
   "outputs": [
    {
     "name": "stdout",
     "output_type": "stream",
     "text": [
      "r =\r\n",
      "\r\n",
      "   1\r\n",
      "   2\r\n",
      "   4\r\n",
      "   4\r\n",
      "   1\r\n",
      "   3\r\n",
      "\r\n"
     ]
    }
   ],
   "source": [
    "r"
   ]
  },
  {
   "cell_type": "code",
   "execution_count": 49,
   "metadata": {},
   "outputs": [
    {
     "name": "stdout",
     "output_type": "stream",
     "text": [
      "ans =  15\r\n"
     ]
    }
   ],
   "source": [
    "sum(r)"
   ]
  },
  {
   "cell_type": "code",
   "execution_count": 50,
   "metadata": {},
   "outputs": [
    {
     "name": "stdout",
     "output_type": "stream",
     "text": [
      "ans =  96\r\n"
     ]
    }
   ],
   "source": [
    "prod(r)"
   ]
  },
  {
   "cell_type": "code",
   "execution_count": 51,
   "metadata": {},
   "outputs": [
    {
     "name": "stdout",
     "output_type": "stream",
     "text": [
      "error: 'a' undefined near line 1 column 7\r\n",
      "error: evaluating argument list element number 1\r\n"
     ]
    }
   ],
   "source": [
    "floor(a)"
   ]
  },
  {
   "cell_type": "code",
   "execution_count": 52,
   "metadata": {},
   "outputs": [
    {
     "name": "stdout",
     "output_type": "stream",
     "text": [
      "ans =\r\n",
      "\r\n",
      "   1\r\n",
      "   2\r\n",
      "   4\r\n",
      "   4\r\n",
      "   1\r\n",
      "   3\r\n",
      "\r\n"
     ]
    }
   ],
   "source": [
    "floor(r)"
   ]
  },
  {
   "cell_type": "code",
   "execution_count": 53,
   "metadata": {},
   "outputs": [
    {
     "name": "stdout",
     "output_type": "stream",
     "text": [
      "r =\r\n",
      "\r\n",
      "   0.937637   0.900143   0.619822   0.095604   0.512943   0.458426\r\n",
      "   0.326835   0.577797   0.043528   0.887427   0.643955   0.316871\r\n",
      "   0.802693   0.634773   0.961398   0.508949   0.761036   0.598955\r\n",
      "   0.115502   0.618335   0.312890   0.312612   0.819965   0.048115\r\n",
      "   0.611307   0.521778   0.583562   0.532033   0.308387   0.452815\r\n",
      "   0.329171   0.708417   0.586371   0.227823   0.939059   0.550549\r\n",
      "\r\n"
     ]
    }
   ],
   "source": [
    "r = rand(6)"
   ]
  },
  {
   "cell_type": "code",
   "execution_count": 54,
   "metadata": {},
   "outputs": [
    {
     "name": "stdout",
     "output_type": "stream",
     "text": [
      "'rand' is a built-in function from the file libinterp/corefcn/rand.cc\r\n",
      "\r\n",
      " -- Built-in Function: rand (N)\r\n",
      " -- Built-in Function: rand (M, N, ...)\r\n",
      " -- Built-in Function: rand ([M N ...])\r\n",
      " -- Built-in Function: V = rand (\"state\")\r\n",
      " -- Built-in Function: rand (\"state\", V)\r\n",
      " -- Built-in Function: rand (\"state\", \"reset\")\r\n",
      " -- Built-in Function: V = rand (\"seed\")\r\n",
      " -- Built-in Function: rand (\"seed\", V)\r\n",
      " -- Built-in Function: rand (\"seed\", \"reset\")\r\n",
      " -- Built-in Function: rand (..., \"single\")\r\n",
      " -- Built-in Function: rand (..., \"double\")\r\n",
      "     Return a matrix with random elements uniformly distributed on the\r\n",
      "     interval (0, 1).\r\n",
      "\r\n",
      "     The arguments are handled the same as the arguments for 'eye'.\r\n",
      "\r\n",
      "     You can query the state of the random number generator using the\r\n",
      "     form\r\n",
      "\r\n",
      "          v = rand (\"state\")\r\n",
      "\r\n",
      "     This returns a column vector V of length 625.  Later, you can\r\n",
      "     restore the random number generator to the state V using the form\r\n",
      "\r\n",
      "          rand (\"state\", v)\r\n",
      "\r\n",
      "     You may also initialize the state vector from an arbitrary vector\r\n",
      "     of length <= 625 for V.  This new state will be a hash based on the\r\n",
      "     value of V, not V itself.\r\n",
      "\r\n",
      "     By default, the generator is initialized from '/dev/urandom' if it\r\n",
      "     is available, otherwise from CPU time, wall clock time, and the\r\n",
      "     current fraction of a second.  Note that this differs from MATLAB,\r\n",
      "     which always initializes the state to the same state at startup.\r\n",
      "     To obtain behavior comparable to MATLAB, initialize with a\r\n",
      "     deterministic state vector in Octave's startup files (*note Startup\r\n",
      "     Files::).\r\n",
      "\r\n",
      "     To compute the pseudo-random sequence, 'rand' uses the Mersenne\r\n",
      "     Twister with a period of 2^{19937}-1 (See M. Matsumoto and T.\r\n",
      "     Nishimura, 'Mersenne Twister: A 623-dimensionally equidistributed\r\n",
      "     uniform pseudorandom number generator', ACM Trans.  on Modeling and\r\n",
      "     Computer Simulation Vol.  8, No.  1, pp.  3-30, January 1998,\r\n",
      "     <http://www.math.sci.hiroshima-u.ac.jp/~m-mat/MT/emt.html>).  Do\r\n",
      "     *not* use for cryptography without securely hashing several\r\n",
      "     returned values together, otherwise the generator state can be\r\n",
      "     learned after reading 624 consecutive values.\r\n",
      "\r\n",
      "     Older versions of Octave used a different random number generator.\r\n",
      "     The new generator is used by default as it is significantly faster\r\n",
      "     than the old generator, and produces random numbers with a\r\n",
      "     significantly longer cycle time.  However, in some circumstances it\r\n",
      "     might be desirable to obtain the same random sequences as produced\r\n",
      "     by the old generators.  To do this the keyword \"seed\" is used to\r\n",
      "     specify that the old generators should be used, as in\r\n",
      "\r\n",
      "          rand (\"seed\", val)\r\n",
      "\r\n",
      "     which sets the seed of the generator to VAL.  The seed of the\r\n",
      "     generator can be queried with\r\n",
      "\r\n",
      "          s = rand (\"seed\")\r\n",
      "\r\n",
      "     However, it should be noted that querying the seed will not cause\r\n",
      "     'rand' to use the old generators, only setting the seed will.  To\r\n",
      "     cause 'rand' to once again use the new generators, the keyword\r\n",
      "     \"state\" should be used to reset the state of the 'rand'.\r\n",
      "\r\n",
      "     The state or seed of the generator can be reset to a new random\r\n",
      "     value using the \"reset\" keyword.\r\n",
      "\r\n",
      "     The class of the value returned can be controlled by a trailing\r\n",
      "     \"double\" or \"single\" argument.  These are the only valid classes.\r\n",
      "\r\n",
      "     See also: randn, rande, randg, randp.\r\n",
      "\r\n",
      "Additional help for built-in functions and operators is\r\n",
      "available in the online version of the manual.  Use the command\r\n",
      "'doc <topic>' to search the manual index.\r\n",
      "\r\n",
      "Help and information about Octave is also available on the WWW\r\n",
      "at http://www.octave.org and via the help@octave.org\r\n",
      "mailing list.\r\n"
     ]
    }
   ],
   "source": [
    "help rand"
   ]
  },
  {
   "cell_type": "code",
   "execution_count": 55,
   "metadata": {},
   "outputs": [
    {
     "name": "stdout",
     "output_type": "stream",
     "text": [
      "r =\r\n",
      "\r\n",
      "   0.176099\r\n",
      "   0.303530\r\n",
      "   0.378864\r\n",
      "   0.081997\r\n",
      "   0.821298\r\n",
      "   0.644737\r\n",
      "\r\n"
     ]
    }
   ],
   "source": [
    "r = rand(6,1)"
   ]
  },
  {
   "cell_type": "code",
   "execution_count": 56,
   "metadata": {},
   "outputs": [
    {
     "name": "stdout",
     "output_type": "stream",
     "text": [
      "ans =\r\n",
      "\r\n",
      "   0\r\n",
      "   0\r\n",
      "   0\r\n",
      "   0\r\n",
      "   0\r\n",
      "   0\r\n",
      "\r\n"
     ]
    }
   ],
   "source": [
    "floor(r)"
   ]
  },
  {
   "cell_type": "code",
   "execution_count": 57,
   "metadata": {},
   "outputs": [
    {
     "name": "stdout",
     "output_type": "stream",
     "text": [
      "ans =\r\n",
      "\r\n",
      "   1\r\n",
      "   1\r\n",
      "   1\r\n",
      "   1\r\n",
      "   1\r\n",
      "   1\r\n",
      "\r\n"
     ]
    }
   ],
   "source": [
    "ceil(r)"
   ]
  },
  {
   "cell_type": "code",
   "execution_count": 58,
   "metadata": {},
   "outputs": [
    {
     "name": "stdout",
     "output_type": "stream",
     "text": [
      "ans =\r\n",
      "\r\n",
      "   0.82501   0.97323   0.57954\r\n",
      "   0.60668   0.42797   0.62784\r\n",
      "   0.73847   0.93388   0.20803\r\n",
      "\r\n"
     ]
    }
   ],
   "source": [
    "max(rand(3),rand(3))"
   ]
  },
  {
   "cell_type": "code",
   "execution_count": 59,
   "metadata": {},
   "outputs": [
    {
     "name": "stdout",
     "output_type": "stream",
     "text": [
      "A =\r\n",
      "\r\n",
      "   16    2    3   13\r\n",
      "    5   11   10    8\r\n",
      "    9    7    6   12\r\n",
      "    4   14   15    1\r\n",
      "\r\n"
     ]
    }
   ],
   "source": [
    "A"
   ]
  },
  {
   "cell_type": "code",
   "execution_count": 60,
   "metadata": {},
   "outputs": [
    {
     "name": "stdout",
     "output_type": "stream",
     "text": [
      "ans =\r\n",
      "\r\n",
      "   16   14   15   13\r\n",
      "\r\n"
     ]
    }
   ],
   "source": [
    "max(A,[],1)"
   ]
  },
  {
   "cell_type": "code",
   "execution_count": 61,
   "metadata": {},
   "outputs": [
    {
     "name": "stdout",
     "output_type": "stream",
     "text": [
      "ans =\r\n",
      "\r\n",
      "   16   14   15   13\r\n",
      "\r\n"
     ]
    }
   ],
   "source": [
    "max(A)"
   ]
  },
  {
   "cell_type": "code",
   "execution_count": 62,
   "metadata": {},
   "outputs": [
    {
     "name": "stdout",
     "output_type": "stream",
     "text": [
      "ans =\r\n",
      "\r\n",
      "   16\r\n",
      "   11\r\n",
      "   12\r\n",
      "   15\r\n",
      "\r\n"
     ]
    }
   ],
   "source": [
    "max(A,[],2)"
   ]
  },
  {
   "cell_type": "code",
   "execution_count": 63,
   "metadata": {},
   "outputs": [
    {
     "name": "stdout",
     "output_type": "stream",
     "text": [
      "ans =  16\r\n"
     ]
    }
   ],
   "source": [
    "max(max(A))"
   ]
  },
  {
   "cell_type": "code",
   "execution_count": 65,
   "metadata": {},
   "outputs": [
    {
     "name": "stdout",
     "output_type": "stream",
     "text": [
      "ans =  16\r\n"
     ]
    }
   ],
   "source": [
    "max(A(:))"
   ]
  },
  {
   "cell_type": "code",
   "execution_count": 66,
   "metadata": {},
   "outputs": [
    {
     "name": "stdout",
     "output_type": "stream",
     "text": [
      "A =\r\n",
      "\r\n",
      "   16    2    3   13\r\n",
      "    5   11   10    8\r\n",
      "    9    7    6   12\r\n",
      "    4   14   15    1\r\n",
      "\r\n"
     ]
    }
   ],
   "source": [
    "A"
   ]
  },
  {
   "cell_type": "code",
   "execution_count": 67,
   "metadata": {},
   "outputs": [
    {
     "name": "stdout",
     "output_type": "stream",
     "text": [
      "ans =\r\n",
      "\r\n",
      "   34   34   34   34\r\n",
      "\r\n"
     ]
    }
   ],
   "source": [
    "sum(A,1)"
   ]
  },
  {
   "cell_type": "code",
   "execution_count": 68,
   "metadata": {},
   "outputs": [
    {
     "name": "stdout",
     "output_type": "stream",
     "text": [
      "ans =  1\r\n"
     ]
    }
   ],
   "source": [
    "sum(1,A)"
   ]
  },
  {
   "cell_type": "code",
   "execution_count": 69,
   "metadata": {},
   "outputs": [
    {
     "name": "stdout",
     "output_type": "stream",
     "text": [
      "Variables in the current scope:\r\n",
      "\r\n",
      "   Attr Name        Size                     Bytes  Class\r\n",
      "   ==== ====        ====                     =====  ===== \r\n",
      "        A           4x4                        128  double\r\n",
      "        B           3x2                         48  double\r\n",
      "        C           2x2                         32  double\r\n",
      "        ans         1x1                          8  double\r\n",
      "        c           6x1                         24  double\r\n",
      "        ind         1x1                          8  double\r\n",
      "        neg_A       3x2                         48  double\r\n",
      "        r           6x1                         48  double\r\n",
      "        v           3x1                         24  double\r\n",
      "        val         1x1                          8  double\r\n",
      "\r\n",
      "Total is 50 elements using 376 bytes\r\n",
      "\r\n"
     ]
    }
   ],
   "source": [
    "whos"
   ]
  },
  {
   "cell_type": "code",
   "execution_count": 70,
   "metadata": {},
   "outputs": [
    {
     "name": "stdout",
     "output_type": "stream",
     "text": [
      "B =\r\n",
      "\r\n",
      "   11   12\r\n",
      "   13   14\r\n",
      "   15   16\r\n",
      "\r\n"
     ]
    }
   ],
   "source": [
    "B"
   ]
  },
  {
   "cell_type": "code",
   "execution_count": 71,
   "metadata": {},
   "outputs": [
    {
     "name": "stdout",
     "output_type": "stream",
     "text": [
      "ans =\r\n",
      "\r\n",
      "   39   42\r\n",
      "\r\n"
     ]
    }
   ],
   "source": [
    "sum(B,1)"
   ]
  },
  {
   "cell_type": "code",
   "execution_count": 72,
   "metadata": {},
   "outputs": [
    {
     "name": "stdout",
     "output_type": "stream",
     "text": [
      "ans =\r\n",
      "\r\n",
      "   23\r\n",
      "   27\r\n",
      "   31\r\n",
      "\r\n"
     ]
    }
   ],
   "source": [
    "sum(B,2)"
   ]
  },
  {
   "cell_type": "code",
   "execution_count": 73,
   "metadata": {},
   "outputs": [
    {
     "name": "stdout",
     "output_type": "stream",
     "text": [
      "'sum' is a built-in function from the file libinterp/corefcn/data.cc\r\n",
      "\r\n",
      " -- Built-in Function: sum (X)\r\n",
      " -- Built-in Function: sum (X, DIM)\r\n",
      " -- Built-in Function: sum (..., \"native\")\r\n",
      " -- Built-in Function: sum (..., \"double\")\r\n",
      " -- Built-in Function: sum (..., \"extra\")\r\n",
      "     Sum of elements along dimension DIM.\r\n",
      "\r\n",
      "     If DIM is omitted, it defaults to the first non-singleton\r\n",
      "     dimension.\r\n",
      "\r\n",
      "     The optional \"type\" input determines the class of the variable used\r\n",
      "     for calculations.  If the argument \"native\" is given, then the\r\n",
      "     operation is performed in the same type as the original argument,\r\n",
      "     rather than the default double type.\r\n",
      "\r\n",
      "     For example:\r\n",
      "\r\n",
      "          sum ([true, true])\r\n",
      "             => 2\r\n",
      "          sum ([true, true], \"native\")\r\n",
      "             => true\r\n",
      "\r\n",
      "     On the contrary, if \"double\" is given, the sum is performed in\r\n",
      "     double precision even for single precision inputs.\r\n",
      "\r\n",
      "     For double precision inputs, the \"extra\" option will use a more\r\n",
      "     accurate algorithm than straightforward summation.  For single\r\n",
      "     precision inputs, \"extra\" is the same as \"double\".  Otherwise,\r\n",
      "     \"extra\" has no effect.\r\n",
      "\r\n",
      "     See also: cumsum, sumsq, prod.\r\n",
      "\r\n",
      "Additional help for built-in functions and operators is\r\n",
      "available in the online version of the manual.  Use the command\r\n",
      "'doc <topic>' to search the manual index.\r\n",
      "\r\n",
      "Help and information about Octave is also available on the WWW\r\n",
      "at http://www.octave.org and via the help@octave.org\r\n",
      "mailing list.\r\n"
     ]
    }
   ],
   "source": [
    "help sum"
   ]
  },
  {
   "cell_type": "code",
   "execution_count": 74,
   "metadata": {},
   "outputs": [
    {
     "name": "stdout",
     "output_type": "stream",
     "text": [
      "error: sum: invalid dimension DIM = 0\r\n"
     ]
    }
   ],
   "source": [
    "sum(B,0)"
   ]
  },
  {
   "cell_type": "code",
   "execution_count": 75,
   "metadata": {},
   "outputs": [
    {
     "name": "stdout",
     "output_type": "stream",
     "text": [
      "ans =\r\n",
      "\r\n",
      "   11\r\n",
      "   13\r\n",
      "   15\r\n",
      "\r\n"
     ]
    }
   ],
   "source": [
    "B(:,1)"
   ]
  },
  {
   "cell_type": "code",
   "execution_count": 76,
   "metadata": {},
   "outputs": [
    {
     "name": "stdout",
     "output_type": "stream",
     "text": [
      "ans =\r\n",
      "\r\n",
      "   11   12\r\n",
      "\r\n"
     ]
    }
   ],
   "source": [
    "B(1,:)"
   ]
  },
  {
   "cell_type": "code",
   "execution_count": 77,
   "metadata": {},
   "outputs": [
    {
     "name": "stdout",
     "output_type": "stream",
     "text": [
      "A =\r\n",
      "\r\n",
      "   16    2    3   13\r\n",
      "    5   11   10    8\r\n",
      "    9    7    6   12\r\n",
      "    4   14   15    1\r\n",
      "\r\n"
     ]
    }
   ],
   "source": [
    "A"
   ]
  },
  {
   "cell_type": "code",
   "execution_count": 78,
   "metadata": {},
   "outputs": [
    {
     "name": "stdout",
     "output_type": "stream",
     "text": [
      "ans =  34\r\n"
     ]
    }
   ],
   "source": [
    " sum(sum(A.*eye(4)))"
   ]
  },
  {
   "cell_type": "code",
   "execution_count": 79,
   "metadata": {},
   "outputs": [
    {
     "name": "stdout",
     "output_type": "stream",
     "text": [
      "ans =\r\n",
      "\r\n",
      "Diagonal Matrix\r\n",
      "\r\n",
      "   1   0   0   0\r\n",
      "   0   1   0   0\r\n",
      "   0   0   1   0\r\n",
      "   0   0   0   1\r\n",
      "\r\n"
     ]
    }
   ],
   "source": [
    "eye(4)"
   ]
  },
  {
   "cell_type": "code",
   "execution_count": 80,
   "metadata": {},
   "outputs": [
    {
     "name": "stdout",
     "output_type": "stream",
     "text": [
      "ans =\r\n",
      "\r\n",
      "Permutation Matrix\r\n",
      "\r\n",
      "   0   0   0   1\r\n",
      "   0   0   1   0\r\n",
      "   0   1   0   0\r\n",
      "   1   0   0   0\r\n",
      "\r\n"
     ]
    }
   ],
   "source": [
    "flipud(eye(4))"
   ]
  },
  {
   "cell_type": "code",
   "execution_count": 81,
   "metadata": {},
   "outputs": [
    {
     "name": "stdout",
     "output_type": "stream",
     "text": [
      "A_inv =\r\n",
      "\r\n",
      "   0.1011029  -0.0738971  -0.0613971   0.0636029\r\n",
      "  -0.0363971   0.0386029   0.0261029   0.0011029\r\n",
      "   0.0136029  -0.0113971  -0.0238971   0.0511029\r\n",
      "  -0.0488971   0.0761029   0.0886029  -0.0863971\r\n",
      "\r\n"
     ]
    }
   ],
   "source": [
    "A_inv = pinv(A) %pseudo-inverse"
   ]
  },
  {
   "cell_type": "code",
   "execution_count": 82,
   "metadata": {},
   "outputs": [
    {
     "name": "stdout",
     "output_type": "stream",
     "text": [
      "ans =\r\n",
      "\r\n",
      "   0.950000  -0.150000   0.150000   0.050000\r\n",
      "  -0.150000   0.550000   0.450000   0.150000\r\n",
      "   0.150000   0.450000   0.550000  -0.150000\r\n",
      "   0.050000   0.150000  -0.150000   0.950000\r\n",
      "\r\n"
     ]
    }
   ],
   "source": [
    "A_inv * A"
   ]
  },
  {
   "cell_type": "code",
   "execution_count": 83,
   "metadata": {},
   "outputs": [
    {
     "name": "stdout",
     "output_type": "stream",
     "text": [
      "ans =\r\n",
      "\r\n",
      "   0.950000  -0.150000   0.150000   0.050000\r\n",
      "  -0.150000   0.550000   0.450000   0.150000\r\n",
      "   0.150000   0.450000   0.550000  -0.150000\r\n",
      "   0.050000   0.150000  -0.150000   0.950000\r\n",
      "\r\n"
     ]
    }
   ],
   "source": [
    "A * A_inv"
   ]
  },
  {
   "cell_type": "code",
   "execution_count": 84,
   "metadata": {},
   "outputs": [
    {
     "name": "stdout",
     "output_type": "stream",
     "text": [
      "ans =\r\n",
      "\r\n",
      "   4   4\r\n",
      "\r\n"
     ]
    }
   ],
   "source": [
    "size(A)"
   ]
  },
  {
   "cell_type": "code",
   "execution_count": 85,
   "metadata": {},
   "outputs": [
    {
     "name": "stdout",
     "output_type": "stream",
     "text": [
      "Variables in the current scope:\r\n",
      "\r\n",
      "   Attr Name        Size                     Bytes  Class\r\n",
      "   ==== ====        ====                     =====  ===== \r\n",
      "        A           4x4                        128  double\r\n",
      "        A_inv       4x4                        128  double\r\n",
      "        B           3x2                         48  double\r\n",
      "        C           2x2                         32  double\r\n",
      "        ans         1x2                         16  double\r\n",
      "        c           6x1                         24  double\r\n",
      "        ind         1x1                          8  double\r\n",
      "        neg_A       3x2                         48  double\r\n",
      "        r           6x1                         48  double\r\n",
      "        v           3x1                         24  double\r\n",
      "        val         1x1                          8  double\r\n",
      "\r\n",
      "Total is 67 elements using 512 bytes\r\n",
      "\r\n"
     ]
    }
   ],
   "source": [
    "whos"
   ]
  },
  {
   "cell_type": "code",
   "execution_count": 86,
   "metadata": {},
   "outputs": [
    {
     "name": "stdout",
     "output_type": "stream",
     "text": [
      "A =\r\n",
      "\r\n",
      "   8   1   6\r\n",
      "   3   5   7\r\n",
      "   4   9   2\r\n",
      "\r\n"
     ]
    }
   ],
   "source": [
    "A = magic(3)"
   ]
  },
  {
   "cell_type": "code",
   "execution_count": 87,
   "metadata": {},
   "outputs": [
    {
     "name": "stdout",
     "output_type": "stream",
     "text": [
      "A_inv =\r\n",
      "\r\n",
      "   0.147222  -0.144444   0.063889\r\n",
      "  -0.061111   0.022222   0.105556\r\n",
      "  -0.019444   0.188889  -0.102778\r\n",
      "\r\n"
     ]
    }
   ],
   "source": [
    "A_inv = pinv(A)"
   ]
  },
  {
   "cell_type": "code",
   "execution_count": 88,
   "metadata": {},
   "outputs": [
    {
     "name": "stdout",
     "output_type": "stream",
     "text": [
      "ans =\r\n",
      "\r\n",
      "   1.00000   0.00000  -0.00000\r\n",
      "  -0.00000   1.00000   0.00000\r\n",
      "   0.00000   0.00000   1.00000\r\n",
      "\r\n"
     ]
    }
   ],
   "source": [
    "A_inv * A"
   ]
  },
  {
   "cell_type": "code",
   "execution_count": 89,
   "metadata": {},
   "outputs": [
    {
     "name": "stdout",
     "output_type": "stream",
     "text": [
      "ans =\r\n",
      "\r\n",
      "   1.0000e+00  -1.2212e-14   6.3283e-15\r\n",
      "   5.5511e-17   1.0000e+00  -2.2204e-16\r\n",
      "  -5.9952e-15   1.2268e-14   1.0000e+00\r\n",
      "\r\n"
     ]
    }
   ],
   "source": [
    "A * A_inv"
   ]
  }
 ],
 "metadata": {
  "kernelspec": {
   "display_name": "Octave",
   "language": "octave",
   "name": "octave"
  },
  "language_info": {
   "file_extension": ".m",
   "help_links": [
    {
     "text": "GNU Octave",
     "url": "https://www.gnu.org/software/octave/support.html"
    },
    {
     "text": "Octave Kernel",
     "url": "https://github.com/Calysto/octave_kernel"
    },
    {
     "text": "MetaKernel Magics",
     "url": "https://metakernel.readthedocs.io/en/latest/source/README.html"
    }
   ],
   "mimetype": "text/x-octave",
   "name": "octave",
   "version": "4.0.3"
  }
 },
 "nbformat": 4,
 "nbformat_minor": 2
}
